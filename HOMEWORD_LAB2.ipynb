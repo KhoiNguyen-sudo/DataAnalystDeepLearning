{
  "nbformat": 4,
  "nbformat_minor": 0,
  "metadata": {
    "colab": {
      "name": "HOMEWORD-LAB2.ipynb",
      "provenance": [],
      "collapsed_sections": [],
      "mount_file_id": "1wfFO0_UUfBY6bFSEDVimp05aU4q5YusD",
      "authorship_tag": "ABX9TyNO8Pqr1yz4NGYfbQsoWVvF",
      "include_colab_link": true
    },
    "kernelspec": {
      "name": "python3",
      "display_name": "Python 3"
    },
    "language_info": {
      "name": "python"
    }
  },
  "cells": [
    {
      "cell_type": "markdown",
      "metadata": {
        "id": "view-in-github",
        "colab_type": "text"
      },
      "source": [
        "<a href=\"https://colab.research.google.com/github/KhoiNguyen-sudo/DataAnalystDeepLearning/blob/main/HOMEWORD_LAB2.ipynb\" target=\"_parent\"><img src=\"https://colab.research.google.com/assets/colab-badge.svg\" alt=\"Open In Colab\"/></a>"
      ]
    },
    {
      "cell_type": "code",
      "metadata": {
        "id": "3sOTd9f-hGIi"
      },
      "source": [
        "#LAB2  \n",
        "#Nguồn tham khảo code: Nguyễn Thái Anh, Hồ Quốc hùng, Lê Thị Thanh Ngân"
      ],
      "execution_count": 2,
      "outputs": []
    },
    {
      "cell_type": "code",
      "metadata": {
        "id": "JG1aTOVrggDA"
      },
      "source": [
        "# Phần 1: Thống kê dữ liệu"
      ],
      "execution_count": 3,
      "outputs": []
    },
    {
      "cell_type": "code",
      "metadata": {
        "colab": {
          "base_uri": "https://localhost:8080/"
        },
        "id": "NhaW9BLwhytv",
        "outputId": "39d4b02b-457f-4e18-ac16-cd4703e30a4e"
      },
      "source": [
        "# Gọi thư viện để gọi datafarme\n",
        "import pandas as pd\n",
        "import matplotlib.pyplot as plt# thư viện để vẽ\n",
        "df = pd.read_csv(\"/content/drive/MyDrive/PHAN-TICH-DU-LIEU-LON-VA-HOC-SAU/dulieuxettuyendaihoc.csv\") \n",
        "print(df.head()) # in 5 dòng đầu tiên"
      ],
      "execution_count": 4,
      "outputs": [
        {
          "output_type": "stream",
          "name": "stdout",
          "text": [
            "   Unnamed: 0  Unnamed: 0.1  STT   T1   L1  ...  US_TBM3  KQXT  XL1  XL2  XL3\n",
            "0           0             0    1  7.2  7.3  ...    2.804   0.0    K    K    K\n",
            "1           1             1    2  5.4  3.9  ...    2.028   0.0    Y   TB   TB\n",
            "2           2             2    3  5.6  6.8  ...    2.416   1.0   TB   TB   TB\n",
            "3           3             3    4  6.6  6.4  ...    2.752   0.0   TB   TB    K\n",
            "4           4             4    5  6.0  5.0  ...    2.796   0.0    K   TB    K\n",
            "\n",
            "[5 rows x 68 columns]\n"
          ]
        }
      ]
    },
    {
      "cell_type": "code",
      "metadata": {
        "id": "nwwe6p9KjGsQ"
      },
      "source": [
        "#Câu 1 Hãy sắp xếp dữ liệu điểm DH1 theo thứ tự tăng dần "
      ],
      "execution_count": 5,
      "outputs": []
    },
    {
      "cell_type": "code",
      "metadata": {
        "id": "Vkw9Bo9GjeQz",
        "colab": {
          "base_uri": "https://localhost:8080/",
          "height": 461
        },
        "outputId": "1feb0057-bc46-460a-e5e2-e06b16a9a314"
      },
      "source": [
        "# nó chỉ sắp xếp DH1 , Nó sắp sếp tăng dần  \n",
        "# CT :bên trong sort_values \n",
        "\"\"\" \n",
        "DataFrame.sort_values ​​(by, axis = 0, ascending = True, inplace = False, kind = 'quicksort', na_position = 'last') \n",
        "\"\"\" \n",
        "# ascending = Fale : nó sẽ giảm dần\n",
        "df.sort_values(by=\"DH1\") "
      ],
      "execution_count": 6,
      "outputs": [
        {
          "output_type": "execute_result",
          "data": {
            "text/html": [
              "<div>\n",
              "<style scoped>\n",
              "    .dataframe tbody tr th:only-of-type {\n",
              "        vertical-align: middle;\n",
              "    }\n",
              "\n",
              "    .dataframe tbody tr th {\n",
              "        vertical-align: top;\n",
              "    }\n",
              "\n",
              "    .dataframe thead th {\n",
              "        text-align: right;\n",
              "    }\n",
              "</style>\n",
              "<table border=\"1\" class=\"dataframe\">\n",
              "  <thead>\n",
              "    <tr style=\"text-align: right;\">\n",
              "      <th></th>\n",
              "      <th>Unnamed: 0</th>\n",
              "      <th>Unnamed: 0.1</th>\n",
              "      <th>STT</th>\n",
              "      <th>T1</th>\n",
              "      <th>L1</th>\n",
              "      <th>H1</th>\n",
              "      <th>S1</th>\n",
              "      <th>V1</th>\n",
              "      <th>X1</th>\n",
              "      <th>D1</th>\n",
              "      <th>N1</th>\n",
              "      <th>T2</th>\n",
              "      <th>L2</th>\n",
              "      <th>H2</th>\n",
              "      <th>S2</th>\n",
              "      <th>V2</th>\n",
              "      <th>X2</th>\n",
              "      <th>D2</th>\n",
              "      <th>N2</th>\n",
              "      <th>T3</th>\n",
              "      <th>L3</th>\n",
              "      <th>H3</th>\n",
              "      <th>S3</th>\n",
              "      <th>V3</th>\n",
              "      <th>X3</th>\n",
              "      <th>D3</th>\n",
              "      <th>N3</th>\n",
              "      <th>T4</th>\n",
              "      <th>L4</th>\n",
              "      <th>H4</th>\n",
              "      <th>S4</th>\n",
              "      <th>V4</th>\n",
              "      <th>X4</th>\n",
              "      <th>D4</th>\n",
              "      <th>N4</th>\n",
              "      <th>T5</th>\n",
              "      <th>L5</th>\n",
              "      <th>H5</th>\n",
              "      <th>S5</th>\n",
              "      <th>V5</th>\n",
              "      <th>X5</th>\n",
              "      <th>D5</th>\n",
              "      <th>N5</th>\n",
              "      <th>T6</th>\n",
              "      <th>L6</th>\n",
              "      <th>H6</th>\n",
              "      <th>S6</th>\n",
              "      <th>V6</th>\n",
              "      <th>X6</th>\n",
              "      <th>D6</th>\n",
              "      <th>N6</th>\n",
              "      <th>GT</th>\n",
              "      <th>DT</th>\n",
              "      <th>KV</th>\n",
              "      <th>DH1</th>\n",
              "      <th>DH2</th>\n",
              "      <th>DH3</th>\n",
              "      <th>KT</th>\n",
              "      <th>TBM1</th>\n",
              "      <th>TBM2</th>\n",
              "      <th>TBM3</th>\n",
              "      <th>US_TBM1</th>\n",
              "      <th>US_TBM2</th>\n",
              "      <th>US_TBM3</th>\n",
              "      <th>KQXT</th>\n",
              "      <th>XL1</th>\n",
              "      <th>XL2</th>\n",
              "      <th>XL3</th>\n",
              "    </tr>\n",
              "  </thead>\n",
              "  <tbody>\n",
              "    <tr>\n",
              "      <th>53</th>\n",
              "      <td>53</td>\n",
              "      <td>53</td>\n",
              "      <td>54</td>\n",
              "      <td>4.9</td>\n",
              "      <td>5.9</td>\n",
              "      <td>6.2</td>\n",
              "      <td>5.6</td>\n",
              "      <td>5.9</td>\n",
              "      <td>5.0</td>\n",
              "      <td>7.0</td>\n",
              "      <td>5.6</td>\n",
              "      <td>6.1</td>\n",
              "      <td>7.1</td>\n",
              "      <td>6.4</td>\n",
              "      <td>6.0</td>\n",
              "      <td>6.3</td>\n",
              "      <td>5.5</td>\n",
              "      <td>6.2</td>\n",
              "      <td>6.6</td>\n",
              "      <td>2.5</td>\n",
              "      <td>4.8</td>\n",
              "      <td>5.0</td>\n",
              "      <td>5.0</td>\n",
              "      <td>4.5</td>\n",
              "      <td>2.4</td>\n",
              "      <td>5.8</td>\n",
              "      <td>3.7</td>\n",
              "      <td>6.2</td>\n",
              "      <td>4.1</td>\n",
              "      <td>4.4</td>\n",
              "      <td>5.2</td>\n",
              "      <td>4.1</td>\n",
              "      <td>6.3</td>\n",
              "      <td>4.9</td>\n",
              "      <td>4.6</td>\n",
              "      <td>4.9</td>\n",
              "      <td>5.2</td>\n",
              "      <td>4.9</td>\n",
              "      <td>5.5</td>\n",
              "      <td>5.5</td>\n",
              "      <td>4.6</td>\n",
              "      <td>5.5</td>\n",
              "      <td>5.4</td>\n",
              "      <td>6.5</td>\n",
              "      <td>7.5</td>\n",
              "      <td>6.1</td>\n",
              "      <td>5.6</td>\n",
              "      <td>5.2</td>\n",
              "      <td>5.7</td>\n",
              "      <td>5.6</td>\n",
              "      <td>6.3</td>\n",
              "      <td>M</td>\n",
              "      <td>0.0</td>\n",
              "      <td>1</td>\n",
              "      <td>1.00</td>\n",
              "      <td>5.50</td>\n",
              "      <td>4.25</td>\n",
              "      <td>A</td>\n",
              "      <td>5.69</td>\n",
              "      <td>6.26</td>\n",
              "      <td>6.02</td>\n",
              "      <td>2.276</td>\n",
              "      <td>2.504</td>\n",
              "      <td>2.408</td>\n",
              "      <td>0.0</td>\n",
              "      <td>TB</td>\n",
              "      <td>TB</td>\n",
              "      <td>TB</td>\n",
              "    </tr>\n",
              "    <tr>\n",
              "      <th>43</th>\n",
              "      <td>43</td>\n",
              "      <td>43</td>\n",
              "      <td>44</td>\n",
              "      <td>6.6</td>\n",
              "      <td>7.2</td>\n",
              "      <td>5.9</td>\n",
              "      <td>6.9</td>\n",
              "      <td>7.6</td>\n",
              "      <td>8.1</td>\n",
              "      <td>7.3</td>\n",
              "      <td>6.7</td>\n",
              "      <td>6.3</td>\n",
              "      <td>6.9</td>\n",
              "      <td>6.0</td>\n",
              "      <td>6.4</td>\n",
              "      <td>7.0</td>\n",
              "      <td>7.1</td>\n",
              "      <td>6.9</td>\n",
              "      <td>6.2</td>\n",
              "      <td>6.7</td>\n",
              "      <td>7.1</td>\n",
              "      <td>5.4</td>\n",
              "      <td>6.8</td>\n",
              "      <td>6.8</td>\n",
              "      <td>5.9</td>\n",
              "      <td>6.6</td>\n",
              "      <td>6.8</td>\n",
              "      <td>6.0</td>\n",
              "      <td>7.6</td>\n",
              "      <td>6.5</td>\n",
              "      <td>7.6</td>\n",
              "      <td>6.7</td>\n",
              "      <td>7.1</td>\n",
              "      <td>7.9</td>\n",
              "      <td>5.6</td>\n",
              "      <td>5.8</td>\n",
              "      <td>5.9</td>\n",
              "      <td>5.8</td>\n",
              "      <td>4.6</td>\n",
              "      <td>6.6</td>\n",
              "      <td>4.0</td>\n",
              "      <td>6.0</td>\n",
              "      <td>6.2</td>\n",
              "      <td>6.0</td>\n",
              "      <td>7.6</td>\n",
              "      <td>6.5</td>\n",
              "      <td>7.6</td>\n",
              "      <td>6.7</td>\n",
              "      <td>7.1</td>\n",
              "      <td>7.9</td>\n",
              "      <td>5.6</td>\n",
              "      <td>F</td>\n",
              "      <td>1.0</td>\n",
              "      <td>2</td>\n",
              "      <td>1.25</td>\n",
              "      <td>3.50</td>\n",
              "      <td>5.00</td>\n",
              "      <td>D1</td>\n",
              "      <td>7.05</td>\n",
              "      <td>6.61</td>\n",
              "      <td>6.77</td>\n",
              "      <td>2.820</td>\n",
              "      <td>2.644</td>\n",
              "      <td>2.708</td>\n",
              "      <td>0.0</td>\n",
              "      <td>K</td>\n",
              "      <td>K</td>\n",
              "      <td>K</td>\n",
              "    </tr>\n",
              "    <tr>\n",
              "      <th>72</th>\n",
              "      <td>72</td>\n",
              "      <td>72</td>\n",
              "      <td>73</td>\n",
              "      <td>5.5</td>\n",
              "      <td>6.6</td>\n",
              "      <td>7.2</td>\n",
              "      <td>7.6</td>\n",
              "      <td>5.5</td>\n",
              "      <td>6.7</td>\n",
              "      <td>6.7</td>\n",
              "      <td>5.2</td>\n",
              "      <td>6.0</td>\n",
              "      <td>6.8</td>\n",
              "      <td>6.3</td>\n",
              "      <td>7.2</td>\n",
              "      <td>4.9</td>\n",
              "      <td>4.8</td>\n",
              "      <td>6.6</td>\n",
              "      <td>5.3</td>\n",
              "      <td>4.6</td>\n",
              "      <td>5.5</td>\n",
              "      <td>5.5</td>\n",
              "      <td>7.1</td>\n",
              "      <td>5.2</td>\n",
              "      <td>6.1</td>\n",
              "      <td>7.1</td>\n",
              "      <td>5.4</td>\n",
              "      <td>5.2</td>\n",
              "      <td>4.7</td>\n",
              "      <td>5.8</td>\n",
              "      <td>6.3</td>\n",
              "      <td>5.7</td>\n",
              "      <td>5.6</td>\n",
              "      <td>5.2</td>\n",
              "      <td>5.3</td>\n",
              "      <td>5.2</td>\n",
              "      <td>5.5</td>\n",
              "      <td>6.3</td>\n",
              "      <td>6.6</td>\n",
              "      <td>6.1</td>\n",
              "      <td>6.5</td>\n",
              "      <td>5.3</td>\n",
              "      <td>5.2</td>\n",
              "      <td>6.1</td>\n",
              "      <td>6.2</td>\n",
              "      <td>7.3</td>\n",
              "      <td>7.8</td>\n",
              "      <td>5.5</td>\n",
              "      <td>5.9</td>\n",
              "      <td>6.3</td>\n",
              "      <td>5.5</td>\n",
              "      <td>M</td>\n",
              "      <td>0.0</td>\n",
              "      <td>1</td>\n",
              "      <td>1.50</td>\n",
              "      <td>4.50</td>\n",
              "      <td>5.50</td>\n",
              "      <td>A</td>\n",
              "      <td>6.20</td>\n",
              "      <td>5.88</td>\n",
              "      <td>6.22</td>\n",
              "      <td>2.480</td>\n",
              "      <td>2.352</td>\n",
              "      <td>2.488</td>\n",
              "      <td>0.0</td>\n",
              "      <td>TB</td>\n",
              "      <td>TB</td>\n",
              "      <td>TB</td>\n",
              "    </tr>\n",
              "    <tr>\n",
              "      <th>5</th>\n",
              "      <td>5</td>\n",
              "      <td>5</td>\n",
              "      <td>6</td>\n",
              "      <td>9.3</td>\n",
              "      <td>7.6</td>\n",
              "      <td>7.9</td>\n",
              "      <td>8.6</td>\n",
              "      <td>7.0</td>\n",
              "      <td>7.3</td>\n",
              "      <td>7.7</td>\n",
              "      <td>7.9</td>\n",
              "      <td>9.6</td>\n",
              "      <td>7.8</td>\n",
              "      <td>8.0</td>\n",
              "      <td>8.7</td>\n",
              "      <td>7.7</td>\n",
              "      <td>8.0</td>\n",
              "      <td>9.2</td>\n",
              "      <td>9.1</td>\n",
              "      <td>7.1</td>\n",
              "      <td>8.5</td>\n",
              "      <td>8.1</td>\n",
              "      <td>8.7</td>\n",
              "      <td>7.2</td>\n",
              "      <td>8.4</td>\n",
              "      <td>7.7</td>\n",
              "      <td>8.2</td>\n",
              "      <td>8.5</td>\n",
              "      <td>8.5</td>\n",
              "      <td>7.7</td>\n",
              "      <td>9.2</td>\n",
              "      <td>8.0</td>\n",
              "      <td>6.6</td>\n",
              "      <td>7.3</td>\n",
              "      <td>8.8</td>\n",
              "      <td>8.5</td>\n",
              "      <td>7.6</td>\n",
              "      <td>8.1</td>\n",
              "      <td>9.0</td>\n",
              "      <td>8.4</td>\n",
              "      <td>6.6</td>\n",
              "      <td>6.6</td>\n",
              "      <td>8.2</td>\n",
              "      <td>7.8</td>\n",
              "      <td>6.4</td>\n",
              "      <td>7.2</td>\n",
              "      <td>7.7</td>\n",
              "      <td>7.7</td>\n",
              "      <td>5.7</td>\n",
              "      <td>8.0</td>\n",
              "      <td>7.8</td>\n",
              "      <td>M</td>\n",
              "      <td>0.0</td>\n",
              "      <td>1</td>\n",
              "      <td>1.50</td>\n",
              "      <td>4.00</td>\n",
              "      <td>6.00</td>\n",
              "      <td>D1</td>\n",
              "      <td>7.96</td>\n",
              "      <td>8.54</td>\n",
              "      <td>7.38</td>\n",
              "      <td>3.184</td>\n",
              "      <td>3.416</td>\n",
              "      <td>2.952</td>\n",
              "      <td>0.0</td>\n",
              "      <td>K</td>\n",
              "      <td>G</td>\n",
              "      <td>K</td>\n",
              "    </tr>\n",
              "    <tr>\n",
              "      <th>87</th>\n",
              "      <td>87</td>\n",
              "      <td>87</td>\n",
              "      <td>88</td>\n",
              "      <td>7.3</td>\n",
              "      <td>4.3</td>\n",
              "      <td>5.3</td>\n",
              "      <td>5.8</td>\n",
              "      <td>4.9</td>\n",
              "      <td>3.7</td>\n",
              "      <td>5.6</td>\n",
              "      <td>5.3</td>\n",
              "      <td>5.9</td>\n",
              "      <td>6.0</td>\n",
              "      <td>6.3</td>\n",
              "      <td>5.9</td>\n",
              "      <td>5.0</td>\n",
              "      <td>6.6</td>\n",
              "      <td>6.6</td>\n",
              "      <td>4.6</td>\n",
              "      <td>7.1</td>\n",
              "      <td>6.3</td>\n",
              "      <td>7.3</td>\n",
              "      <td>6.7</td>\n",
              "      <td>6.5</td>\n",
              "      <td>5.4</td>\n",
              "      <td>6.7</td>\n",
              "      <td>5.5</td>\n",
              "      <td>7.7</td>\n",
              "      <td>5.4</td>\n",
              "      <td>7.5</td>\n",
              "      <td>7.1</td>\n",
              "      <td>6.8</td>\n",
              "      <td>5.8</td>\n",
              "      <td>6.8</td>\n",
              "      <td>6.5</td>\n",
              "      <td>7.9</td>\n",
              "      <td>5.9</td>\n",
              "      <td>5.9</td>\n",
              "      <td>5.9</td>\n",
              "      <td>5.7</td>\n",
              "      <td>6.1</td>\n",
              "      <td>6.8</td>\n",
              "      <td>6.7</td>\n",
              "      <td>6.6</td>\n",
              "      <td>6.4</td>\n",
              "      <td>6.9</td>\n",
              "      <td>5.7</td>\n",
              "      <td>6.4</td>\n",
              "      <td>6.4</td>\n",
              "      <td>7.2</td>\n",
              "      <td>6.2</td>\n",
              "      <td>M</td>\n",
              "      <td>0.0</td>\n",
              "      <td>1</td>\n",
              "      <td>1.75</td>\n",
              "      <td>4.00</td>\n",
              "      <td>4.50</td>\n",
              "      <td>A</td>\n",
              "      <td>5.44</td>\n",
              "      <td>5.78</td>\n",
              "      <td>6.48</td>\n",
              "      <td>2.176</td>\n",
              "      <td>2.312</td>\n",
              "      <td>2.592</td>\n",
              "      <td>0.0</td>\n",
              "      <td>TB</td>\n",
              "      <td>TB</td>\n",
              "      <td>TB</td>\n",
              "    </tr>\n",
              "    <tr>\n",
              "      <th>...</th>\n",
              "      <td>...</td>\n",
              "      <td>...</td>\n",
              "      <td>...</td>\n",
              "      <td>...</td>\n",
              "      <td>...</td>\n",
              "      <td>...</td>\n",
              "      <td>...</td>\n",
              "      <td>...</td>\n",
              "      <td>...</td>\n",
              "      <td>...</td>\n",
              "      <td>...</td>\n",
              "      <td>...</td>\n",
              "      <td>...</td>\n",
              "      <td>...</td>\n",
              "      <td>...</td>\n",
              "      <td>...</td>\n",
              "      <td>...</td>\n",
              "      <td>...</td>\n",
              "      <td>...</td>\n",
              "      <td>...</td>\n",
              "      <td>...</td>\n",
              "      <td>...</td>\n",
              "      <td>...</td>\n",
              "      <td>...</td>\n",
              "      <td>...</td>\n",
              "      <td>...</td>\n",
              "      <td>...</td>\n",
              "      <td>...</td>\n",
              "      <td>...</td>\n",
              "      <td>...</td>\n",
              "      <td>...</td>\n",
              "      <td>...</td>\n",
              "      <td>...</td>\n",
              "      <td>...</td>\n",
              "      <td>...</td>\n",
              "      <td>...</td>\n",
              "      <td>...</td>\n",
              "      <td>...</td>\n",
              "      <td>...</td>\n",
              "      <td>...</td>\n",
              "      <td>...</td>\n",
              "      <td>...</td>\n",
              "      <td>...</td>\n",
              "      <td>...</td>\n",
              "      <td>...</td>\n",
              "      <td>...</td>\n",
              "      <td>...</td>\n",
              "      <td>...</td>\n",
              "      <td>...</td>\n",
              "      <td>...</td>\n",
              "      <td>...</td>\n",
              "      <td>...</td>\n",
              "      <td>...</td>\n",
              "      <td>...</td>\n",
              "      <td>...</td>\n",
              "      <td>...</td>\n",
              "      <td>...</td>\n",
              "      <td>...</td>\n",
              "      <td>...</td>\n",
              "      <td>...</td>\n",
              "      <td>...</td>\n",
              "      <td>...</td>\n",
              "      <td>...</td>\n",
              "      <td>...</td>\n",
              "      <td>...</td>\n",
              "      <td>...</td>\n",
              "      <td>...</td>\n",
              "      <td>...</td>\n",
              "    </tr>\n",
              "    <tr>\n",
              "      <th>84</th>\n",
              "      <td>84</td>\n",
              "      <td>84</td>\n",
              "      <td>85</td>\n",
              "      <td>8.4</td>\n",
              "      <td>7.4</td>\n",
              "      <td>6.0</td>\n",
              "      <td>7.8</td>\n",
              "      <td>6.3</td>\n",
              "      <td>7.2</td>\n",
              "      <td>8.5</td>\n",
              "      <td>6.0</td>\n",
              "      <td>9.3</td>\n",
              "      <td>7.0</td>\n",
              "      <td>8.5</td>\n",
              "      <td>8.8</td>\n",
              "      <td>6.9</td>\n",
              "      <td>6.9</td>\n",
              "      <td>7.3</td>\n",
              "      <td>6.8</td>\n",
              "      <td>7.4</td>\n",
              "      <td>7.0</td>\n",
              "      <td>8.0</td>\n",
              "      <td>7.5</td>\n",
              "      <td>7.1</td>\n",
              "      <td>6.7</td>\n",
              "      <td>8.4</td>\n",
              "      <td>5.8</td>\n",
              "      <td>7.7</td>\n",
              "      <td>6.7</td>\n",
              "      <td>8.2</td>\n",
              "      <td>7.5</td>\n",
              "      <td>7.5</td>\n",
              "      <td>6.1</td>\n",
              "      <td>8.1</td>\n",
              "      <td>6.5</td>\n",
              "      <td>8.2</td>\n",
              "      <td>5.9</td>\n",
              "      <td>7.9</td>\n",
              "      <td>8.6</td>\n",
              "      <td>6.1</td>\n",
              "      <td>5.1</td>\n",
              "      <td>7.2</td>\n",
              "      <td>6.1</td>\n",
              "      <td>8.6</td>\n",
              "      <td>7.8</td>\n",
              "      <td>8.9</td>\n",
              "      <td>8.5</td>\n",
              "      <td>6.7</td>\n",
              "      <td>5.5</td>\n",
              "      <td>7.9</td>\n",
              "      <td>6.6</td>\n",
              "      <td>M</td>\n",
              "      <td>0.0</td>\n",
              "      <td>1</td>\n",
              "      <td>6.50</td>\n",
              "      <td>4.50</td>\n",
              "      <td>8.00</td>\n",
              "      <td>A</td>\n",
              "      <td>7.23</td>\n",
              "      <td>7.77</td>\n",
              "      <td>7.58</td>\n",
              "      <td>2.892</td>\n",
              "      <td>3.108</td>\n",
              "      <td>3.032</td>\n",
              "      <td>1.0</td>\n",
              "      <td>K</td>\n",
              "      <td>K</td>\n",
              "      <td>K</td>\n",
              "    </tr>\n",
              "    <tr>\n",
              "      <th>11</th>\n",
              "      <td>11</td>\n",
              "      <td>11</td>\n",
              "      <td>12</td>\n",
              "      <td>7.9</td>\n",
              "      <td>7.0</td>\n",
              "      <td>9.1</td>\n",
              "      <td>8.6</td>\n",
              "      <td>6.1</td>\n",
              "      <td>7.0</td>\n",
              "      <td>5.6</td>\n",
              "      <td>9.0</td>\n",
              "      <td>8.2</td>\n",
              "      <td>7.1</td>\n",
              "      <td>8.8</td>\n",
              "      <td>7.6</td>\n",
              "      <td>6.9</td>\n",
              "      <td>7.3</td>\n",
              "      <td>7.2</td>\n",
              "      <td>9.0</td>\n",
              "      <td>8.1</td>\n",
              "      <td>8.4</td>\n",
              "      <td>8.5</td>\n",
              "      <td>7.6</td>\n",
              "      <td>5.5</td>\n",
              "      <td>8.0</td>\n",
              "      <td>6.6</td>\n",
              "      <td>8.6</td>\n",
              "      <td>6.9</td>\n",
              "      <td>7.0</td>\n",
              "      <td>8.9</td>\n",
              "      <td>8.6</td>\n",
              "      <td>5.6</td>\n",
              "      <td>5.3</td>\n",
              "      <td>7.1</td>\n",
              "      <td>8.3</td>\n",
              "      <td>8.0</td>\n",
              "      <td>7.8</td>\n",
              "      <td>8.6</td>\n",
              "      <td>7.3</td>\n",
              "      <td>6.2</td>\n",
              "      <td>3.9</td>\n",
              "      <td>5.7</td>\n",
              "      <td>8.6</td>\n",
              "      <td>8.1</td>\n",
              "      <td>7.9</td>\n",
              "      <td>8.3</td>\n",
              "      <td>7.9</td>\n",
              "      <td>6.4</td>\n",
              "      <td>6.4</td>\n",
              "      <td>6.7</td>\n",
              "      <td>8.7</td>\n",
              "      <td>M</td>\n",
              "      <td>0.0</td>\n",
              "      <td>2</td>\n",
              "      <td>6.75</td>\n",
              "      <td>6.50</td>\n",
              "      <td>4.25</td>\n",
              "      <td>D1</td>\n",
              "      <td>7.43</td>\n",
              "      <td>7.72</td>\n",
              "      <td>7.49</td>\n",
              "      <td>2.972</td>\n",
              "      <td>3.088</td>\n",
              "      <td>2.996</td>\n",
              "      <td>1.0</td>\n",
              "      <td>K</td>\n",
              "      <td>K</td>\n",
              "      <td>K</td>\n",
              "    </tr>\n",
              "    <tr>\n",
              "      <th>23</th>\n",
              "      <td>23</td>\n",
              "      <td>23</td>\n",
              "      <td>24</td>\n",
              "      <td>5.3</td>\n",
              "      <td>6.3</td>\n",
              "      <td>5.7</td>\n",
              "      <td>6.9</td>\n",
              "      <td>5.9</td>\n",
              "      <td>7.5</td>\n",
              "      <td>6.6</td>\n",
              "      <td>5.1</td>\n",
              "      <td>6.4</td>\n",
              "      <td>6.9</td>\n",
              "      <td>4.7</td>\n",
              "      <td>7.4</td>\n",
              "      <td>6.1</td>\n",
              "      <td>8.4</td>\n",
              "      <td>6.4</td>\n",
              "      <td>4.4</td>\n",
              "      <td>6.1</td>\n",
              "      <td>5.8</td>\n",
              "      <td>5.1</td>\n",
              "      <td>7.4</td>\n",
              "      <td>6.7</td>\n",
              "      <td>7.1</td>\n",
              "      <td>6.7</td>\n",
              "      <td>4.3</td>\n",
              "      <td>5.0</td>\n",
              "      <td>3.5</td>\n",
              "      <td>4.5</td>\n",
              "      <td>7.3</td>\n",
              "      <td>6.1</td>\n",
              "      <td>8.8</td>\n",
              "      <td>7.9</td>\n",
              "      <td>3.9</td>\n",
              "      <td>5.3</td>\n",
              "      <td>5.5</td>\n",
              "      <td>6.3</td>\n",
              "      <td>6.7</td>\n",
              "      <td>6.7</td>\n",
              "      <td>7.5</td>\n",
              "      <td>6.7</td>\n",
              "      <td>4.5</td>\n",
              "      <td>6.1</td>\n",
              "      <td>6.8</td>\n",
              "      <td>6.4</td>\n",
              "      <td>6.4</td>\n",
              "      <td>7.6</td>\n",
              "      <td>8.8</td>\n",
              "      <td>6.1</td>\n",
              "      <td>5.2</td>\n",
              "      <td>M</td>\n",
              "      <td>0.0</td>\n",
              "      <td>2NT</td>\n",
              "      <td>6.75</td>\n",
              "      <td>5.25</td>\n",
              "      <td>5.00</td>\n",
              "      <td>C</td>\n",
              "      <td>6.05</td>\n",
              "      <td>6.32</td>\n",
              "      <td>6.71</td>\n",
              "      <td>2.420</td>\n",
              "      <td>2.528</td>\n",
              "      <td>2.684</td>\n",
              "      <td>1.0</td>\n",
              "      <td>TB</td>\n",
              "      <td>TB</td>\n",
              "      <td>K</td>\n",
              "    </tr>\n",
              "    <tr>\n",
              "      <th>24</th>\n",
              "      <td>24</td>\n",
              "      <td>24</td>\n",
              "      <td>25</td>\n",
              "      <td>2.4</td>\n",
              "      <td>4.1</td>\n",
              "      <td>3.6</td>\n",
              "      <td>5.5</td>\n",
              "      <td>5.9</td>\n",
              "      <td>5.6</td>\n",
              "      <td>4.9</td>\n",
              "      <td>4.2</td>\n",
              "      <td>3.3</td>\n",
              "      <td>5.7</td>\n",
              "      <td>4.9</td>\n",
              "      <td>5.3</td>\n",
              "      <td>5.7</td>\n",
              "      <td>4.5</td>\n",
              "      <td>5.6</td>\n",
              "      <td>4.8</td>\n",
              "      <td>3.9</td>\n",
              "      <td>4.6</td>\n",
              "      <td>4.6</td>\n",
              "      <td>6.9</td>\n",
              "      <td>5.7</td>\n",
              "      <td>8.0</td>\n",
              "      <td>5.1</td>\n",
              "      <td>4.7</td>\n",
              "      <td>3.3</td>\n",
              "      <td>5.3</td>\n",
              "      <td>5.6</td>\n",
              "      <td>6.9</td>\n",
              "      <td>7.2</td>\n",
              "      <td>7.3</td>\n",
              "      <td>6.1</td>\n",
              "      <td>3.6</td>\n",
              "      <td>4.4</td>\n",
              "      <td>5.0</td>\n",
              "      <td>4.4</td>\n",
              "      <td>5.6</td>\n",
              "      <td>6.8</td>\n",
              "      <td>4.0</td>\n",
              "      <td>5.0</td>\n",
              "      <td>5.2</td>\n",
              "      <td>3.8</td>\n",
              "      <td>6.3</td>\n",
              "      <td>4.5</td>\n",
              "      <td>6.6</td>\n",
              "      <td>7.1</td>\n",
              "      <td>4.1</td>\n",
              "      <td>5.7</td>\n",
              "      <td>5.1</td>\n",
              "      <td>F</td>\n",
              "      <td>0.0</td>\n",
              "      <td>1</td>\n",
              "      <td>7.00</td>\n",
              "      <td>2.25</td>\n",
              "      <td>5.25</td>\n",
              "      <td>C</td>\n",
              "      <td>4.45</td>\n",
              "      <td>4.88</td>\n",
              "      <td>5.41</td>\n",
              "      <td>1.780</td>\n",
              "      <td>1.952</td>\n",
              "      <td>2.164</td>\n",
              "      <td>0.0</td>\n",
              "      <td>Y</td>\n",
              "      <td>Y</td>\n",
              "      <td>TB</td>\n",
              "    </tr>\n",
              "    <tr>\n",
              "      <th>97</th>\n",
              "      <td>97</td>\n",
              "      <td>97</td>\n",
              "      <td>98</td>\n",
              "      <td>8.8</td>\n",
              "      <td>5.5</td>\n",
              "      <td>7.4</td>\n",
              "      <td>7.7</td>\n",
              "      <td>6.2</td>\n",
              "      <td>7.3</td>\n",
              "      <td>8.1</td>\n",
              "      <td>4.5</td>\n",
              "      <td>9.5</td>\n",
              "      <td>7.3</td>\n",
              "      <td>6.0</td>\n",
              "      <td>8.4</td>\n",
              "      <td>7.0</td>\n",
              "      <td>8.4</td>\n",
              "      <td>8.8</td>\n",
              "      <td>6.5</td>\n",
              "      <td>9.5</td>\n",
              "      <td>6.6</td>\n",
              "      <td>6.4</td>\n",
              "      <td>7.6</td>\n",
              "      <td>7.0</td>\n",
              "      <td>9.6</td>\n",
              "      <td>9.3</td>\n",
              "      <td>6.7</td>\n",
              "      <td>8.5</td>\n",
              "      <td>6.9</td>\n",
              "      <td>5.8</td>\n",
              "      <td>8.4</td>\n",
              "      <td>8.0</td>\n",
              "      <td>8.9</td>\n",
              "      <td>9.6</td>\n",
              "      <td>7.1</td>\n",
              "      <td>9.0</td>\n",
              "      <td>7.1</td>\n",
              "      <td>6.7</td>\n",
              "      <td>5.7</td>\n",
              "      <td>6.9</td>\n",
              "      <td>8.6</td>\n",
              "      <td>8.6</td>\n",
              "      <td>5.9</td>\n",
              "      <td>8.5</td>\n",
              "      <td>7.1</td>\n",
              "      <td>6.2</td>\n",
              "      <td>8.6</td>\n",
              "      <td>7.0</td>\n",
              "      <td>9.6</td>\n",
              "      <td>8.4</td>\n",
              "      <td>5.8</td>\n",
              "      <td>M</td>\n",
              "      <td>0.0</td>\n",
              "      <td>2NT</td>\n",
              "      <td>7.00</td>\n",
              "      <td>8.00</td>\n",
              "      <td>4.00</td>\n",
              "      <td>C</td>\n",
              "      <td>7.05</td>\n",
              "      <td>7.84</td>\n",
              "      <td>7.67</td>\n",
              "      <td>2.820</td>\n",
              "      <td>3.136</td>\n",
              "      <td>3.068</td>\n",
              "      <td>1.0</td>\n",
              "      <td>K</td>\n",
              "      <td>K</td>\n",
              "      <td>K</td>\n",
              "    </tr>\n",
              "  </tbody>\n",
              "</table>\n",
              "<p>100 rows × 68 columns</p>\n",
              "</div>"
            ],
            "text/plain": [
              "    Unnamed: 0  Unnamed: 0.1  STT   T1   L1  ...  US_TBM3  KQXT  XL1  XL2  XL3\n",
              "53          53            53   54  4.9  5.9  ...    2.408   0.0   TB   TB   TB\n",
              "43          43            43   44  6.6  7.2  ...    2.708   0.0    K    K    K\n",
              "72          72            72   73  5.5  6.6  ...    2.488   0.0   TB   TB   TB\n",
              "5            5             5    6  9.3  7.6  ...    2.952   0.0    K    G    K\n",
              "87          87            87   88  7.3  4.3  ...    2.592   0.0   TB   TB   TB\n",
              "..         ...           ...  ...  ...  ...  ...      ...   ...  ...  ...  ...\n",
              "84          84            84   85  8.4  7.4  ...    3.032   1.0    K    K    K\n",
              "11          11            11   12  7.9  7.0  ...    2.996   1.0    K    K    K\n",
              "23          23            23   24  5.3  6.3  ...    2.684   1.0   TB   TB    K\n",
              "24          24            24   25  2.4  4.1  ...    2.164   0.0    Y    Y   TB\n",
              "97          97            97   98  8.8  5.5  ...    3.068   1.0    K    K    K\n",
              "\n",
              "[100 rows x 68 columns]"
            ]
          },
          "metadata": {},
          "execution_count": 6
        }
      ]
    },
    {
      "cell_type": "code",
      "metadata": {
        "id": "1B--6c_r25d_"
      },
      "source": [
        "# Câu 2 Hãy sắp xếp dữ liệu điểm DH2 tăng dần theo nhóm giới tính"
      ],
      "execution_count": 7,
      "outputs": []
    },
    {
      "cell_type": "code",
      "metadata": {
        "colab": {
          "base_uri": "https://localhost:8080/"
        },
        "id": "bO-kvmKd2-tV",
        "outputId": "0837f9a9-f0fb-4a28-afb9-6e17131b05d2"
      },
      "source": [
        "#\n",
        "#CT:  df [df[\"Cột\"]== \"Giá trị muốn lọc\"], và mình muốn lọc lấy nam \n",
        "print(\" GIỚI TÍNH NAM \")\n",
        "df_gioinam = df[df[\"GT\"] == \"M\"] # nó chỉ lấy M mà không lấy F\n",
        "print(df_gioinam.sort_values(by = \"DH2\"))# xuất ra kết quả, để ý cột GT , xem cột GT và DH2 \n",
        "print(\" GIỚI TÍNH NỮ \") \n",
        "df_gioinu = df[df[\"GT\"] == \"F\"] # nó chỉ lấy F mà không lấy M \n",
        "print(df_gioinu.sort_values(by = \"DH2\")) \n"
      ],
      "execution_count": 8,
      "outputs": [
        {
          "output_type": "stream",
          "name": "stdout",
          "text": [
            " GIỚI TÍNH NAM \n",
            "    Unnamed: 0  Unnamed: 0.1  STT   T1   L1  ...  US_TBM3  KQXT  XL1  XL2  XL3\n",
            "99          99            99  100  4.1  5.2  ...    2.340   0.0   TB   TB   TB\n",
            "94          94            94   95  5.8  5.9  ...    2.672   0.0   TB    K    K\n",
            "62          62            62   63  6.4  7.2  ...    2.900   0.0    K    K    K\n",
            "15          15            15   16  2.5  5.3  ...    2.484   0.0   TB   TB   TB\n",
            "38          38            38   39  4.4  5.6  ...    2.232   0.0   TB   TB   TB\n",
            "75          75            75   76  5.5  4.0  ...    1.916   0.0    Y    Y    Y\n",
            "63          63            63   64  7.5  7.6  ...    2.700   0.0    K    K    K\n",
            "98          98            98   99  2.7  1.8  ...    2.116   0.0    Y    Y   TB\n",
            "36          36            36   37  7.3  4.8  ...    2.640   0.0   TB   TB    K\n",
            "60          60            60   61  6.2  7.8  ...    2.752   0.0   TB    K    K\n",
            "65          65            65   66  3.0  4.0  ...    2.352   0.0    Y    Y   TB\n",
            "29          29            29   30  4.5  3.8  ...    2.220   0.0    Y   TB   TB\n",
            "69          69            69   70  6.0  5.9  ...    2.260   0.0   TB   TB   TB\n",
            "64          64            64   65  7.1  6.2  ...    2.772   0.0    K    K    K\n",
            "5            5             5    6  9.3  7.6  ...    2.952   0.0    K    G    K\n",
            "59          59            59   60  3.6  4.6  ...    2.308   0.0   TB   TB   TB\n",
            "77          77            77   78  5.2  3.6  ...    2.588   0.0   TB   TB   TB\n",
            "39          39            39   40  4.3  5.0  ...    2.692   0.0    Y   TB    K\n",
            "1            1             1    2  5.4  3.9  ...    2.028   0.0    Y   TB   TB\n",
            "87          87            87   88  7.3  4.3  ...    2.592   0.0   TB   TB   TB\n",
            "88          88            88   89  5.2  6.0  ...    2.400   0.0   TB    K   TB\n",
            "33          33            33   34  6.4  4.6  ...    2.252   0.0   TB   TB   TB\n",
            "90          90            90   91  8.1  7.7  ...    3.316   1.0    K    G    G\n",
            "3            3             3    4  6.6  6.4  ...    2.752   0.0   TB   TB    K\n",
            "93          93            93   94  5.2  5.2  ...    2.788   0.0    K    K    K\n",
            "84          84            84   85  8.4  7.4  ...    3.032   1.0    K    K    K\n",
            "72          72            72   73  5.5  6.6  ...    2.488   0.0   TB   TB   TB\n",
            "67          67            67   68  4.6  4.9  ...    2.432   0.0    Y   TB   TB\n",
            "81          81            81   82  5.7  5.0  ...    2.528   0.0   TB    Y   TB\n",
            "78          78            78   79  5.3  4.3  ...    2.096   0.0   TB   TB   TB\n",
            "66          66            66   67  5.1  3.7  ...    2.332   0.0    Y   TB   TB\n",
            "4            4             4    5  6.0  5.0  ...    2.796   0.0    K   TB    K\n",
            "34          34            34   35  4.7  7.2  ...    2.604   0.0   TB   TB    K\n",
            "17          17            17   18  5.4  6.0  ...    2.740   0.0   TB   TB    K\n",
            "91          91            91   92  7.8  6.5  ...    3.060   0.0   TB    K    K\n",
            "31          31            31   32  2.6  4.6  ...    2.880   0.0    Y   TB    K\n",
            "86          86            86   87  6.3  6.5  ...    2.628   0.0    K    K    K\n",
            "18          18            18   19  5.6  4.8  ...    2.716   0.0   TB   TB    K\n",
            "20          20            20   21  3.9  3.9  ...    2.820   0.0   TB   TB    K\n",
            "35          35            35   36  6.5  4.4  ...    2.528   0.0   TB   TB   TB\n",
            "58          58            58   59  6.5  5.8  ...    3.152   0.0    K    K    K\n",
            "92          92            92   93  5.0  6.6  ...    2.704   0.0   TB    K    K\n",
            "28          28            28   29  6.3  6.4  ...    2.756   0.0    K   TB    K\n",
            "37          37            37   38  3.4  4.2  ...    2.220   0.0    Y   TB   TB\n",
            "23          23            23   24  5.3  6.3  ...    2.684   1.0   TB   TB    K\n",
            "53          53            53   54  4.9  5.9  ...    2.408   0.0   TB   TB   TB\n",
            "89          89            89   90  5.7  4.6  ...    2.276   0.0   TB   TB   TB\n",
            "68          68            68   69  7.3  6.4  ...    3.200   1.0    K    K    G\n",
            "47          47            47   48  7.9  7.6  ...    2.844   1.0    K    K    K\n",
            "11          11            11   12  7.9  7.0  ...    2.996   1.0    K    K    K\n",
            "2            2             2    3  5.6  6.8  ...    2.416   1.0   TB   TB   TB\n",
            "97          97            97   98  8.8  5.5  ...    3.068   1.0    K    K    K\n",
            "\n",
            "[52 rows x 68 columns]\n",
            " GIỚI TÍNH NỮ \n",
            "    Unnamed: 0  Unnamed: 0.1  STT   T1   L1  ...  US_TBM3  KQXT  XL1  XL2  XL3\n",
            "95          95            95   96  8.6  6.9  ...    2.732   0.0    K    K    K\n",
            "25          25            25   26  3.6  5.8  ...    2.036   0.0   TB   TB   TB\n",
            "24          24            24   25  2.4  4.1  ...    2.164   0.0    Y    Y   TB\n",
            "46          46            46   47  6.7  6.8  ...    2.464   0.0   TB    K   TB\n",
            "13          13            13   14  4.9  5.4  ...    2.504   0.0   TB   TB   TB\n",
            "21          21            21   22  5.0  5.1  ...    2.532   0.0   TB   TB   TB\n",
            "0            0             0    1  7.2  7.3  ...    2.804   0.0    K    K    K\n",
            "51          51            51   52  6.0  5.3  ...    2.872   0.0    K    K    K\n",
            "52          52            52   53  5.3  7.0  ...    2.476   0.0    K    K   TB\n",
            "30          30            30   31  7.6  7.2  ...    2.768   0.0   TB    K    K\n",
            "61          61            61   62  7.2  5.5  ...    3.056   0.0    K    K    K\n",
            "74          74            74   75  4.2  5.6  ...    2.804   0.0   TB    K    K\n",
            "22          22            22   23  5.0  4.5  ...    2.336   0.0   TB   TB   TB\n",
            "8            8             8    9  6.5  6.3  ...    3.024   0.0   TB    K    K\n",
            "79          79            79   80  4.8  3.9  ...    2.432   0.0   TB   TB   TB\n",
            "80          80            80   81  8.2  6.5  ...    3.000   0.0    K    K    K\n",
            "43          43            43   44  6.6  7.2  ...    2.708   0.0    K    K    K\n",
            "42          42            42   43  7.0  7.4  ...    2.888   0.0    K    K    K\n",
            "54          54            54   55  5.3  5.7  ...    2.636   0.0   TB   TB    K\n",
            "96          96            96   97  3.7  5.4  ...    2.556   0.0    Y   TB   TB\n",
            "40          40            40   41  5.3  6.3  ...    2.864   0.0    K    K    K\n",
            "44          44            44   45  6.1  6.9  ...    2.908   0.0   TB    K    K\n",
            "76          76            76   77  5.4  6.8  ...    2.720   0.0   TB    K    K\n",
            "19          19            19   20  8.2  7.3  ...    2.688   0.0    K   TB    K\n",
            "48          48            48   49  7.9  6.0  ...    3.084   0.0    K    G    K\n",
            "10          10            10   11  5.2  6.4  ...    2.936   0.0    K    K    K\n",
            "16          16            16   17  8.8  7.0  ...    2.692   0.0    K    K    K\n",
            "7            7             7    8  8.3  6.0  ...    2.812   0.0    K    K    K\n",
            "73          73            73   74  5.2  3.1  ...    2.160   0.0    Y   TB   TB\n",
            "70          70            70   71  5.8  6.3  ...    2.956   0.0   TB    K    K\n",
            "12          12            12   13  7.3  6.3  ...    2.984   0.0    K    K    K\n",
            "41          41            41   42  8.3  8.0  ...    3.288   0.0    G    G    G\n",
            "49          49            49   50  8.2  7.2  ...    2.856   0.0    K    K    K\n",
            "45          45            45   46  6.9  5.3  ...    2.632   0.0    K   TB    K\n",
            "26          26            26   27  4.9  4.8  ...    2.892   0.0   TB   TB    K\n",
            "32          32            32   33  6.0  6.8  ...    2.756   0.0    K    K    K\n",
            "14          14            14   15  7.1  8.0  ...    3.180   0.0    K    K    K\n",
            "55          55            55   56  7.9  6.9  ...    3.060   0.0    K    K    K\n",
            "71          71            71   72  3.0  5.1  ...    2.688   0.0    Y   TB    K\n",
            "9            9             9   10  7.3  5.9  ...    2.812   0.0    K    K    K\n",
            "83          83            83   84  5.9  5.7  ...    2.988   0.0   TB    K    K\n",
            "27          27            27   28  8.1  5.5  ...    2.504   0.0   TB   TB   TB\n",
            "50          50            50   51  5.5  7.1  ...    2.872   0.0   TB   TB    K\n",
            "57          57            57   58  7.2  7.6  ...    2.636   0.0    K    K    K\n",
            "56          56            56   57  6.3  6.9  ...    2.952   1.0    K    K    K\n",
            "85          85            85   86  7.2  6.6  ...    2.784   1.0    K    K    K\n",
            "82          82            82   83  5.1  5.9  ...    2.848   0.0   TB    K    K\n",
            "6            6             6    7  2.8  3.9  ...    2.404   1.0    Y   TB   TB\n",
            "\n",
            "[48 rows x 68 columns]\n"
          ]
        }
      ]
    },
    {
      "cell_type": "code",
      "metadata": {
        "id": "SHQhVjP190Nh"
      },
      "source": [
        "# Câu Hãy tạo pivot-table để thống kê các giá trị count, sum, mean, median, min, max, sdt, Q1,Q2 và Q3 của DH1 theo KT"
      ],
      "execution_count": 9,
      "outputs": []
    },
    {
      "cell_type": "code",
      "metadata": {
        "colab": {
          "base_uri": "https://localhost:8080/"
        },
        "id": "VjK-Cl9592Rg",
        "outputId": "6cfcee5b-bf43-469f-fc81-8cd15ed77fd9"
      },
      "source": [
        "#CT gôm nhóm: dùng groupby (Theo giá trị nào )[cột muốn lọc ].agg(\"count\",\"sum\",...)  \n",
        "# COUNT : đếm , sum : cộng tất cả,.... \n",
        "#Nghĩa là Tui muốn lọc ra tại cột DH1 có bao nhiêu bạn được A1,A,B,..... \n",
        "#DATAFRAME = : df\n",
        "# Tên cột : count, sum,... \n",
        "#Tên dòng: KT  , trong KT có : A, A1,B,... \n",
        "print(\"**************************************GROUP BY**************************************\")\n",
        "print(df.groupby(\"KT\")[\"DH1\"].agg([\"count\", \"sum\", \"mean\", \"median\", \"min\", \"max\",\"std\"]))\n",
        "print(\"**************************************PIVOT - TABLE**************************************\") \n",
        "# từ bảng dọc chuyển sang bảng ngang là pivot table  \n",
        "# CT của pivot_table : pd.pivot_table( tên tham số,column=[\"Tên cột\"])\n",
        "df_theo_KT = df.groupby(\"KT\")[\"DH1\"].agg([\"count\", \"sum\", \"mean\", \"median\", \"min\", \"max\",\"std\"]) \n",
        "print(pd.pivot_table(df_theo_KT,columns=\"KT\"))\n"
      ],
      "execution_count": 10,
      "outputs": [
        {
          "output_type": "stream",
          "name": "stdout",
          "text": [
            "**************************************GROUP BY**************************************\n",
            "    count     sum      mean  median   min   max       std\n",
            "KT                                                       \n",
            "A      49  163.50  3.336735    3.25  1.00  6.50  1.274296\n",
            "A1      6   17.50  2.916667    3.00  2.00  4.25  0.861201\n",
            "B       9   29.50  3.277778    3.50  1.75  4.50  0.823905\n",
            "C      14   79.25  5.660714    5.25  4.75  7.00  0.812209\n",
            "D1     22   84.25  3.829545    3.75  1.25  6.75  1.370146\n",
            "**************************************PIVOT - TABLE**************************************\n",
            "KT               A         A1          B          C         D1\n",
            "count    49.000000   6.000000   9.000000  14.000000  22.000000\n",
            "max       6.500000   4.250000   4.500000   7.000000   6.750000\n",
            "mean      3.336735   2.916667   3.277778   5.660714   3.829545\n",
            "median    3.250000   3.000000   3.500000   5.250000   3.750000\n",
            "min       1.000000   2.000000   1.750000   4.750000   1.250000\n",
            "std       1.274296   0.861201   0.823905   0.812209   1.370146\n",
            "sum     163.500000  17.500000  29.500000  79.250000  84.250000\n"
          ]
        }
      ]
    },
    {
      "cell_type": "code",
      "metadata": {
        "id": "n5rPFbPIJito"
      },
      "source": [
        "# Câu 4:Hãy tạo pivot-table để thống kê các giá trị count, sum, mean, median, min, max, sdt, Q1, Q2 và Q3 của DH1 theo KT và KV"
      ],
      "execution_count": 11,
      "outputs": []
    },
    {
      "cell_type": "code",
      "metadata": {
        "id": "emMderoFWrNo",
        "colab": {
          "base_uri": "https://localhost:8080/"
        },
        "outputId": "869cba0d-a4a7-463e-d3a0-ec60445c1692"
      },
      "source": [
        "df_theo_KT_KV = df.groupby([\"KT\",\"KV\"])[\"DH1\"].agg([\"count\", \"sum\", \"mean\", \"median\", \"min\", \"max\",\"std\"]) \n",
        "print( pd.pivot_table(df_theo_KT_KV,columns=[\"KT\",\"KV\"]))  "
      ],
      "execution_count": 12,
      "outputs": [
        {
          "output_type": "stream",
          "name": "stdout",
          "text": [
            "KT              A                        ...         D1                 \n",
            "KV              1          2        2NT  ...          1          2   2NT\n",
            "count   29.000000   9.000000  11.000000  ...  13.000000   8.000000  1.00\n",
            "max      6.500000   6.250000   4.750000  ...   5.750000   6.750000  3.75\n",
            "mean     3.232759   3.527778   3.454545  ...   3.596154   4.218750  3.75\n",
            "median   3.250000   3.500000   3.500000  ...   3.500000   4.500000  3.75\n",
            "min      1.000000   2.000000   2.000000  ...   1.500000   1.250000  3.75\n",
            "std      1.369194   1.427653   0.913908  ...   1.264658   1.617082   NaN\n",
            "sum     93.750000  31.750000  38.000000  ...  46.750000  33.750000  3.75\n",
            "\n",
            "[7 rows x 13 columns]\n"
          ]
        }
      ]
    },
    {
      "cell_type": "code",
      "metadata": {
        "id": "RFcvcubR4q9N",
        "colab": {
          "base_uri": "https://localhost:8080/"
        },
        "outputId": "be521732-be3b-4131-db5b-837abe39ce5f"
      },
      "source": [
        "# CÂU 5:  Hãy tạo pivot-table để thống kê các giá trị count, sum, mean, median, min, max, sdt, Q1, \n",
        "#Q2 và Q3 của DH1 theo KT, KV và DT \n",
        "df_theo_KT_KV_DT = df.groupby([\"KT\",\"KV\",\"DT\"])[\"DH1\"].agg([\"count\", \"sum\", \"mean\", \"median\", \"min\", \"max\",\"std\"])  \n",
        "print(pd.pivot_table(df_theo_KT_KV_DT,columns=[\"KT\",\"KV\",\"DT\"]))"
      ],
      "execution_count": 13,
      "outputs": [
        {
          "output_type": "stream",
          "name": "stdout",
          "text": [
            "KT              A                              ...   D1                       \n",
            "KV              1          2              2NT  ...    1          2         2NT\n",
            "DT            0.0        0.0   6.0        0.0  ...  1.0        0.0   1.0   0.0\n",
            "count   29.000000   8.000000  1.00  11.000000  ...  1.0   7.000000  1.00  1.00\n",
            "max      6.500000   6.250000  4.25   4.750000  ...  3.0   6.750000  1.25  3.75\n",
            "mean     3.232759   3.437500  4.25   3.454545  ...  3.0   4.642857  1.25  3.75\n",
            "median   3.250000   3.000000  4.25   3.500000  ...  3.0   4.500000  1.25  3.75\n",
            "min      1.000000   2.000000  4.25   2.000000  ...  3.0   3.000000  1.25  3.75\n",
            "std      1.369194   1.498511   NaN   0.913908  ...  NaN   1.171334   NaN   NaN\n",
            "sum     93.750000  27.500000  4.25  38.000000  ...  3.0  32.500000  1.25  3.75\n",
            "\n",
            "[7 rows x 16 columns]\n"
          ]
        }
      ]
    },
    {
      "cell_type": "code",
      "metadata": {
        "id": "w5GCMaS5gi1V"
      },
      "source": [
        "#Phần 2: Trình bày dữ liệu"
      ],
      "execution_count": 14,
      "outputs": []
    },
    {
      "cell_type": "code",
      "metadata": {
        "id": "VttJV1jggmLO"
      },
      "source": [
        "#1. Hãy trình bày dữ liệu biến: GT"
      ],
      "execution_count": 15,
      "outputs": []
    },
    {
      "cell_type": "code",
      "metadata": {
        "id": "p9Zi9hJ5hFfa"
      },
      "source": [
        "#Lập bảng tần số và tần suất\n",
        "#-Vẽ biểu đồ tần số (cột), biểu đồ tần suất (tròn) và biểu đồ tích lũy tần suất (đa giác\n",
        "#tích lũy)"
      ],
      "execution_count": 16,
      "outputs": []
    },
    {
      "cell_type": "code",
      "metadata": {
        "colab": {
          "base_uri": "https://localhost:8080/",
          "height": 300
        },
        "id": "FXoigWDig1fc",
        "outputId": "629203cb-740e-42ca-8044-b05460863f98"
      },
      "source": [
        "\n",
        "pd.pivot_table(df.groupby('GT')['GT'].agg(['count']),columns='GT').plot.bar()"
      ],
      "execution_count": 17,
      "outputs": [
        {
          "output_type": "execute_result",
          "data": {
            "text/plain": [
              "<matplotlib.axes._subplots.AxesSubplot at 0x7f33f3fc7f10>"
            ]
          },
          "metadata": {},
          "execution_count": 17
        },
        {
          "output_type": "display_data",
          "data": {
            "image/png": "[encoded data removed]",
            "text/plain": [
              "<Figure size 432x288 with 1 Axes>"
            ]
          },
          "metadata": {
            "needs_background": "light"
          }
        }
      ]
    },
    {
      "cell_type": "code",
      "metadata": {
        "colab": {
          "base_uri": "https://localhost:8080/",
          "height": 282
        },
        "id": "pTHveHy1acpN",
        "outputId": "ddc8e99c-d81c-48a8-94c2-22dca984054c"
      },
      "source": [
        "#Biểu đồ tròn  \n",
        "#CT: plot.pie(subplots=True,autopct='%.2f %%') ,autopct='%.2f %%': ghi phần trăm\n",
        "df.groupby('GT')['GT'].agg(['count']).plot.pie(subplots=True,autopct='%.2f %%')"
      ],
      "execution_count": 18,
      "outputs": [
        {
          "output_type": "execute_result",
          "data": {
            "text/plain": [
              "array([<matplotlib.axes._subplots.AxesSubplot object at 0x7f33f3f1fed0>],\n",
              "      dtype=object)"
            ]
          },
          "metadata": {},
          "execution_count": 18
        },
        {
          "output_type": "display_data",
          "data": {
            "image/png": "[encoded data removed]",
            "text/plain": [
              "<Figure size 432x288 with 1 Axes>"
            ]
          },
          "metadata": {}
        }
      ]
    },
    {
      "cell_type": "code",
      "metadata": {
        "colab": {
          "base_uri": "https://localhost:8080/",
          "height": 282
        },
        "id": "O4s5yjPzhTAY",
        "outputId": "6aed561e-b159-4d7e-e8ca-491961d9f26f"
      },
      "source": [
        "#Biểu đồ cột  \n",
        "#CT: df [\"TÊN CỘT\"].plot.hist (bins= ), bins là khoảng cách \n",
        "df['US_TBM1'].plot.hist(bins =10)"
      ],
      "execution_count": 19,
      "outputs": [
        {
          "output_type": "execute_result",
          "data": {
            "text/plain": [
              "<matplotlib.axes._subplots.AxesSubplot at 0x7f33f3a3ae90>"
            ]
          },
          "metadata": {},
          "execution_count": 19
        },
        {
          "output_type": "display_data",
          "data": {
            "image/png": "[encoded data removed]",
            "text/plain": [
              "<Figure size 432x288 with 1 Axes>"
            ]
          },
          "metadata": {
            "needs_background": "light"
          }
        }
      ]
    },
    {
      "cell_type": "code",
      "metadata": {
        "colab": {
          "base_uri": "https://localhost:8080/",
          "height": 282
        },
        "id": "exn-2Vcccfuu",
        "outputId": "be7955bb-ba46-400b-ca11-82d285ff7caa"
      },
      "source": [
        " df[\"US_TBM2\"].plot.hist(bins = 10)"
      ],
      "execution_count": 20,
      "outputs": [
        {
          "output_type": "execute_result",
          "data": {
            "text/plain": [
              "<matplotlib.axes._subplots.AxesSubplot at 0x7f33f39d6e90>"
            ]
          },
          "metadata": {},
          "execution_count": 20
        },
        {
          "output_type": "display_data",
          "data": {
            "image/png": "[encoded data removed]",
            "text/plain": [
              "<Figure size 432x288 with 1 Axes>"
            ]
          },
          "metadata": {
            "needs_background": "light"
          }
        }
      ]
    },
    {
      "cell_type": "code",
      "metadata": {
        "colab": {
          "base_uri": "https://localhost:8080/",
          "height": 282
        },
        "id": "wXq72VSLiPbP",
        "outputId": "4b8da16a-ac20-44c6-f829-00ed2f654406"
      },
      "source": [
        "df[\"US_TBM3\"].plot.hist(bins = 10)"
      ],
      "execution_count": 21,
      "outputs": [
        {
          "output_type": "execute_result",
          "data": {
            "text/plain": [
              "<matplotlib.axes._subplots.AxesSubplot at 0x7f33f38de650>"
            ]
          },
          "metadata": {},
          "execution_count": 21
        },
        {
          "output_type": "display_data",
          "data": {
            "image/png": "[encoded data removed]",
            "text/plain": [
              "<Figure size 432x288 with 1 Axes>"
            ]
          },
          "metadata": {
            "needs_background": "light"
          }
        }
      ]
    },
    {
      "cell_type": "code",
      "metadata": {
        "id": "EzyzW8lXhMWb"
      },
      "source": [
        "#3. Hãy trình bày dữ liệu biến DT với các học sinh là nam"
      ],
      "execution_count": 22,
      "outputs": []
    },
    {
      "cell_type": "code",
      "metadata": {
        "colab": {
          "base_uri": "https://localhost:8080/",
          "height": 302
        },
        "id": "VmSLMGAri2il",
        "outputId": "62b489ac-58b3-409d-a065-1638918fbc79"
      },
      "source": [
        "df_nam = df[df[\"GT\"]== \"M\"] \n",
        "df_nam_theo_DT=df_nam.groupby('DT')['DT'].agg(['count']) \n",
        "df_nam_theo_DT.plot.bar() \n",
        "\n",
        "# df_nam=df[df['GT']=='M' ]\n",
        "# df_nam_theo_DT=df_nam.groupby('DT')['DT'].agg(['count'])\n",
        "# df_nam_theo_DT.plot.bar()\n",
        "# df_nam_theo_DT_bang=pd.pivot_table(df_nam_theo_DT, values='count', columns='DT')\n",
        "# df_nam_theo_DT_bang.plot.bar()\n",
        "# df_nam_theo_DT.plot.pie(y = 'count')"
      ],
      "execution_count": 23,
      "outputs": [
        {
          "output_type": "execute_result",
          "data": {
            "text/plain": [
              "<matplotlib.axes._subplots.AxesSubplot at 0x7f33f38711d0>"
            ]
          },
          "metadata": {},
          "execution_count": 23
        },
        {
          "output_type": "display_data",
          "data": {
            "image/png": "[encoded data removed]",
            "text/plain": [
              "<Figure size 432x288 with 1 Axes>"
            ]
          },
          "metadata": {
            "needs_background": "light"
          }
        }
      ]
    },
    {
      "cell_type": "code",
      "metadata": {
        "id": "Yy6sngOZm0l1"
      },
      "source": [
        "# CÂU 4: Hãy trình bày dữ liệu biến KV với các học sinh là nam thuộc dân tộc Kinh, có điểm thỏa\n",
        "#mãn điều kiện (DH1 >= 5.0 và DH2 >= 4.0 và DH3 >= 4.0)\n"
      ],
      "execution_count": 24,
      "outputs": []
    },
    {
      "cell_type": "code",
      "metadata": {
        "colab": {
          "base_uri": "https://localhost:8080/",
          "height": 282
        },
        "id": "1xUQFhONm5MC",
        "outputId": "69277007-2d24-4148-940a-038e544002a4"
      },
      "source": [
        "#BƯỚC 1: đầu tiên là lọc các bạn nam thuộc dân tộc kinh  và mãn điều kiện (DH1 >= 5.0 và DH2 >= 4.0 và DH3 >= 4.0)\n",
        "#CT LỌC : df.loc[(df[tên cột muốn lọc] == \"Gía trị muốn lọc\")&(df[tên cột muốn lọc] == \"Gía trị muốn lọc\")..,  & : dấu và \n",
        "df_KV = df.loc[(df[\"GT\"]==\"M\")& (df[\"DT\"]== 0) & (df['DH1']>= 5 )& (df['DH1']>=4) & (df['DH3']>= 4)] \n",
        "#BƯỚC 2:là groupby nó theo biến KV  \n",
        "#CT tên biến = tên muốn groupby.(\"theo cột nào \")[\"chọn cột nào\"].agg([\"count\",\"sum\",...])\n",
        "df_theo_KV = df_KV.groupby(\"KV\")[\"KV\"].agg([\"count\"]) \n",
        "#BƯỚC 3: VẼ BIỂU ĐỒ tròn, cột,.. \n",
        "#CT: + tròn TÊN BIÊN.plot.pie.(subplots=True,autopct='%.2f %%') \n",
        "df_theo_KV.plot.pie(subplots=True,autopct='%.2f %%' )\n"
      ],
      "execution_count": 25,
      "outputs": [
        {
          "output_type": "execute_result",
          "data": {
            "text/plain": [
              "array([<matplotlib.axes._subplots.AxesSubplot object at 0x7f33f3a19f10>],\n",
              "      dtype=object)"
            ]
          },
          "metadata": {},
          "execution_count": 25
        },
        {
          "output_type": "display_data",
          "data": {
            "image/png": "[encoded data removed]",
            "text/plain": [
              "<Figure size 432x288 with 1 Axes>"
            ]
          },
          "metadata": {}
        }
      ]
    },
    {
      "cell_type": "code",
      "metadata": {
        "id": "Hym1-r-rtI3N"
      },
      "source": [
        "# câu 5Hãy trình bày dữ liệu lần lượt các biến DH1, DH2, DH3 lớn hơn bằng 5.0 và thuộc khu\n",
        "#vực 2NT"
      ],
      "execution_count": 26,
      "outputs": []
    },
    {
      "cell_type": "code",
      "metadata": {
        "colab": {
          "base_uri": "https://localhost:8080/",
          "height": 296
        },
        "id": "TM9j2sK_tNBX",
        "outputId": "8b2b927d-d66b-459a-dbb8-ba9c93f3f80b"
      },
      "source": [
        "#Bước 1: lọc dữ liệu \n",
        "#CT: tên biến = df[\"CỘT MUỐN LỌC\"].loc[(df[\"cột muốn lọc\"]== \"Gía trị muốn lọc\")]  \n",
        "df_DH1 = df[\"DH1\"].loc[(df[\"DH1\"] >= 5.0) & (df[\"KV\"] ==\"2NT\") ]\n",
        "#BƯỚC 2 : vẽ biểu đồ cột \n",
        "#CT TÊN BIẾN MUỐN VẼ.plot.hist(bins=20) ,bins : khoảng cách giữa các cột \n",
        "# plt.xlabel : tên cột x \n",
        "#plt.ylabel: tên cột y \n",
        "df_DH1.plot.hist(bins = 20) \n",
        "plt.xlabel(\"Điểm\") \n",
        "plt.ylabel(\"Số người đậu\") "
      ],
      "execution_count": 27,
      "outputs": [
        {
          "output_type": "execute_result",
          "data": {
            "text/plain": [
              "Text(0, 0.5, 'Số người đậu')"
            ]
          },
          "metadata": {},
          "execution_count": 27
        },
        {
          "output_type": "display_data",
          "data": {
            "image/png": "[encoded data removed]",
            "text/plain": [
              "<Figure size 432x288 with 1 Axes>"
            ]
          },
          "metadata": {
            "needs_background": "light"
          }
        }
      ]
    },
    {
      "cell_type": "code",
      "metadata": {
        "colab": {
          "base_uri": "https://localhost:8080/",
          "height": 296
        },
        "id": "G0L-QrsIw-lO",
        "outputId": "5b12e9f7-9e8b-48f8-e755-aca15896e738"
      },
      "source": [
        "# Tương tự như vậy \n",
        "df_DH2 = df[\"DH2\"].loc[(df[\"DH2\"]>= 5.0)& (df[\"KV\"] ==\"2NT\")] \n",
        "df_DH2.plot.hist(bins = 20) \n",
        "plt.xlabel(\"Điểm\") \n",
        "plt.ylabel(\"Số người đậu\")"
      ],
      "execution_count": 28,
      "outputs": [
        {
          "output_type": "execute_result",
          "data": {
            "text/plain": [
              "Text(0, 0.5, 'Số người đậu')"
            ]
          },
          "metadata": {},
          "execution_count": 28
        },
        {
          "output_type": "display_data",
          "data": {
            "image/png": "[encoded data removed]",
            "text/plain": [
              "<Figure size 432x288 with 1 Axes>"
            ]
          },
          "metadata": {
            "needs_background": "light"
          }
        }
      ]
    },
    {
      "cell_type": "code",
      "metadata": {
        "colab": {
          "base_uri": "https://localhost:8080/",
          "height": 296
        },
        "id": "WYN_PdIGx3Q_",
        "outputId": "45a851a1-15cd-4ecd-f778-a0e2a37b1ce3"
      },
      "source": [
        "df_DH3 = df[\"DH3\"].loc[(df[\"DH3\"]>= 5.0)& (df[\"KV\"] ==\"2NT\")] \n",
        "df_DH3.plot.hist(bins = 20) \n",
        "plt.xlabel(\"Điểm\") \n",
        "plt.ylabel(\"Số người đậu\")"
      ],
      "execution_count": 29,
      "outputs": [
        {
          "output_type": "execute_result",
          "data": {
            "text/plain": [
              "Text(0, 0.5, 'Số người đậu')"
            ]
          },
          "metadata": {},
          "execution_count": 29
        },
        {
          "output_type": "display_data",
          "data": {
            "image/png": "[encoded data removed]",
            "text/plain": [
              "<Figure size 432x288 with 1 Axes>"
            ]
          },
          "metadata": {
            "needs_background": "light"
          }
        }
      ]
    },
    {
      "cell_type": "code",
      "metadata": {
        "id": "sjjB49wu0Qtx"
      },
      "source": [
        "#Phần 3: Trực quan hóa dữ liệu theo nhóm phân loại\n"
      ],
      "execution_count": 30,
      "outputs": []
    },
    {
      "cell_type": "code",
      "metadata": {
        "id": "CH-ny3dmfNEf"
      },
      "source": [
        "#BÀI 1 Trực quan dữ liệu học sinh nữ trên các nhóm XL1, XL2, XL3 dạng unstacked"
      ],
      "execution_count": 31,
      "outputs": []
    },
    {
      "cell_type": "code",
      "metadata": {
        "colab": {
          "base_uri": "https://localhost:8080/",
          "height": 302
        },
        "id": "3kzS9WiCfSC1",
        "outputId": "2272935d-cb22-4f59-f059-5cfc947030e1"
      },
      "source": [
        "#Bước 1 lọc dữ liệu nữ \n",
        "df_nu = df.loc[(df[\"GT\"] == \"F\")] \n",
        "#Bước 2 group by \n",
        "df_XL1 = df_nu.groupby(\"XL1\")[\"GT\"].agg([\"count\"]) \n",
        "#Bước 3 : vẽ biểu đồ cột\n",
        "df_XL1.plot.bar(stacked=False)  \n",
        "#plot.bar(stacked=False) ,stacked=False: là chiều dọc , stacked=True: chiều ngang\n",
        "plt.xlabel(\"Xếp loại\") \n",
        "plt.ylabel(\"Số lượng học sinh\")"
      ],
      "execution_count": 32,
      "outputs": [
        {
          "output_type": "execute_result",
          "data": {
            "text/plain": [
              "Text(0, 0.5, 'Số lượng học sinh')"
            ]
          },
          "metadata": {},
          "execution_count": 32
        },
        {
          "output_type": "display_data",
          "data": {
            "image/png": "[encoded data removed]",
            "text/plain": [
              "<Figure size 432x288 with 1 Axes>"
            ]
          },
          "metadata": {
            "needs_background": "light"
          }
        }
      ]
    },
    {
      "cell_type": "code",
      "metadata": {
        "colab": {
          "base_uri": "https://localhost:8080/",
          "height": 300
        },
        "id": "m377xvTJKFym",
        "outputId": "6d30155b-e1bd-4c06-dde5-660542ee6aa5"
      },
      "source": [
        "# Tương tự XL1 \n",
        "# Do đã có lọc tại XL1 nên ở đây chỉ cần vẽ thôi\n",
        "df_XL2 = df_nu.groupby(\"XL2\")[\"GT\"].agg([\"count\"])\n",
        "df_XL2.plot.bar() \n",
        "plt.xlabel(\"Xếp loại\") \n",
        "plt.ylabel(\"Số lượng học sinh\")"
      ],
      "execution_count": 33,
      "outputs": [
        {
          "output_type": "execute_result",
          "data": {
            "text/plain": [
              "Text(0, 0.5, 'Số lượng học sinh')"
            ]
          },
          "metadata": {},
          "execution_count": 33
        },
        {
          "output_type": "display_data",
          "data": {
            "image/png": "[encoded data removed]",
            "text/plain": [
              "<Figure size 432x288 with 1 Axes>"
            ]
          },
          "metadata": {
            "needs_background": "light"
          }
        }
      ]
    },
    {
      "cell_type": "code",
      "metadata": {
        "colab": {
          "base_uri": "https://localhost:8080/",
          "height": 300
        },
        "id": "WfY16HpuKGDY",
        "outputId": "e598b7ce-0009-4cce-e148-6bddb0c6133c"
      },
      "source": [
        "# Tương tự XL1\n",
        "df_XL3 = df_nu.groupby(\"XL3\")[\"GT\"].agg([\"count\"])\n",
        "df_XL3.plot.bar() \n",
        "plt.xlabel(\"Xếp loại\") \n",
        "plt.ylabel(\"Số lượng học sinh\")"
      ],
      "execution_count": 34,
      "outputs": [
        {
          "output_type": "execute_result",
          "data": {
            "text/plain": [
              "Text(0, 0.5, 'Số lượng học sinh')"
            ]
          },
          "metadata": {},
          "execution_count": 34
        },
        {
          "output_type": "display_data",
          "data": {
            "image/png": "[encoded data removed]",
            "text/plain": [
              "<Figure size 432x288 with 1 Axes>"
            ]
          },
          "metadata": {
            "needs_background": "light"
          }
        }
      ]
    },
    {
      "cell_type": "code",
      "metadata": {
        "id": "uAapNz1LIUi5"
      },
      "source": [
        "# CÂU 2 Trực quan dữ liệu KQXT trên nhóm học sinh có khối thi A, A1, B thuộc khu vực 1, 2"
      ],
      "execution_count": 35,
      "outputs": []
    },
    {
      "cell_type": "code",
      "metadata": {
        "colab": {
          "base_uri": "https://localhost:8080/",
          "height": 282
        },
        "id": "nyqLmI0wJgns",
        "outputId": "a48ef112-25bb-45ef-ccc4-b3c607fb0c44"
      },
      "source": [
        "#Đâu tiên: append pandas nó khác với append python\n",
        "Thuoc_KV = df.loc[(df['KV'] == '1')].append(df.loc[(df['KV'] == '2')]) \n",
        "# Thuoc_KV.head(100) # chạy dòng code này bạn sẽ hiểu\n",
        "DK_KT = Thuoc_KV.loc[(Thuoc_KV['KT'] == 'A') | (Thuoc_KV['KT'] == 'A1') | (Thuoc_KV['KT'] == 'B')] \n",
        "# DK_KT.head(100) chạy dòng code này bạn sẽ hiểu\n",
        "DK_KT.groupby('KQXT')['KT'].agg(['count']).plot.pie(subplots=True,autopct='%.2f %%')\n"
      ],
      "execution_count": 36,
      "outputs": [
        {
          "output_type": "execute_result",
          "data": {
            "text/plain": [
              "array([<matplotlib.axes._subplots.AxesSubplot object at 0x7f33f33db4d0>],\n",
              "      dtype=object)"
            ]
          },
          "metadata": {},
          "execution_count": 36
        },
        {
          "output_type": "display_data",
          "data": {
            "image/png": "[encoded data removed]",
            "text/plain": [
              "<Figure size 432x288 with 1 Axes>"
            ]
          },
          "metadata": {}
        }
      ]
    },
    {
      "cell_type": "code",
      "metadata": {
        "id": "yCt0hLgUbdJn"
      },
      "source": [
        "#CÂU 3 Trực quan dữ liệu số lượng thí sinh từng khu vực dựa trên từng nhóm khối thi"
      ],
      "execution_count": 37,
      "outputs": []
    },
    {
      "cell_type": "code",
      "metadata": {
        "colab": {
          "base_uri": "https://localhost:8080/",
          "height": 280
        },
        "id": "4W4GP1koMR-Y",
        "outputId": "949094df-8baa-4969-96bb-7e96c15acf9b"
      },
      "source": [
        "# KHỐI THI A  \n",
        "# lọc những người thi khối A. Sau đó mới groupby với KV\n",
        "df.loc[df[\"KT\"] ==\"A\"].groupby(\"KV\")[\"KT\"].agg([\"count\"]).plot.pie(subplots=True,autopct='%.2f %%')\n",
        "plt.xlabel(\"Khối A\") \n"
      ],
      "execution_count": 47,
      "outputs": [
        {
          "output_type": "execute_result",
          "data": {
            "text/plain": [
              "Text(0.5, 0, 'Khối A')"
            ]
          },
          "metadata": {},
          "execution_count": 47
        },
        {
          "output_type": "display_data",
          "data": {
            "image/png": "[encoded data removed]",
            "text/plain": [
              "<Figure size 432x288 with 1 Axes>"
            ]
          },
          "metadata": {}
        }
      ]
    },
    {
      "cell_type": "code",
      "metadata": {
        "colab": {
          "base_uri": "https://localhost:8080/",
          "height": 306
        },
        "id": "7Vr3cdlWNROZ",
        "outputId": "bcd114ad-841a-4fe6-d195-f6b2bbfd9920"
      },
      "source": [
        "# KHỐI THI B\n",
        "# tương tự như vậy \n",
        "df.loc[df[\"KT\"]==\"B\"].groupby(\"KV\")[\"KT\"].agg([\"count\"]).plot.bar() \n",
        "plt.xlabel(\"Khối B\") \n",
        "plt.ylabel(\"Số lượng\")"
      ],
      "execution_count": 41,
      "outputs": [
        {
          "output_type": "execute_result",
          "data": {
            "text/plain": [
              "Text(0.5, 0, 'Khối B')"
            ]
          },
          "metadata": {},
          "execution_count": 41
        },
        {
          "output_type": "display_data",
          "data": {
            "image/png": "[encoded data removed]",
            "text/plain": [
              "<Figure size 432x288 with 1 Axes>"
            ]
          },
          "metadata": {
            "needs_background": "light"
          }
        }
      ]
    },
    {
      "cell_type": "code",
      "metadata": {
        "colab": {
          "base_uri": "https://localhost:8080/",
          "height": 306
        },
        "id": "-c_k17gBOGqr",
        "outputId": "84433d8f-b466-41a1-e021-bff47a5bbc20"
      },
      "source": [
        "#Khối thi C \n",
        "df.loc[df[\"KT\"]==\"C\"].groupby(\"KV\")[\"KT\"].agg([\"count\"]).plot.bar() \n",
        "plt.xlabel(\"Khối C\") \n",
        "plt.ylabel(\"Số lượng\")"
      ],
      "execution_count": 42,
      "outputs": [
        {
          "output_type": "execute_result",
          "data": {
            "text/plain": [
              "Text(0.5, 0, 'Khối C')"
            ]
          },
          "metadata": {},
          "execution_count": 42
        },
        {
          "output_type": "display_data",
          "data": {
            "image/png": "[encoded data removed]",
            "text/plain": [
              "<Figure size 432x288 with 1 Axes>"
            ]
          },
          "metadata": {
            "needs_background": "light"
          }
        }
      ]
    },
    {
      "cell_type": "code",
      "metadata": {
        "colab": {
          "base_uri": "https://localhost:8080/",
          "height": 306
        },
        "id": "EHf7TIzxOaxm",
        "outputId": "790c1141-dbf5-4643-c771-6820b04234f5"
      },
      "source": [
        "#Khối thi A1\n",
        "df.loc[df[\"KT\"]==\"A1\"].groupby(\"KV\")[\"KT\"].agg([\"count\"]).plot.bar() \n",
        "plt.xlabel(\"Khối A1\") \n",
        "plt.ylabel(\"Số lượng\")"
      ],
      "execution_count": 45,
      "outputs": [
        {
          "output_type": "execute_result",
          "data": {
            "text/plain": [
              "Text(0, 0.5, 'Số lượng')"
            ]
          },
          "metadata": {},
          "execution_count": 45
        },
        {
          "output_type": "display_data",
          "data": {
            "image/png": "[encoded data removed]",
            "text/plain": [
              "<Figure size 432x288 with 1 Axes>"
            ]
          },
          "metadata": {
            "needs_background": "light"
          }
        }
      ]
    },
    {
      "cell_type": "code",
      "metadata": {
        "colab": {
          "base_uri": "https://localhost:8080/",
          "height": 306
        },
        "id": "ieuyddytOqyY",
        "outputId": "c820d4ea-ea90-4289-c5f1-6c2b1e9a3f75"
      },
      "source": [
        "#Khối thi D1\n",
        "df.loc[df[\"KT\"]==\"D1\"].groupby(\"KV\")[\"KT\"].agg([\"count\"]).plot.bar() \n",
        "plt.xlabel(\"Khối D1\")  \n",
        "plt.ylabel(\"Số lượng\")"
      ],
      "execution_count": 48,
      "outputs": [
        {
          "output_type": "execute_result",
          "data": {
            "text/plain": [
              "Text(0, 0.5, 'Số lượng')"
            ]
          },
          "metadata": {},
          "execution_count": 48
        },
        {
          "output_type": "display_data",
          "data": {
            "image/png": "[encoded data removed]",
            "text/plain": [
              "<Figure size 432x288 with 1 Axes>"
            ]
          },
          "metadata": {
            "needs_background": "light"
          }
        }
      ]
    },
    {
      "cell_type": "code",
      "metadata": {
        "id": "B-qXOcsWO88-"
      },
      "source": [
        "#Câu 4 Trực quan dữ liệu số lượng thí sinh đậu, rớt trên từng nhóm khối thi"
      ],
      "execution_count": null,
      "outputs": []
    },
    {
      "cell_type": "code",
      "metadata": {
        "id": "F1EtjWisRBDb"
      },
      "source": [
        ""
      ],
      "execution_count": null,
      "outputs": []
    },
    {
      "cell_type": "code",
      "metadata": {
        "colab": {
          "base_uri": "https://localhost:8080/",
          "height": 304
        },
        "id": "kyMZ-47gPEH6",
        "outputId": "2f4dbe7c-66ae-441f-a6f0-3041d77bf338"
      },
      "source": [
        "#Khối A\n",
        "df.loc[df['KT'] == 'A'].groupby('KQXT')['KT'].agg(['count']).plot.bar() \n",
        "plt.xlabel(\"Kết quả\") \n",
        "plt.ylabel(\"Số lượng\")\n",
        "# 0 là rớt \n",
        "# 1 là đậu "
      ],
      "execution_count": 51,
      "outputs": [
        {
          "output_type": "execute_result",
          "data": {
            "text/plain": [
              "Text(0, 0.5, 'Số lượng')"
            ]
          },
          "metadata": {},
          "execution_count": 51
        },
        {
          "output_type": "display_data",
          "data": {
            "image/png": "[encoded data removed]",
            "text/plain": [
              "<Figure size 432x288 with 1 Axes>"
            ]
          },
          "metadata": {
            "needs_background": "light"
          }
        }
      ]
    },
    {
      "cell_type": "code",
      "metadata": {
        "colab": {
          "base_uri": "https://localhost:8080/",
          "height": 304
        },
        "id": "q3tBFZNIP8ZT",
        "outputId": "bf6ea36c-25c0-451b-a7a2-08b7bb27d5c0"
      },
      "source": [
        "#Khối A1 \n",
        "df.loc[df['KT'] == 'A1'].groupby('KQXT')['KT'].agg(['count']).plot.bar() \n",
        "plt.xlabel(\"Kết quả\") \n",
        "plt.ylabel(\"Số lượng\") \n",
        "# 0 là rớt"
      ],
      "execution_count": 52,
      "outputs": [
        {
          "output_type": "execute_result",
          "data": {
            "text/plain": [
              "Text(0, 0.5, 'Số lượng')"
            ]
          },
          "metadata": {},
          "execution_count": 52
        },
        {
          "output_type": "display_data",
          "data": {
            "image/png": "[encoded data removed]",
            "text/plain": [
              "<Figure size 432x288 with 1 Axes>"
            ]
          },
          "metadata": {
            "needs_background": "light"
          }
        }
      ]
    },
    {
      "cell_type": "code",
      "metadata": {
        "colab": {
          "base_uri": "https://localhost:8080/",
          "height": 304
        },
        "id": "pv-gmud2QTtt",
        "outputId": "3e616a78-0cbe-4700-82c1-7c641f565e4e"
      },
      "source": [
        "#Khối B \n",
        "df.loc[df['KT'] == 'B'].groupby('KQXT')['KT'].agg(['count']).plot.bar() \n",
        "plt.xlabel(\"Kết quả\") \n",
        "plt.ylabel(\"Số lượng\") "
      ],
      "execution_count": 53,
      "outputs": [
        {
          "output_type": "execute_result",
          "data": {
            "text/plain": [
              "Text(0, 0.5, 'Số lượng')"
            ]
          },
          "metadata": {},
          "execution_count": 53
        },
        {
          "output_type": "display_data",
          "data": {
            "image/png": "[encoded data removed]",
            "text/plain": [
              "<Figure size 432x288 with 1 Axes>"
            ]
          },
          "metadata": {
            "needs_background": "light"
          }
        }
      ]
    },
    {
      "cell_type": "code",
      "metadata": {
        "colab": {
          "base_uri": "https://localhost:8080/",
          "height": 304
        },
        "id": "NpC5DmmOQeEd",
        "outputId": "40501c68-f99f-4936-805a-e8627bbd199b"
      },
      "source": [
        "#Khối C \n",
        "df.loc[df['KT'] == 'C'].groupby('KQXT')['KT'].agg(['count']).plot.bar() \n",
        "plt.xlabel(\"Kết quả\") \n",
        "plt.ylabel(\"Số lượng\") "
      ],
      "execution_count": 54,
      "outputs": [
        {
          "output_type": "execute_result",
          "data": {
            "text/plain": [
              "Text(0, 0.5, 'Số lượng')"
            ]
          },
          "metadata": {},
          "execution_count": 54
        },
        {
          "output_type": "display_data",
          "data": {
            "image/png": "[encoded data removed]",
            "text/plain": [
              "<Figure size 432x288 with 1 Axes>"
            ]
          },
          "metadata": {
            "needs_background": "light"
          }
        }
      ]
    },
    {
      "cell_type": "code",
      "metadata": {
        "colab": {
          "base_uri": "https://localhost:8080/",
          "height": 304
        },
        "id": "lZkiS5yHQiVm",
        "outputId": "36224d9e-ee37-4704-af62-89918f8f62d2"
      },
      "source": [
        "#Khối D1 \n",
        "df.loc[df['KT'] == 'D1'].groupby('KQXT')['KT'].agg(['count']).plot.bar() \n",
        "plt.xlabel(\"Kết quả\") \n",
        "plt.ylabel(\"Số lượng\") "
      ],
      "execution_count": 55,
      "outputs": [
        {
          "output_type": "execute_result",
          "data": {
            "text/plain": [
              "Text(0, 0.5, 'Số lượng')"
            ]
          },
          "metadata": {},
          "execution_count": 55
        },
        {
          "output_type": "display_data",
          "data": {
            "image/png": "[encoded data removed]",
            "text/plain": [
              "<Figure size 432x288 with 1 Axes>"
            ]
          },
          "metadata": {
            "needs_background": "light"
          }
        }
      ]
    },
    {
      "cell_type": "code",
      "metadata": {
        "id": "V9eXmliaQmWk"
      },
      "source": [
        "# Câu 5 : Trực quan dữ liệu số lượng thí sinh đậu rớt trên từng nhóm khu vực."
      ],
      "execution_count": null,
      "outputs": []
    },
    {
      "cell_type": "code",
      "metadata": {
        "colab": {
          "base_uri": "https://localhost:8080/",
          "height": 304
        },
        "id": "N7YS2VEhRDmD",
        "outputId": "cb88759a-657b-434b-911e-b531693d6eb2"
      },
      "source": [
        "#KHU VỰC 1\n",
        "df.loc[df['KV'] == '1'].groupby('KQXT')['KV'].agg(['count']).plot.bar()  \n",
        "plt.xlabel(\"Kết quả\") \n",
        "plt.ylabel(\"Số lượng\")"
      ],
      "execution_count": 57,
      "outputs": [
        {
          "output_type": "execute_result",
          "data": {
            "text/plain": [
              "Text(0, 0.5, 'Số lượng')"
            ]
          },
          "metadata": {},
          "execution_count": 57
        },
        {
          "output_type": "display_data",
          "data": {
            "image/png": "[encoded data removed]",
            "text/plain": [
              "<Figure size 432x288 with 1 Axes>"
            ]
          },
          "metadata": {
            "needs_background": "light"
          }
        }
      ]
    },
    {
      "cell_type": "code",
      "metadata": {
        "colab": {
          "base_uri": "https://localhost:8080/",
          "height": 304
        },
        "id": "AMpdS_vGRThh",
        "outputId": "e6e0b9c2-486e-4922-dcb1-affea3b9f864"
      },
      "source": [
        "#KHU VỰC 2\n",
        "df.loc[df['KV'] == '2'].groupby('KQXT')['KV'].agg(['count']).plot.bar()  \n",
        "plt.xlabel(\"Kết quả\") \n",
        "plt.ylabel(\"Số lượng\")"
      ],
      "execution_count": 58,
      "outputs": [
        {
          "output_type": "execute_result",
          "data": {
            "text/plain": [
              "Text(0, 0.5, 'Số lượng')"
            ]
          },
          "metadata": {},
          "execution_count": 58
        },
        {
          "output_type": "display_data",
          "data": {
            "image/png": "[encoded data removed]",
            "text/plain": [
              "<Figure size 432x288 with 1 Axes>"
            ]
          },
          "metadata": {
            "needs_background": "light"
          }
        }
      ]
    },
    {
      "cell_type": "code",
      "metadata": {
        "colab": {
          "base_uri": "https://localhost:8080/",
          "height": 304
        },
        "id": "pq2GFfVORWKQ",
        "outputId": "4c4cd5c7-a5c2-4197-f028-884ce7055d07"
      },
      "source": [
        "#KHU VỰC 2NT1\n",
        "df.loc[df['KV'] == '2NT'].groupby('KQXT')['KV'].agg(['count']).plot.bar()  \n",
        "plt.xlabel(\"Kết quả\") \n",
        "plt.ylabel(\"Số lượng\")"
      ],
      "execution_count": 60,
      "outputs": [
        {
          "output_type": "execute_result",
          "data": {
            "text/plain": [
              "Text(0, 0.5, 'Số lượng')"
            ]
          },
          "metadata": {},
          "execution_count": 60
        },
        {
          "output_type": "display_data",
          "data": {
            "image/png": "[encoded data removed]",
            "text/plain": [
              "<Figure size 432x288 with 1 Axes>"
            ]
          },
          "metadata": {
            "needs_background": "light"
          }
        }
      ]
    },
    {
      "cell_type": "code",
      "metadata": {
        "id": "pGq0Y0lNReO2"
      },
      "source": [
        "# CÂU 6 : Trực quan dữ liệu số lượng thí sinh đậu rớt dựa trên từng nhóm dân tộc"
      ],
      "execution_count": null,
      "outputs": []
    },
    {
      "cell_type": "code",
      "metadata": {
        "colab": {
          "base_uri": "https://localhost:8080/",
          "height": 302
        },
        "id": "gCioD_WfRh9_",
        "outputId": "6e6661b8-8f44-456e-a726-bc7529c3980e"
      },
      "source": [
        "#Dân tộc 0\n",
        "df.loc[df[\"DT\"]==0].groupby(\"KQXT\")[\"DT\"].agg([\"count\"]).plot.bar() \n",
        "plt.xlabel(\"Khu vực\") \n",
        "plt.ylabel(\"Số lượng\")"
      ],
      "execution_count": 61,
      "outputs": [
        {
          "output_type": "execute_result",
          "data": {
            "text/plain": [
              "Text(0, 0.5, 'Số lượng')"
            ]
          },
          "metadata": {},
          "execution_count": 61
        },
        {
          "output_type": "display_data",
          "data": {
            "image/png": "[encoded data removed]",
            "text/plain": [
              "<Figure size 432x288 with 1 Axes>"
            ]
          },
          "metadata": {
            "needs_background": "light"
          }
        }
      ]
    },
    {
      "cell_type": "code",
      "metadata": {
        "colab": {
          "base_uri": "https://localhost:8080/",
          "height": 302
        },
        "id": "F_wAjRHDSHnU",
        "outputId": "12a71a76-34c5-4668-ec0b-70940939e94e"
      },
      "source": [
        "#Dân tộc 1\n",
        "df.loc[df['DT'] == 1].groupby('KQXT')['DT'].agg(['count']).plot.bar()\n",
        "plt.xlabel(\"Khu vực\") \n",
        "plt.ylabel(\"Số lượng\")"
      ],
      "execution_count": 63,
      "outputs": [
        {
          "output_type": "execute_result",
          "data": {
            "text/plain": [
              "Text(0, 0.5, 'Số lượng')"
            ]
          },
          "metadata": {},
          "execution_count": 63
        },
        {
          "output_type": "display_data",
          "data": {
            "image/png": "[encoded data removed]",
            "text/plain": [
              "<Figure size 432x288 with 1 Axes>"
            ]
          },
          "metadata": {
            "needs_background": "light"
          }
        }
      ]
    },
    {
      "cell_type": "code",
      "metadata": {
        "colab": {
          "base_uri": "https://localhost:8080/",
          "height": 302
        },
        "id": "opcHS_DXSvSP",
        "outputId": "ae0c6f3e-2061-46dc-b689-8d0cfd6c02a4"
      },
      "source": [
        "#Dân tộc 6 \n",
        "df.loc[df['DT'] == 6].groupby('KQXT')['DT'].agg(['count']).plot.bar()\n",
        "plt.xlabel(\"Khu vực\") \n",
        "plt.ylabel(\"Số lượng\")"
      ],
      "execution_count": 64,
      "outputs": [
        {
          "output_type": "execute_result",
          "data": {
            "text/plain": [
              "Text(0, 0.5, 'Số lượng')"
            ]
          },
          "metadata": {},
          "execution_count": 64
        },
        {
          "output_type": "display_data",
          "data": {
            "image/png": "[encoded data removed]",
            "text/plain": [
              "<Figure size 432x288 with 1 Axes>"
            ]
          },
          "metadata": {
            "needs_background": "light"
          }
        }
      ]
    },
    {
      "cell_type": "code",
      "metadata": {
        "id": "sWWDrJAjS35x"
      },
      "source": [
        "# câu 7 : Trực quan dữ liệu số lượng thí sinh đậu rớt dựa trên từng nhóm giới tính."
      ],
      "execution_count": null,
      "outputs": []
    },
    {
      "cell_type": "code",
      "metadata": {
        "colab": {
          "base_uri": "https://localhost:8080/",
          "height": 302
        },
        "id": "y4tHo65MS79i",
        "outputId": "864402dc-0e0e-48f7-d2b2-9bfc3b465f55"
      },
      "source": [
        "# Nam \n",
        "df.loc[df['GT'] == \"M\"].groupby('KQXT')['GT'].agg(['count']).plot.bar()\n",
        "plt.xlabel(\"Khu vực Nam\") \n",
        "plt.ylabel(\"Số lượng\")"
      ],
      "execution_count": 66,
      "outputs": [
        {
          "output_type": "execute_result",
          "data": {
            "text/plain": [
              "Text(0, 0.5, 'Số lượng')"
            ]
          },
          "metadata": {},
          "execution_count": 66
        },
        {
          "output_type": "display_data",
          "data": {
            "image/png": "[encoded data removed]",
            "text/plain": [
              "<Figure size 432x288 with 1 Axes>"
            ]
          },
          "metadata": {
            "needs_background": "light"
          }
        }
      ]
    },
    {
      "cell_type": "code",
      "metadata": {
        "colab": {
          "base_uri": "https://localhost:8080/",
          "height": 302
        },
        "id": "gX9tZsqUUBgJ",
        "outputId": "9f39e4a9-99b3-4cb2-ad28-28d734b7b46c"
      },
      "source": [
        "# Nữ \n",
        "df.loc[df['GT'] == \"F\"].groupby('KQXT')['GT'].agg(['count']).plot.bar()\n",
        "plt.xlabel(\"Khu vực Nữ\") \n",
        "plt.ylabel(\"Số lượng\")"
      ],
      "execution_count": 67,
      "outputs": [
        {
          "output_type": "execute_result",
          "data": {
            "text/plain": [
              "Text(0, 0.5, 'Số lượng')"
            ]
          },
          "metadata": {},
          "execution_count": 67
        },
        {
          "output_type": "display_data",
          "data": {
            "image/png": "[encoded data removed]",
            "text/plain": [
              "<Figure size 432x288 with 1 Axes>"
            ]
          },
          "metadata": {
            "needs_background": "light"
          }
        }
      ]
    },
    {
      "cell_type": "code",
      "metadata": {
        "id": "ZloMixfRUIZs"
      },
      "source": [
        "# Phần 4: Trực quan hóa dữ liệu nâng cao"
      ],
      "execution_count": null,
      "outputs": []
    },
    {
      "cell_type": "code",
      "metadata": {
        "id": "KU8-JpZKULNm"
      },
      "source": [
        "# Câu 1: Vẽ biểu đồ đường Simple cho biến T1"
      ],
      "execution_count": null,
      "outputs": []
    },
    {
      "cell_type": "code",
      "metadata": {
        "colab": {
          "base_uri": "https://localhost:8080/",
          "height": 296
        },
        "id": "d1UqPUmYUPDk",
        "outputId": "4589dae0-bcff-4880-9812-31a16a01ba55"
      },
      "source": [
        "# Đâu tiên là groupby sau đó chấm plot\n",
        "df.groupby('T1')['T1'].agg('count').plot() "
      ],
      "execution_count": 68,
      "outputs": [
        {
          "output_type": "execute_result",
          "data": {
            "text/plain": [
              "<matplotlib.axes._subplots.AxesSubplot at 0x7f33f21ddd50>"
            ]
          },
          "metadata": {},
          "execution_count": 68
        },
        {
          "output_type": "display_data",
          "data": {
            "image/png": "[encoded data removed]",
            "text/plain": [
              "<Figure size 432x288 with 1 Axes>"
            ]
          },
          "metadata": {
            "needs_background": "light"
          }
        }
      ]
    },
    {
      "cell_type": "code",
      "metadata": {
        "id": "BVX-DhDsUi-K"
      },
      "source": [
        "# Câu 2 Hãy tạo biến phân loại (phanlop t1 ) cho môn toán (T1) như sau: \n",
        "# a. Từ 0 đến dưới 5 = kém (ký hiệu ―k‖)  \n",
        "# b. Từ 5 đến dưới 7 = trung bình (ký hiệu ―tb‖)\n",
        "# c. Từ 7 đến dưới 8 = khá (ký hiệu ―k‖)\n",
        "# d. Từ 8 trở lên = giỏi (ký hiệu ―g‖)\n",
        " "
      ],
      "execution_count": null,
      "outputs": []
    },
    {
      "cell_type": "code",
      "metadata": {
        "colab": {
          "base_uri": "https://localhost:8080/",
          "height": 400
        },
        "id": "xmam2VmeUtOK",
        "outputId": "13b9107b-e3d3-49d3-b584-492a9fb075d9"
      },
      "source": [
        "for i in df[\"T1\"] : \n",
        "    df.loc[(df[\"T1\"] >= 0 ) & (df[\"T1\"] < 5), \"phanlopt1\"] = \"k\"  \n",
        "    df.loc[(df[\"T1\"] >= 5 ) & (df[\"T1\"] < 7), \"phanlopt1\"] = \"tb\" \n",
        "    df.loc[(df[\"T1\"] >= 7 ) & (df[\"T1\"] < 8), \"phanlopt1\"] = \"kh\" \n",
        "    df.loc[(df[\"T1\"] >= 8 ) , \"phanlopt1\"] = \"g\"  \n",
        "df.head(10)\n"
      ],
      "execution_count": 99,
      "outputs": [
        {
          "output_type": "execute_result",
          "data": {
            "text/html": [
              "<div>\n",
              "<style scoped>\n",
              "    .dataframe tbody tr th:only-of-type {\n",
              "        vertical-align: middle;\n",
              "    }\n",
              "\n",
              "    .dataframe tbody tr th {\n",
              "        vertical-align: top;\n",
              "    }\n",
              "\n",
              "    .dataframe thead th {\n",
              "        text-align: right;\n",
              "    }\n",
              "</style>\n",
              "<table border=\"1\" class=\"dataframe\">\n",
              "  <thead>\n",
              "    <tr style=\"text-align: right;\">\n",
              "      <th></th>\n",
              "      <th>Unnamed: 0</th>\n",
              "      <th>Unnamed: 0.1</th>\n",
              "      <th>STT</th>\n",
              "      <th>T1</th>\n",
              "      <th>L1</th>\n",
              "      <th>H1</th>\n",
              "      <th>S1</th>\n",
              "      <th>V1</th>\n",
              "      <th>X1</th>\n",
              "      <th>D1</th>\n",
              "      <th>N1</th>\n",
              "      <th>T2</th>\n",
              "      <th>L2</th>\n",
              "      <th>H2</th>\n",
              "      <th>S2</th>\n",
              "      <th>V2</th>\n",
              "      <th>X2</th>\n",
              "      <th>D2</th>\n",
              "      <th>N2</th>\n",
              "      <th>T3</th>\n",
              "      <th>L3</th>\n",
              "      <th>H3</th>\n",
              "      <th>S3</th>\n",
              "      <th>V3</th>\n",
              "      <th>X3</th>\n",
              "      <th>D3</th>\n",
              "      <th>N3</th>\n",
              "      <th>T4</th>\n",
              "      <th>L4</th>\n",
              "      <th>H4</th>\n",
              "      <th>S4</th>\n",
              "      <th>V4</th>\n",
              "      <th>X4</th>\n",
              "      <th>D4</th>\n",
              "      <th>N4</th>\n",
              "      <th>T5</th>\n",
              "      <th>L5</th>\n",
              "      <th>H5</th>\n",
              "      <th>S5</th>\n",
              "      <th>V5</th>\n",
              "      <th>X5</th>\n",
              "      <th>D5</th>\n",
              "      <th>N5</th>\n",
              "      <th>T6</th>\n",
              "      <th>L6</th>\n",
              "      <th>H6</th>\n",
              "      <th>S6</th>\n",
              "      <th>V6</th>\n",
              "      <th>X6</th>\n",
              "      <th>D6</th>\n",
              "      <th>N6</th>\n",
              "      <th>GT</th>\n",
              "      <th>DT</th>\n",
              "      <th>KV</th>\n",
              "      <th>DH1</th>\n",
              "      <th>DH2</th>\n",
              "      <th>DH3</th>\n",
              "      <th>KT</th>\n",
              "      <th>TBM1</th>\n",
              "      <th>TBM2</th>\n",
              "      <th>TBM3</th>\n",
              "      <th>US_TBM1</th>\n",
              "      <th>US_TBM2</th>\n",
              "      <th>US_TBM3</th>\n",
              "      <th>KQXT</th>\n",
              "      <th>XL1</th>\n",
              "      <th>XL2</th>\n",
              "      <th>XL3</th>\n",
              "      <th>phanlopt1</th>\n",
              "    </tr>\n",
              "  </thead>\n",
              "  <tbody>\n",
              "    <tr>\n",
              "      <th>0</th>\n",
              "      <td>0</td>\n",
              "      <td>0</td>\n",
              "      <td>1</td>\n",
              "      <td>7.2</td>\n",
              "      <td>7.3</td>\n",
              "      <td>6.3</td>\n",
              "      <td>7.3</td>\n",
              "      <td>7.0</td>\n",
              "      <td>7.9</td>\n",
              "      <td>7.3</td>\n",
              "      <td>5.5</td>\n",
              "      <td>8.4</td>\n",
              "      <td>8.9</td>\n",
              "      <td>5.8</td>\n",
              "      <td>9.0</td>\n",
              "      <td>6.6</td>\n",
              "      <td>8.7</td>\n",
              "      <td>7.2</td>\n",
              "      <td>5.8</td>\n",
              "      <td>7.4</td>\n",
              "      <td>7.4</td>\n",
              "      <td>5.2</td>\n",
              "      <td>6.6</td>\n",
              "      <td>6.9</td>\n",
              "      <td>8.9</td>\n",
              "      <td>8.1</td>\n",
              "      <td>5.8</td>\n",
              "      <td>7.2</td>\n",
              "      <td>7.1</td>\n",
              "      <td>5.9</td>\n",
              "      <td>7.2</td>\n",
              "      <td>6.6</td>\n",
              "      <td>5.8</td>\n",
              "      <td>8.1</td>\n",
              "      <td>5.9</td>\n",
              "      <td>7.4</td>\n",
              "      <td>5.6</td>\n",
              "      <td>6.1</td>\n",
              "      <td>5.7</td>\n",
              "      <td>7.9</td>\n",
              "      <td>5.0</td>\n",
              "      <td>7.4</td>\n",
              "      <td>5.0</td>\n",
              "      <td>6.9</td>\n",
              "      <td>5.7</td>\n",
              "      <td>6.5</td>\n",
              "      <td>7.2</td>\n",
              "      <td>8.4</td>\n",
              "      <td>6.6</td>\n",
              "      <td>7.6</td>\n",
              "      <td>5.9</td>\n",
              "      <td>F</td>\n",
              "      <td>0.0</td>\n",
              "      <td>2NT</td>\n",
              "      <td>3.25</td>\n",
              "      <td>3.25</td>\n",
              "      <td>4.50</td>\n",
              "      <td>A1</td>\n",
              "      <td>7.00</td>\n",
              "      <td>7.54</td>\n",
              "      <td>7.01</td>\n",
              "      <td>2.800</td>\n",
              "      <td>3.016</td>\n",
              "      <td>2.804</td>\n",
              "      <td>0.0</td>\n",
              "      <td>K</td>\n",
              "      <td>K</td>\n",
              "      <td>K</td>\n",
              "      <td>kh</td>\n",
              "    </tr>\n",
              "    <tr>\n",
              "      <th>1</th>\n",
              "      <td>1</td>\n",
              "      <td>1</td>\n",
              "      <td>2</td>\n",
              "      <td>5.4</td>\n",
              "      <td>3.9</td>\n",
              "      <td>3.9</td>\n",
              "      <td>4.0</td>\n",
              "      <td>5.4</td>\n",
              "      <td>5.4</td>\n",
              "      <td>5.3</td>\n",
              "      <td>2.8</td>\n",
              "      <td>6.3</td>\n",
              "      <td>5.4</td>\n",
              "      <td>3.2</td>\n",
              "      <td>7.2</td>\n",
              "      <td>5.4</td>\n",
              "      <td>6.1</td>\n",
              "      <td>4.7</td>\n",
              "      <td>4.7</td>\n",
              "      <td>4.3</td>\n",
              "      <td>3.8</td>\n",
              "      <td>3.7</td>\n",
              "      <td>3.7</td>\n",
              "      <td>5.2</td>\n",
              "      <td>6.6</td>\n",
              "      <td>5.8</td>\n",
              "      <td>4.4</td>\n",
              "      <td>4.9</td>\n",
              "      <td>2.8</td>\n",
              "      <td>5.1</td>\n",
              "      <td>4.5</td>\n",
              "      <td>5.6</td>\n",
              "      <td>7.0</td>\n",
              "      <td>7.6</td>\n",
              "      <td>4.7</td>\n",
              "      <td>3.0</td>\n",
              "      <td>4.6</td>\n",
              "      <td>4.4</td>\n",
              "      <td>4.9</td>\n",
              "      <td>4.3</td>\n",
              "      <td>6.3</td>\n",
              "      <td>6.7</td>\n",
              "      <td>4.4</td>\n",
              "      <td>4.0</td>\n",
              "      <td>5.4</td>\n",
              "      <td>4.0</td>\n",
              "      <td>5.2</td>\n",
              "      <td>5.5</td>\n",
              "      <td>6.6</td>\n",
              "      <td>6.1</td>\n",
              "      <td>4.4</td>\n",
              "      <td>M</td>\n",
              "      <td>0.0</td>\n",
              "      <td>1</td>\n",
              "      <td>6.00</td>\n",
              "      <td>4.00</td>\n",
              "      <td>3.50</td>\n",
              "      <td>C</td>\n",
              "      <td>4.69</td>\n",
              "      <td>5.47</td>\n",
              "      <td>5.07</td>\n",
              "      <td>1.876</td>\n",
              "      <td>2.188</td>\n",
              "      <td>2.028</td>\n",
              "      <td>0.0</td>\n",
              "      <td>Y</td>\n",
              "      <td>TB</td>\n",
              "      <td>TB</td>\n",
              "      <td>tb</td>\n",
              "    </tr>\n",
              "    <tr>\n",
              "      <th>2</th>\n",
              "      <td>2</td>\n",
              "      <td>2</td>\n",
              "      <td>3</td>\n",
              "      <td>5.6</td>\n",
              "      <td>6.8</td>\n",
              "      <td>7.2</td>\n",
              "      <td>7.5</td>\n",
              "      <td>4.3</td>\n",
              "      <td>7.4</td>\n",
              "      <td>5.8</td>\n",
              "      <td>3.2</td>\n",
              "      <td>5.0</td>\n",
              "      <td>4.9</td>\n",
              "      <td>6.2</td>\n",
              "      <td>6.1</td>\n",
              "      <td>5.3</td>\n",
              "      <td>7.1</td>\n",
              "      <td>4.0</td>\n",
              "      <td>4.9</td>\n",
              "      <td>2.8</td>\n",
              "      <td>6.3</td>\n",
              "      <td>6.2</td>\n",
              "      <td>5.6</td>\n",
              "      <td>2.5</td>\n",
              "      <td>5.8</td>\n",
              "      <td>5.1</td>\n",
              "      <td>3.7</td>\n",
              "      <td>6.1</td>\n",
              "      <td>6.1</td>\n",
              "      <td>5.8</td>\n",
              "      <td>6.8</td>\n",
              "      <td>4.0</td>\n",
              "      <td>6.4</td>\n",
              "      <td>5.3</td>\n",
              "      <td>4.1</td>\n",
              "      <td>4.8</td>\n",
              "      <td>5.1</td>\n",
              "      <td>6.4</td>\n",
              "      <td>5.1</td>\n",
              "      <td>4.0</td>\n",
              "      <td>6.9</td>\n",
              "      <td>3.9</td>\n",
              "      <td>3.2</td>\n",
              "      <td>5.7</td>\n",
              "      <td>6.6</td>\n",
              "      <td>6.8</td>\n",
              "      <td>6.8</td>\n",
              "      <td>4.1</td>\n",
              "      <td>7.9</td>\n",
              "      <td>8.1</td>\n",
              "      <td>4.6</td>\n",
              "      <td>M</td>\n",
              "      <td>0.0</td>\n",
              "      <td>1</td>\n",
              "      <td>5.00</td>\n",
              "      <td>6.75</td>\n",
              "      <td>4.00</td>\n",
              "      <td>C</td>\n",
              "      <td>5.77</td>\n",
              "      <td>5.38</td>\n",
              "      <td>6.04</td>\n",
              "      <td>2.308</td>\n",
              "      <td>2.152</td>\n",
              "      <td>2.416</td>\n",
              "      <td>1.0</td>\n",
              "      <td>TB</td>\n",
              "      <td>TB</td>\n",
              "      <td>TB</td>\n",
              "      <td>tb</td>\n",
              "    </tr>\n",
              "    <tr>\n",
              "      <th>3</th>\n",
              "      <td>3</td>\n",
              "      <td>3</td>\n",
              "      <td>4</td>\n",
              "      <td>6.6</td>\n",
              "      <td>6.4</td>\n",
              "      <td>5.3</td>\n",
              "      <td>6.9</td>\n",
              "      <td>5.4</td>\n",
              "      <td>7.3</td>\n",
              "      <td>6.4</td>\n",
              "      <td>5.8</td>\n",
              "      <td>5.1</td>\n",
              "      <td>6.2</td>\n",
              "      <td>5.5</td>\n",
              "      <td>5.5</td>\n",
              "      <td>4.4</td>\n",
              "      <td>6.5</td>\n",
              "      <td>4.9</td>\n",
              "      <td>4.4</td>\n",
              "      <td>5.9</td>\n",
              "      <td>7.3</td>\n",
              "      <td>5.9</td>\n",
              "      <td>4.9</td>\n",
              "      <td>5.7</td>\n",
              "      <td>6.8</td>\n",
              "      <td>6.8</td>\n",
              "      <td>5.4</td>\n",
              "      <td>4.1</td>\n",
              "      <td>4.4</td>\n",
              "      <td>4.1</td>\n",
              "      <td>7.3</td>\n",
              "      <td>5.3</td>\n",
              "      <td>7.1</td>\n",
              "      <td>7.3</td>\n",
              "      <td>5.6</td>\n",
              "      <td>6.1</td>\n",
              "      <td>4.9</td>\n",
              "      <td>5.3</td>\n",
              "      <td>4.0</td>\n",
              "      <td>6.2</td>\n",
              "      <td>5.5</td>\n",
              "      <td>5.9</td>\n",
              "      <td>6.5</td>\n",
              "      <td>7.4</td>\n",
              "      <td>5.6</td>\n",
              "      <td>6.6</td>\n",
              "      <td>6.8</td>\n",
              "      <td>6.6</td>\n",
              "      <td>7.1</td>\n",
              "      <td>7.3</td>\n",
              "      <td>7.4</td>\n",
              "      <td>M</td>\n",
              "      <td>0.0</td>\n",
              "      <td>1</td>\n",
              "      <td>4.25</td>\n",
              "      <td>4.25</td>\n",
              "      <td>5.25</td>\n",
              "      <td>D1</td>\n",
              "      <td>6.21</td>\n",
              "      <td>5.20</td>\n",
              "      <td>6.88</td>\n",
              "      <td>2.484</td>\n",
              "      <td>2.080</td>\n",
              "      <td>2.752</td>\n",
              "      <td>0.0</td>\n",
              "      <td>TB</td>\n",
              "      <td>TB</td>\n",
              "      <td>K</td>\n",
              "      <td>tb</td>\n",
              "    </tr>\n",
              "    <tr>\n",
              "      <th>4</th>\n",
              "      <td>4</td>\n",
              "      <td>4</td>\n",
              "      <td>5</td>\n",
              "      <td>6.0</td>\n",
              "      <td>5.0</td>\n",
              "      <td>6.0</td>\n",
              "      <td>7.3</td>\n",
              "      <td>6.5</td>\n",
              "      <td>7.7</td>\n",
              "      <td>7.9</td>\n",
              "      <td>6.1</td>\n",
              "      <td>5.4</td>\n",
              "      <td>5.5</td>\n",
              "      <td>5.9</td>\n",
              "      <td>7.5</td>\n",
              "      <td>6.5</td>\n",
              "      <td>6.9</td>\n",
              "      <td>7.6</td>\n",
              "      <td>6.4</td>\n",
              "      <td>7.6</td>\n",
              "      <td>7.6</td>\n",
              "      <td>6.7</td>\n",
              "      <td>6.6</td>\n",
              "      <td>5.7</td>\n",
              "      <td>7.9</td>\n",
              "      <td>7.4</td>\n",
              "      <td>7.3</td>\n",
              "      <td>4.4</td>\n",
              "      <td>6.5</td>\n",
              "      <td>5.6</td>\n",
              "      <td>8.3</td>\n",
              "      <td>6.2</td>\n",
              "      <td>4.9</td>\n",
              "      <td>8.6</td>\n",
              "      <td>7.7</td>\n",
              "      <td>6.8</td>\n",
              "      <td>5.4</td>\n",
              "      <td>4.7</td>\n",
              "      <td>5.0</td>\n",
              "      <td>5.1</td>\n",
              "      <td>7.0</td>\n",
              "      <td>7.0</td>\n",
              "      <td>6.3</td>\n",
              "      <td>8.0</td>\n",
              "      <td>6.2</td>\n",
              "      <td>6.8</td>\n",
              "      <td>6.9</td>\n",
              "      <td>6.6</td>\n",
              "      <td>6.1</td>\n",
              "      <td>7.5</td>\n",
              "      <td>7.2</td>\n",
              "      <td>M</td>\n",
              "      <td>0.0</td>\n",
              "      <td>2NT</td>\n",
              "      <td>4.25</td>\n",
              "      <td>4.50</td>\n",
              "      <td>5.00</td>\n",
              "      <td>A</td>\n",
              "      <td>6.50</td>\n",
              "      <td>6.36</td>\n",
              "      <td>6.99</td>\n",
              "      <td>2.600</td>\n",
              "      <td>2.544</td>\n",
              "      <td>2.796</td>\n",
              "      <td>0.0</td>\n",
              "      <td>K</td>\n",
              "      <td>TB</td>\n",
              "      <td>K</td>\n",
              "      <td>tb</td>\n",
              "    </tr>\n",
              "    <tr>\n",
              "      <th>5</th>\n",
              "      <td>5</td>\n",
              "      <td>5</td>\n",
              "      <td>6</td>\n",
              "      <td>9.3</td>\n",
              "      <td>7.6</td>\n",
              "      <td>7.9</td>\n",
              "      <td>8.6</td>\n",
              "      <td>7.0</td>\n",
              "      <td>7.3</td>\n",
              "      <td>7.7</td>\n",
              "      <td>7.9</td>\n",
              "      <td>9.6</td>\n",
              "      <td>7.8</td>\n",
              "      <td>8.0</td>\n",
              "      <td>8.7</td>\n",
              "      <td>7.7</td>\n",
              "      <td>8.0</td>\n",
              "      <td>9.2</td>\n",
              "      <td>9.1</td>\n",
              "      <td>7.1</td>\n",
              "      <td>8.5</td>\n",
              "      <td>8.1</td>\n",
              "      <td>8.7</td>\n",
              "      <td>7.2</td>\n",
              "      <td>8.4</td>\n",
              "      <td>7.7</td>\n",
              "      <td>8.2</td>\n",
              "      <td>8.5</td>\n",
              "      <td>8.5</td>\n",
              "      <td>7.7</td>\n",
              "      <td>9.2</td>\n",
              "      <td>8.0</td>\n",
              "      <td>6.6</td>\n",
              "      <td>7.3</td>\n",
              "      <td>8.8</td>\n",
              "      <td>8.5</td>\n",
              "      <td>7.6</td>\n",
              "      <td>8.1</td>\n",
              "      <td>9.0</td>\n",
              "      <td>8.4</td>\n",
              "      <td>6.6</td>\n",
              "      <td>6.6</td>\n",
              "      <td>8.2</td>\n",
              "      <td>7.8</td>\n",
              "      <td>6.4</td>\n",
              "      <td>7.2</td>\n",
              "      <td>7.7</td>\n",
              "      <td>7.7</td>\n",
              "      <td>5.7</td>\n",
              "      <td>8.0</td>\n",
              "      <td>7.8</td>\n",
              "      <td>M</td>\n",
              "      <td>0.0</td>\n",
              "      <td>1</td>\n",
              "      <td>1.50</td>\n",
              "      <td>4.00</td>\n",
              "      <td>6.00</td>\n",
              "      <td>D1</td>\n",
              "      <td>7.96</td>\n",
              "      <td>8.54</td>\n",
              "      <td>7.38</td>\n",
              "      <td>3.184</td>\n",
              "      <td>3.416</td>\n",
              "      <td>2.952</td>\n",
              "      <td>0.0</td>\n",
              "      <td>K</td>\n",
              "      <td>G</td>\n",
              "      <td>K</td>\n",
              "      <td>g</td>\n",
              "    </tr>\n",
              "    <tr>\n",
              "      <th>6</th>\n",
              "      <td>6</td>\n",
              "      <td>6</td>\n",
              "      <td>7</td>\n",
              "      <td>2.8</td>\n",
              "      <td>3.9</td>\n",
              "      <td>5.5</td>\n",
              "      <td>6.9</td>\n",
              "      <td>5.0</td>\n",
              "      <td>7.3</td>\n",
              "      <td>4.6</td>\n",
              "      <td>5.2</td>\n",
              "      <td>4.4</td>\n",
              "      <td>6.7</td>\n",
              "      <td>5.5</td>\n",
              "      <td>7.7</td>\n",
              "      <td>5.0</td>\n",
              "      <td>6.6</td>\n",
              "      <td>6.1</td>\n",
              "      <td>4.6</td>\n",
              "      <td>4.6</td>\n",
              "      <td>4.8</td>\n",
              "      <td>4.4</td>\n",
              "      <td>8.1</td>\n",
              "      <td>5.6</td>\n",
              "      <td>6.0</td>\n",
              "      <td>4.8</td>\n",
              "      <td>3.9</td>\n",
              "      <td>4.7</td>\n",
              "      <td>6.3</td>\n",
              "      <td>4.8</td>\n",
              "      <td>7.1</td>\n",
              "      <td>6.8</td>\n",
              "      <td>7.7</td>\n",
              "      <td>6.6</td>\n",
              "      <td>5.6</td>\n",
              "      <td>5.4</td>\n",
              "      <td>4.5</td>\n",
              "      <td>5.0</td>\n",
              "      <td>5.0</td>\n",
              "      <td>5.9</td>\n",
              "      <td>6.1</td>\n",
              "      <td>6.1</td>\n",
              "      <td>4.8</td>\n",
              "      <td>5.3</td>\n",
              "      <td>7.0</td>\n",
              "      <td>6.0</td>\n",
              "      <td>5.7</td>\n",
              "      <td>6.1</td>\n",
              "      <td>6.6</td>\n",
              "      <td>6.0</td>\n",
              "      <td>6.0</td>\n",
              "      <td>F</td>\n",
              "      <td>0.0</td>\n",
              "      <td>2</td>\n",
              "      <td>6.50</td>\n",
              "      <td>6.75</td>\n",
              "      <td>5.25</td>\n",
              "      <td>C</td>\n",
              "      <td>4.90</td>\n",
              "      <td>5.60</td>\n",
              "      <td>6.01</td>\n",
              "      <td>1.960</td>\n",
              "      <td>2.240</td>\n",
              "      <td>2.404</td>\n",
              "      <td>1.0</td>\n",
              "      <td>Y</td>\n",
              "      <td>TB</td>\n",
              "      <td>TB</td>\n",
              "      <td>k</td>\n",
              "    </tr>\n",
              "    <tr>\n",
              "      <th>7</th>\n",
              "      <td>7</td>\n",
              "      <td>7</td>\n",
              "      <td>8</td>\n",
              "      <td>8.3</td>\n",
              "      <td>6.0</td>\n",
              "      <td>7.6</td>\n",
              "      <td>5.1</td>\n",
              "      <td>7.5</td>\n",
              "      <td>4.7</td>\n",
              "      <td>5.8</td>\n",
              "      <td>7.2</td>\n",
              "      <td>6.7</td>\n",
              "      <td>6.3</td>\n",
              "      <td>6.4</td>\n",
              "      <td>7.1</td>\n",
              "      <td>7.3</td>\n",
              "      <td>6.9</td>\n",
              "      <td>6.1</td>\n",
              "      <td>7.9</td>\n",
              "      <td>8.6</td>\n",
              "      <td>5.7</td>\n",
              "      <td>6.9</td>\n",
              "      <td>6.6</td>\n",
              "      <td>7.4</td>\n",
              "      <td>6.0</td>\n",
              "      <td>5.8</td>\n",
              "      <td>6.5</td>\n",
              "      <td>8.3</td>\n",
              "      <td>5.3</td>\n",
              "      <td>6.2</td>\n",
              "      <td>6.4</td>\n",
              "      <td>7.6</td>\n",
              "      <td>5.4</td>\n",
              "      <td>6.7</td>\n",
              "      <td>6.3</td>\n",
              "      <td>8.5</td>\n",
              "      <td>7.0</td>\n",
              "      <td>6.1</td>\n",
              "      <td>6.4</td>\n",
              "      <td>6.6</td>\n",
              "      <td>4.8</td>\n",
              "      <td>7.4</td>\n",
              "      <td>6.9</td>\n",
              "      <td>8.3</td>\n",
              "      <td>6.7</td>\n",
              "      <td>5.6</td>\n",
              "      <td>5.9</td>\n",
              "      <td>7.3</td>\n",
              "      <td>7.1</td>\n",
              "      <td>6.8</td>\n",
              "      <td>7.0</td>\n",
              "      <td>F</td>\n",
              "      <td>0.0</td>\n",
              "      <td>2</td>\n",
              "      <td>3.75</td>\n",
              "      <td>4.50</td>\n",
              "      <td>4.25</td>\n",
              "      <td>D1</td>\n",
              "      <td>6.80</td>\n",
              "      <td>6.87</td>\n",
              "      <td>7.03</td>\n",
              "      <td>2.720</td>\n",
              "      <td>2.748</td>\n",
              "      <td>2.812</td>\n",
              "      <td>0.0</td>\n",
              "      <td>K</td>\n",
              "      <td>K</td>\n",
              "      <td>K</td>\n",
              "      <td>g</td>\n",
              "    </tr>\n",
              "    <tr>\n",
              "      <th>8</th>\n",
              "      <td>8</td>\n",
              "      <td>8</td>\n",
              "      <td>9</td>\n",
              "      <td>6.5</td>\n",
              "      <td>6.3</td>\n",
              "      <td>7.6</td>\n",
              "      <td>6.0</td>\n",
              "      <td>5.5</td>\n",
              "      <td>7.1</td>\n",
              "      <td>6.3</td>\n",
              "      <td>5.0</td>\n",
              "      <td>7.3</td>\n",
              "      <td>6.8</td>\n",
              "      <td>7.3</td>\n",
              "      <td>6.5</td>\n",
              "      <td>6.4</td>\n",
              "      <td>7.9</td>\n",
              "      <td>7.6</td>\n",
              "      <td>3.7</td>\n",
              "      <td>6.4</td>\n",
              "      <td>6.7</td>\n",
              "      <td>6.7</td>\n",
              "      <td>7.3</td>\n",
              "      <td>6.2</td>\n",
              "      <td>6.1</td>\n",
              "      <td>8.2</td>\n",
              "      <td>5.7</td>\n",
              "      <td>8.1</td>\n",
              "      <td>6.0</td>\n",
              "      <td>6.3</td>\n",
              "      <td>7.8</td>\n",
              "      <td>7.2</td>\n",
              "      <td>7.6</td>\n",
              "      <td>8.5</td>\n",
              "      <td>5.7</td>\n",
              "      <td>7.7</td>\n",
              "      <td>7.5</td>\n",
              "      <td>8.8</td>\n",
              "      <td>6.5</td>\n",
              "      <td>5.6</td>\n",
              "      <td>5.6</td>\n",
              "      <td>7.1</td>\n",
              "      <td>6.7</td>\n",
              "      <td>7.7</td>\n",
              "      <td>8.7</td>\n",
              "      <td>8.9</td>\n",
              "      <td>7.5</td>\n",
              "      <td>6.0</td>\n",
              "      <td>9.1</td>\n",
              "      <td>7.9</td>\n",
              "      <td>6.1</td>\n",
              "      <td>F</td>\n",
              "      <td>0.0</td>\n",
              "      <td>1</td>\n",
              "      <td>3.50</td>\n",
              "      <td>3.50</td>\n",
              "      <td>6.75</td>\n",
              "      <td>D1</td>\n",
              "      <td>6.23</td>\n",
              "      <td>6.72</td>\n",
              "      <td>7.56</td>\n",
              "      <td>2.492</td>\n",
              "      <td>2.688</td>\n",
              "      <td>3.024</td>\n",
              "      <td>0.0</td>\n",
              "      <td>TB</td>\n",
              "      <td>K</td>\n",
              "      <td>K</td>\n",
              "      <td>tb</td>\n",
              "    </tr>\n",
              "    <tr>\n",
              "      <th>9</th>\n",
              "      <td>9</td>\n",
              "      <td>9</td>\n",
              "      <td>10</td>\n",
              "      <td>7.3</td>\n",
              "      <td>5.9</td>\n",
              "      <td>4.7</td>\n",
              "      <td>7.1</td>\n",
              "      <td>6.7</td>\n",
              "      <td>7.9</td>\n",
              "      <td>6.7</td>\n",
              "      <td>7.7</td>\n",
              "      <td>8.0</td>\n",
              "      <td>6.8</td>\n",
              "      <td>7.6</td>\n",
              "      <td>6.9</td>\n",
              "      <td>6.8</td>\n",
              "      <td>7.8</td>\n",
              "      <td>6.4</td>\n",
              "      <td>7.4</td>\n",
              "      <td>6.5</td>\n",
              "      <td>7.3</td>\n",
              "      <td>6.0</td>\n",
              "      <td>7.8</td>\n",
              "      <td>7.2</td>\n",
              "      <td>7.9</td>\n",
              "      <td>7.1</td>\n",
              "      <td>7.7</td>\n",
              "      <td>5.5</td>\n",
              "      <td>7.0</td>\n",
              "      <td>6.0</td>\n",
              "      <td>6.7</td>\n",
              "      <td>8.0</td>\n",
              "      <td>7.2</td>\n",
              "      <td>6.3</td>\n",
              "      <td>7.2</td>\n",
              "      <td>7.5</td>\n",
              "      <td>7.0</td>\n",
              "      <td>8.0</td>\n",
              "      <td>5.9</td>\n",
              "      <td>7.1</td>\n",
              "      <td>6.3</td>\n",
              "      <td>5.1</td>\n",
              "      <td>7.1</td>\n",
              "      <td>6.9</td>\n",
              "      <td>7.0</td>\n",
              "      <td>6.7</td>\n",
              "      <td>7.1</td>\n",
              "      <td>7.7</td>\n",
              "      <td>6.4</td>\n",
              "      <td>6.1</td>\n",
              "      <td>7.8</td>\n",
              "      <td>F</td>\n",
              "      <td>0.0</td>\n",
              "      <td>1</td>\n",
              "      <td>4.00</td>\n",
              "      <td>4.75</td>\n",
              "      <td>5.50</td>\n",
              "      <td>D1</td>\n",
              "      <td>6.80</td>\n",
              "      <td>7.25</td>\n",
              "      <td>7.03</td>\n",
              "      <td>2.720</td>\n",
              "      <td>2.900</td>\n",
              "      <td>2.812</td>\n",
              "      <td>0.0</td>\n",
              "      <td>K</td>\n",
              "      <td>K</td>\n",
              "      <td>K</td>\n",
              "      <td>kh</td>\n",
              "    </tr>\n",
              "  </tbody>\n",
              "</table>\n",
              "</div>"
            ],
            "text/plain": [
              "   Unnamed: 0  Unnamed: 0.1  STT   T1   L1  ...  KQXT  XL1  XL2  XL3  phanlopt1\n",
              "0           0             0    1  7.2  7.3  ...   0.0    K    K    K         kh\n",
              "1           1             1    2  5.4  3.9  ...   0.0    Y   TB   TB         tb\n",
              "2           2             2    3  5.6  6.8  ...   1.0   TB   TB   TB         tb\n",
              "3           3             3    4  6.6  6.4  ...   0.0   TB   TB    K         tb\n",
              "4           4             4    5  6.0  5.0  ...   0.0    K   TB    K         tb\n",
              "5           5             5    6  9.3  7.6  ...   0.0    K    G    K          g\n",
              "6           6             6    7  2.8  3.9  ...   1.0    Y   TB   TB          k\n",
              "7           7             7    8  8.3  6.0  ...   0.0    K    K    K          g\n",
              "8           8             8    9  6.5  6.3  ...   0.0   TB    K    K         tb\n",
              "9           9             9   10  7.3  5.9  ...   0.0    K    K    K         kh\n",
              "\n",
              "[10 rows x 69 columns]"
            ]
          },
          "metadata": {},
          "execution_count": 99
        }
      ]
    },
    {
      "cell_type": "code",
      "metadata": {
        "colab": {
          "base_uri": "https://localhost:8080/",
          "height": 81
        },
        "id": "_cZDNupnWOXx",
        "outputId": "211cc2a4-9bed-4554-c3d1-22958ad1135e"
      },
      "source": [
        "# CÂU 3 : Lập bảng tần số cho biến phanloait1 \n",
        "#Bước 1 groupby \n",
        "#bước 2: dùng pivot_table: nó sẽ tạo ra cái bảng\n",
        "tan_so_bien_phanloait1 = df.groupby(\"phanlopt1\")[\"phanlopt1\"].agg([\"count\"]) \n",
        "pd.pivot_table(tan_so_bien_phanloait1,columns=\"phanlopt1\")\n"
      ],
      "execution_count": 76,
      "outputs": [
        {
          "output_type": "execute_result",
          "data": {
            "text/html": [
              "<div>\n",
              "<style scoped>\n",
              "    .dataframe tbody tr th:only-of-type {\n",
              "        vertical-align: middle;\n",
              "    }\n",
              "\n",
              "    .dataframe tbody tr th {\n",
              "        vertical-align: top;\n",
              "    }\n",
              "\n",
              "    .dataframe thead th {\n",
              "        text-align: right;\n",
              "    }\n",
              "</style>\n",
              "<table border=\"1\" class=\"dataframe\">\n",
              "  <thead>\n",
              "    <tr style=\"text-align: right;\">\n",
              "      <th>phanlopt1</th>\n",
              "      <th>g</th>\n",
              "      <th>k</th>\n",
              "      <th>tb</th>\n",
              "    </tr>\n",
              "  </thead>\n",
              "  <tbody>\n",
              "    <tr>\n",
              "      <th>count</th>\n",
              "      <td>12</td>\n",
              "      <td>42</td>\n",
              "      <td>46</td>\n",
              "    </tr>\n",
              "  </tbody>\n",
              "</table>\n",
              "</div>"
            ],
            "text/plain": [
              "phanlopt1   g   k  tb\n",
              "count      12  42  46"
            ]
          },
          "metadata": {},
          "execution_count": 76
        }
      ]
    },
    {
      "cell_type": "code",
      "metadata": {
        "id": "OJpXf-jwXRnP"
      },
      "source": [
        "# CÂU 4 :Vẽ biểu đồ đường Multiple Line cho biến T1 được phân loại bởi biến phanlopt1 (THẮC MẮC)"
      ],
      "execution_count": null,
      "outputs": []
    },
    {
      "cell_type": "code",
      "metadata": {
        "colab": {
          "base_uri": "https://localhost:8080/",
          "height": 296
        },
        "id": "ilMLlxmLXZeH",
        "outputId": "78428709-1c0a-4de0-84fd-cf3549118403"
      },
      "source": [
        "\n",
        "#CT: biến = df[\"chỉ muốn hiện lên cột nào\"].loc[df[tên cột muốn lọc]  == \"Gía trị\"]\n",
        "trungbinh = df['T1'].loc[df['phanlopt1'] == 'tb'] \n",
        "kha = df['T1'].loc[df['phanlopt1'] == 'kh'] \n",
        "gioi = df['T1'].loc[df['phanlopt1'] == 'g'] \n",
        "df.groupby(kem)['phanlopt1'].agg('count').plot(label=\"k\")\n",
        "df.groupby(trungbinh)['phanlopt1'].agg('count').plot(label=\"tb\")\n",
        "df.groupby(kha)['phanlopt1'].agg('count').plot(label=\"kh\")\n",
        "df.groupby(gioi)['phanlopt1'].agg('count').plot(label=\"g\") \n",
        "plt.xlabel(\"Điểm số\") \n",
        "plt.ylabel(\"Số lượng\")"
      ],
      "execution_count": 97,
      "outputs": [
        {
          "output_type": "execute_result",
          "data": {
            "text/plain": [
              "Text(0, 0.5, 'Số lượng')"
            ]
          },
          "metadata": {},
          "execution_count": 97
        },
        {
          "output_type": "display_data",
          "data": {
            "image/png": "[encoded data removed]",
            "text/plain": [
              "<Figure size 432x288 with 1 Axes>"
            ]
          },
          "metadata": {
            "needs_background": "light"
          }
        }
      ]
    },
    {
      "cell_type": "code",
      "metadata": {
        "id": "Q80oWREwW_MV"
      },
      "source": [
        "# Cau 5 Vẽ biểu đồ Drop-line cho biến T1 được phân loại bởi biến phanlopt1 "
      ],
      "execution_count": null,
      "outputs": []
    },
    {
      "cell_type": "code",
      "metadata": {
        "colab": {
          "base_uri": "https://localhost:8080/",
          "height": 302
        },
        "id": "81doB4hcaqcw",
        "outputId": "10a54915-49cd-4536-ca56-efad81c84243"
      },
      "source": [
        "# \n",
        "Groupby 2 cột lại với nhau  Thắc mắc\n",
        "phanloait1 = df.groupby(['T1','phanlopt1'])[['T1','phanlopt1']].count()\n",
        "unstackphanlopt1['phanlopt1'].plot.bar()"
      ],
      "execution_count": 131,
      "outputs": [
        {
          "output_type": "execute_result",
          "data": {
            "text/plain": [
              "<matplotlib.axes._subplots.AxesSubplot at 0x7f33ec1fed50>"
            ]
          },
          "metadata": {},
          "execution_count": 131
        },
        {
          "output_type": "display_data",
          "data": {
            "image/png": "[encoded data removed]",
            "text/plain": [
              "<Figure size 432x288 with 1 Axes>"
            ]
          },
          "metadata": {
            "needs_background": "light"
          }
        }
      ]
    },
    {
      "cell_type": "code",
      "metadata": {
        "id": "T-ODfACOfqK5"
      },
      "source": [
        "# Phần 5: Mô tả dữ liệu và khảo sát dạng phân phố"
      ],
      "execution_count": 126,
      "outputs": []
    },
    {
      "cell_type": "code",
      "metadata": {
        "id": "DuwatYoggcQ-"
      },
      "source": [
        "#Vẽ biểu đồ Box-Plot và xác định các 10 đại lượng trong biểu đồ đó"
      ],
      "execution_count": 129,
      "outputs": []
    },
    {
      "cell_type": "code",
      "metadata": {
        "colab": {
          "base_uri": "https://localhost:8080/",
          "height": 282
        },
        "id": "yXcLz-BogZOF",
        "outputId": "794bda33-f40e-4937-a3ee-6a0d065c9854"
      },
      "source": [
        "df['T1'].plot.box()"
      ],
      "execution_count": 127,
      "outputs": [
        {
          "output_type": "execute_result",
          "data": {
            "text/plain": [
              "<matplotlib.axes._subplots.AxesSubplot at 0x7f33ec806c50>"
            ]
          },
          "metadata": {},
          "execution_count": 127
        },
        {
          "output_type": "display_data",
          "data": {
            "image/png": "[encoded data removed]",
            "text/plain": [
              "<Figure size 432x288 with 1 Axes>"
            ]
          },
          "metadata": {
            "needs_background": "light"
          }
        }
      ]
    },
    {
      "cell_type": "code",
      "metadata": {
        "id": "E-oDbQ4FbOVm"
      },
      "source": [
        "# Vẽ biểu đồ Histogram biểu thị hình dáng phân phối "
      ],
      "execution_count": 132,
      "outputs": []
    },
    {
      "cell_type": "code",
      "metadata": {
        "colab": {
          "base_uri": "https://localhost:8080/",
          "height": 282
        },
        "id": "qwu_uaowhEO7",
        "outputId": "a56c9d78-ee7d-4cff-908b-f47308d98459"
      },
      "source": [
        "df[\"T1\"].plot.hist()"
      ],
      "execution_count": 133,
      "outputs": [
        {
          "output_type": "execute_result",
          "data": {
            "text/plain": [
              "<matplotlib.axes._subplots.AxesSubplot at 0x7f33ec798850>"
            ]
          },
          "metadata": {},
          "execution_count": 133
        },
        {
          "output_type": "display_data",
          "data": {
            "image/png": "[encoded data removed]",
            "text/plain": [
              "<Figure size 432x288 with 1 Axes>"
            ]
          },
          "metadata": {
            "needs_background": "light"
          }
        }
      ]
    },
    {
      "cell_type": "code",
      "metadata": {
        "id": "JyMrOv-jhYp-"
      },
      "source": [
        "# Câu 2 Hãy mô tả và khảo sát phân phối cho biến T1 trên từng nhóm phân lớp (phanlopt1)"
      ],
      "execution_count": null,
      "outputs": []
    },
    {
      "cell_type": "code",
      "metadata": {
        "id": "JwFVIeeRhrLQ"
      },
      "source": [
        "#Gợi ý\n",
        "#- Trực quan hóa biểu đồ Box-plot, histogram và QQ-plot theo phân nhóm là giá trị \n",
        "#của ‗phanlopT1‘."
      ],
      "execution_count": null,
      "outputs": []
    },
    {
      "cell_type": "code",
      "metadata": {
        "colab": {
          "base_uri": "https://localhost:8080/",
          "height": 282
        },
        "id": "ddGlQornhtyW",
        "outputId": "cde8367d-3d2b-4429-8f3a-7bafe01347ad"
      },
      "source": [
        "#Biều đồ Box-plot\n",
        "df.groupby('phanlopt1')['phanlopt1'].agg(['count']).plot.box()"
      ],
      "execution_count": 135,
      "outputs": [
        {
          "output_type": "execute_result",
          "data": {
            "text/plain": [
              "<matplotlib.axes._subplots.AxesSubplot at 0x7f33ebdc4090>"
            ]
          },
          "metadata": {},
          "execution_count": 135
        },
        {
          "output_type": "display_data",
          "data": {
            "image/png": "[encoded data removed]",
            "text/plain": [
              "<Figure size 432x288 with 1 Axes>"
            ]
          },
          "metadata": {
            "needs_background": "light"
          }
        }
      ]
    },
    {
      "cell_type": "code",
      "metadata": {
        "colab": {
          "base_uri": "https://localhost:8080/",
          "height": 282
        },
        "id": "WS_-_9hFhzo3",
        "outputId": "1c45415d-c38d-4863-a492-a232259f4a91"
      },
      "source": [
        "#Biều đồ histogram\n",
        "pd.pivot_table(df.groupby('phanlopt1')['phanlopt1'].agg(['count']),columns='phanlopt1').plot.hist()"
      ],
      "execution_count": 138,
      "outputs": [
        {
          "output_type": "execute_result",
          "data": {
            "text/plain": [
              "<matplotlib.axes._subplots.AxesSubplot at 0x7f33ebb936d0>"
            ]
          },
          "metadata": {},
          "execution_count": 138
        },
        {
          "output_type": "display_data",
          "data": {
            "image/png": "[encoded data removed]",
            "text/plain": [
              "<Figure size 432x288 with 1 Axes>"
            ]
          },
          "metadata": {
            "needs_background": "light"
          }
        }
      ]
    },
    {
      "cell_type": "code",
      "metadata": {
        "colab": {
          "base_uri": "https://localhost:8080/",
          "height": 278
        },
        "id": "bunKtI4Eh_C7",
        "outputId": "d5728a12-863b-4601-efcb-ce6d147416a3"
      },
      "source": [
        "#Biểu đồ QQ-plot\n",
        "import statsmodels.api as sm\n",
        "sm.qqplot(df.groupby('phanlopt1')['phanlopt1'].agg(['count']),line ='45')\n",
        "plt.show()"
      ],
      "execution_count": 143,
      "outputs": [
        {
          "output_type": "display_data",
          "data": {
            "image/png": "[encoded data removed]",
            "text/plain": [
              "<Figure size 432x288 with 1 Axes>"
            ]
          },
          "metadata": {
            "needs_background": "light"
          }
        }
      ]
    },
    {
      "cell_type": "code",
      "metadata": {
        "id": "zoT-pFFJjFtD"
      },
      "source": [
        "#Câu 3 Hãy khảo sát tương quan giữa biến DH1 theo biến T1\n",
        "#Gợi ý\n",
        "#- Nhận xét giá trị Covariance hoặc Correlation\n",
        "#- Vẽ biểu đồ Scatter thể hiện liên hệ của biến phụ thuộc DH1(x) theo biến độc lập T1 (y)  "
      ],
      "execution_count": null,
      "outputs": []
    },
    {
      "cell_type": "code",
      "metadata": {
        "colab": {
          "base_uri": "https://localhost:8080/",
          "height": 296
        },
        "id": "06euOSc8jZL7",
        "outputId": "fa576db6-bf84-40e1-bdda-4137429cfde0"
      },
      "source": [
        "# Biểu đồ Scatter\n",
        "df.plot.scatter(x='DH1',y='T1')"
      ],
      "execution_count": 144,
      "outputs": [
        {
          "output_type": "execute_result",
          "data": {
            "text/plain": [
              "<matplotlib.axes._subplots.AxesSubplot at 0x7f33cda8dbd0>"
            ]
          },
          "metadata": {},
          "execution_count": 144
        },
        {
          "output_type": "display_data",
          "data": {
            "image/png": "[encoded data removed]",
            "text/plain": [
              "<Figure size 432x288 with 1 Axes>"
            ]
          },
          "metadata": {
            "needs_background": "light"
          }
        }
      ]
    },
    {
      "cell_type": "code",
      "metadata": {
        "id": "i70ax217j2zw"
      },
      "source": [
        "# Câu 4 Hãy khảo sát tương quan giữa biến DH1 theo biến T1 trên từng nhóm khu vực"
      ],
      "execution_count": null,
      "outputs": []
    },
    {
      "cell_type": "code",
      "metadata": {
        "colab": {
          "base_uri": "https://localhost:8080/",
          "height": 296
        },
        "id": "n9y7pI_qkpFU",
        "outputId": "9059a3cf-2c62-4595-d239-70ca6f58f12d"
      },
      "source": [
        "#Khu vực 1 \n",
        "df.loc[df['KV'] == '1'].plot.scatter(x='DH1',y='T1')"
      ],
      "execution_count": 145,
      "outputs": [
        {
          "output_type": "execute_result",
          "data": {
            "text/plain": [
              "<matplotlib.axes._subplots.AxesSubplot at 0x7f33cd9d7dd0>"
            ]
          },
          "metadata": {},
          "execution_count": 145
        },
        {
          "output_type": "display_data",
          "data": {
            "image/png": "[encoded data removed]",
            "text/plain": [
              "<Figure size 432x288 with 1 Axes>"
            ]
          },
          "metadata": {
            "needs_background": "light"
          }
        }
      ]
    },
    {
      "cell_type": "code",
      "metadata": {
        "colab": {
          "base_uri": "https://localhost:8080/",
          "height": 296
        },
        "id": "DMugB1oPkxR_",
        "outputId": "f7e5dc46-849d-4468-8f46-2c6c42d73363"
      },
      "source": [
        "#Khu vực 2 \n",
        "df.loc[df['KV'] == '2'].plot.scatter(x='DH1',y='T1')"
      ],
      "execution_count": 146,
      "outputs": [
        {
          "output_type": "execute_result",
          "data": {
            "text/plain": [
              "<matplotlib.axes._subplots.AxesSubplot at 0x7f33cd9d7890>"
            ]
          },
          "metadata": {},
          "execution_count": 146
        },
        {
          "output_type": "display_data",
          "data": {
            "image/png": "[encoded data removed]",
            "text/plain": [
              "<Figure size 432x288 with 1 Axes>"
            ]
          },
          "metadata": {
            "needs_background": "light"
          }
        }
      ]
    },
    {
      "cell_type": "code",
      "metadata": {
        "colab": {
          "base_uri": "https://localhost:8080/",
          "height": 300
        },
        "id": "7h2Y7kC-k08h",
        "outputId": "244d1fd0-3776-4f9d-c8fb-2e79bb61b242"
      },
      "source": [
        "#Khu vực 2NT \n",
        "df.loc[df['KV'] == '2NT'].plot.scatter(x='DH1',y='T1')"
      ],
      "execution_count": 147,
      "outputs": [
        {
          "output_type": "execute_result",
          "data": {
            "text/plain": [
              "<matplotlib.axes._subplots.AxesSubplot at 0x7f33cd8d2c10>"
            ]
          },
          "metadata": {},
          "execution_count": 147
        },
        {
          "output_type": "display_data",
          "data": {
            "image/png": "[encoded data removed]",
            "text/plain": [
              "<Figure size 432x288 with 1 Axes>"
            ]
          },
          "metadata": {
            "needs_background": "light"
          }
        }
      ]
    },
    {
      "cell_type": "code",
      "metadata": {
        "id": "v0oY2wHWk70K"
      },
      "source": [
        "# CÂU 5 \n",
        "# Hãy khảo sát tương quan giữa các biến DH1, DH2, DH3\n",
        "# Gợi ý\n",
        "# - Nhận xét ma trận hiệp phương sai hoặc ma trận tương quan\n",
        "# - Vẽ biểu đồ Scatter giữa các biếN "
      ],
      "execution_count": null,
      "outputs": []
    },
    {
      "cell_type": "code",
      "metadata": {
        "colab": {
          "base_uri": "https://localhost:8080/",
          "height": 296
        },
        "id": "8FeBudgDlIcS",
        "outputId": "a6b4cb30-2730-41af-db02-073702c541a9"
      },
      "source": [
        "# biểu đồ Scatter\n",
        "df.plot.scatter(x='DH1',y='DH2')"
      ],
      "execution_count": 148,
      "outputs": [
        {
          "output_type": "execute_result",
          "data": {
            "text/plain": [
              "<matplotlib.axes._subplots.AxesSubplot at 0x7f33cd84e210>"
            ]
          },
          "metadata": {},
          "execution_count": 148
        },
        {
          "output_type": "display_data",
          "data": {
            "image/png": "[encoded data removed]",
            "text/plain": [
              "<Figure size 432x288 with 1 Axes>"
            ]
          },
          "metadata": {
            "needs_background": "light"
          }
        }
      ]
    },
    {
      "cell_type": "code",
      "metadata": {
        "colab": {
          "base_uri": "https://localhost:8080/",
          "height": 296
        },
        "id": "B7IBLVI_leU3",
        "outputId": "badd5c9d-8733-4e11-ebb0-ede059cf9aca"
      },
      "source": [
        "# biểu đồ Scatter\n",
        "df.plot.scatter(x='DH1',y='DH3')"
      ],
      "execution_count": 149,
      "outputs": [
        {
          "output_type": "execute_result",
          "data": {
            "text/plain": [
              "<matplotlib.axes._subplots.AxesSubplot at 0x7f33cd81c710>"
            ]
          },
          "metadata": {},
          "execution_count": 149
        },
        {
          "output_type": "display_data",
          "data": {
            "image/png": "[encoded data removed]",
            "text/plain": [
              "<Figure size 432x288 with 1 Axes>"
            ]
          },
          "metadata": {
            "needs_background": "light"
          }
        }
      ]
    },
    {
      "cell_type": "code",
      "metadata": {
        "colab": {
          "base_uri": "https://localhost:8080/",
          "height": 296
        },
        "id": "XGg8vhjMldFL",
        "outputId": "08f3db88-8aa6-4d90-e630-bd48628990d7"
      },
      "source": [
        "# biểu đồ Scatter\n",
        "df.plot.scatter(x='DH3',y='DH2')"
      ],
      "execution_count": 150,
      "outputs": [
        {
          "output_type": "execute_result",
          "data": {
            "text/plain": [
              "<matplotlib.axes._subplots.AxesSubplot at 0x7f33cd7a6590>"
            ]
          },
          "metadata": {},
          "execution_count": 150
        },
        {
          "output_type": "display_data",
          "data": {
            "image/png": "[encoded data removed]",
            "text/plain": [
              "<Figure size 432x288 with 1 Axes>"
            ]
          },
          "metadata": {
            "needs_background": "light"
          }
        }
      ]
    }
  ]
}