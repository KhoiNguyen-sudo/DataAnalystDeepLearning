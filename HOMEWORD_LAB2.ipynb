{
  "nbformat": 4,
  "nbformat_minor": 0,
  "metadata": {
    "colab": {
      "name": "HOMEWORD-LAB2.ipynb",
      "provenance": [],
      "collapsed_sections": [],
      "mount_file_id": "1wfFO0_UUfBY6bFSEDVimp05aU4q5YusD",
      "authorship_tag": "ABX9TyPn/ME/5k7KU6+s9kK9mgsT",
      "include_colab_link": true
    },
    "kernelspec": {
      "name": "python3",
      "display_name": "Python 3"
    },
    "language_info": {
      "name": "python"
    }
  },
  "cells": [
    {
      "cell_type": "markdown",
      "metadata": {
        "id": "view-in-github",
        "colab_type": "text"
      },
      "source": [
        "<a href=\"https://colab.research.google.com/github/KhoiNguyen-sudo/DataAnalystDeepLearning/blob/main/HOMEWORD_LAB2.ipynb\" target=\"_parent\"><img src=\"https://colab.research.google.com/assets/colab-badge.svg\" alt=\"Open In Colab\"/></a>"
      ]
    },
    {
      "cell_type": "code",
      "metadata": {
        "id": "3sOTd9f-hGIi"
      },
      "source": [
        "#LAB2  \n",
        "#Nguồn tham khảo code: Nguyễn Thái Anh, Hồ Quốc hùng, Lê Thị Thanh Ngân"
      ],
      "execution_count": null,
      "outputs": []
    },
    {
      "cell_type": "code",
      "metadata": {
        "id": "JG1aTOVrggDA"
      },
      "source": [
        "# Phần 1: Thống kê dữ liệu"
      ],
      "execution_count": null,
      "outputs": []
    },
    {
      "cell_type": "code",
      "metadata": {
        "colab": {
          "base_uri": "https://localhost:8080/"
        },
        "id": "NhaW9BLwhytv",
        "outputId": "480eb5e5-db28-42ee-b583-70982faf64b4"
      },
      "source": [
        "# Gọi thư viện để gọi datafarme\n",
        "import pandas as pd  \n",
        "import matplotlib.pyplot as plt # thư viện để vẽ\n",
        "df = pd.read_csv(\"/content/drive/MyDrive/PHAN-TICH-DU-LIEU-LON-VA-HOC-SAU/dulieuxettuyendaihoc.csv\") \n",
        "print(df.head()) # in 5 dòng đầu tiên"
      ],
      "execution_count": 7,
      "outputs": [
        {
          "output_type": "stream",
          "name": "stdout",
          "text": [
            "   Unnamed: 0  Unnamed: 0.1  Unnamed: 0.1.1  ...  US_TBM13  KQXT  TBM3.1\n",
            "0           0             0               0  ...     2.804   0.0    7.01\n",
            "1           1             1               1  ...     2.028   0.0    5.07\n",
            "2           2             2               2  ...     2.416   1.0    6.04\n",
            "3           3             3               3  ...     2.752   0.0    6.88\n",
            "4           4             4               4  ...     2.796   0.0    6.99\n",
            "\n",
            "[5 rows x 71 columns]\n"
          ]
        }
      ]
    },
    {
      "cell_type": "code",
      "metadata": {
        "id": "nwwe6p9KjGsQ"
      },
      "source": [
        "#Câu 1 Hãy sắp xếp dữ liệu điểm DH1 theo thứ tự tăng dần "
      ],
      "execution_count": null,
      "outputs": []
    },
    {
      "cell_type": "code",
      "metadata": {
        "id": "Vkw9Bo9GjeQz",
        "colab": {
          "base_uri": "https://localhost:8080/",
          "height": 449
        },
        "outputId": "ac53dac3-8f23-43a9-bc47-d088610b4a66"
      },
      "source": [
        "# nó chỉ sắp xếp DH1 , Nó sắp sếp tăng dần  \n",
        "# CT :bên trong sort_values \n",
        "\"\"\" \n",
        "DataFrame.sort_values ​​(by, axis = 0, ascending = True, inplace = False, kind = 'quicksort', na_position = 'last') \n",
        "\"\"\" \n",
        "# ascending = Fale : nó sẽ giảm dần\n",
        "df.sort_values(by=\"DH1\") "
      ],
      "execution_count": 20,
      "outputs": [
        {
          "output_type": "execute_result",
          "data": {
            "text/html": [
              "<div>\n",
              "<style scoped>\n",
              "    .dataframe tbody tr th:only-of-type {\n",
              "        vertical-align: middle;\n",
              "    }\n",
              "\n",
              "    .dataframe tbody tr th {\n",
              "        vertical-align: top;\n",
              "    }\n",
              "\n",
              "    .dataframe thead th {\n",
              "        text-align: right;\n",
              "    }\n",
              "</style>\n",
              "<table border=\"1\" class=\"dataframe\">\n",
              "  <thead>\n",
              "    <tr style=\"text-align: right;\">\n",
              "      <th></th>\n",
              "      <th>Unnamed: 0</th>\n",
              "      <th>Unnamed: 0.1</th>\n",
              "      <th>Unnamed: 0.1.1</th>\n",
              "      <th>STT</th>\n",
              "      <th>T1</th>\n",
              "      <th>L1</th>\n",
              "      <th>H1</th>\n",
              "      <th>S1</th>\n",
              "      <th>V1</th>\n",
              "      <th>X1</th>\n",
              "      <th>D1</th>\n",
              "      <th>N1</th>\n",
              "      <th>T2</th>\n",
              "      <th>L2</th>\n",
              "      <th>H2</th>\n",
              "      <th>S2</th>\n",
              "      <th>V2</th>\n",
              "      <th>X2</th>\n",
              "      <th>D2</th>\n",
              "      <th>N2</th>\n",
              "      <th>T3</th>\n",
              "      <th>L3</th>\n",
              "      <th>H3</th>\n",
              "      <th>S3</th>\n",
              "      <th>V3</th>\n",
              "      <th>X3</th>\n",
              "      <th>D3</th>\n",
              "      <th>N3</th>\n",
              "      <th>T4</th>\n",
              "      <th>L4</th>\n",
              "      <th>H4</th>\n",
              "      <th>S4</th>\n",
              "      <th>V4</th>\n",
              "      <th>X4</th>\n",
              "      <th>D4</th>\n",
              "      <th>N4</th>\n",
              "      <th>T5</th>\n",
              "      <th>L5</th>\n",
              "      <th>H5</th>\n",
              "      <th>S5</th>\n",
              "      <th>V5</th>\n",
              "      <th>X5</th>\n",
              "      <th>D5</th>\n",
              "      <th>N5</th>\n",
              "      <th>T6</th>\n",
              "      <th>L6</th>\n",
              "      <th>H6</th>\n",
              "      <th>S6</th>\n",
              "      <th>V6</th>\n",
              "      <th>X6</th>\n",
              "      <th>D6</th>\n",
              "      <th>N6</th>\n",
              "      <th>GT</th>\n",
              "      <th>DT</th>\n",
              "      <th>KV</th>\n",
              "      <th>DH1</th>\n",
              "      <th>DH2</th>\n",
              "      <th>DH3</th>\n",
              "      <th>KT</th>\n",
              "      <th>TBM1</th>\n",
              "      <th>TBM2</th>\n",
              "      <th>TBM3</th>\n",
              "      <th>XL1</th>\n",
              "      <th>XL2</th>\n",
              "      <th>XL3</th>\n",
              "      <th>US_TBM11</th>\n",
              "      <th>US_TBM12</th>\n",
              "      <th>US_TBM13</th>\n",
              "      <th>KQXT</th>\n",
              "      <th>TBM3.1</th>\n",
              "    </tr>\n",
              "  </thead>\n",
              "  <tbody>\n",
              "    <tr>\n",
              "      <th>53</th>\n",
              "      <td>53</td>\n",
              "      <td>53</td>\n",
              "      <td>53</td>\n",
              "      <td>54</td>\n",
              "      <td>4.9</td>\n",
              "      <td>5.9</td>\n",
              "      <td>6.2</td>\n",
              "      <td>5.6</td>\n",
              "      <td>5.9</td>\n",
              "      <td>5.0</td>\n",
              "      <td>7.0</td>\n",
              "      <td>5.6</td>\n",
              "      <td>6.1</td>\n",
              "      <td>7.1</td>\n",
              "      <td>6.4</td>\n",
              "      <td>6.0</td>\n",
              "      <td>6.3</td>\n",
              "      <td>5.5</td>\n",
              "      <td>6.2</td>\n",
              "      <td>6.6</td>\n",
              "      <td>2.5</td>\n",
              "      <td>4.8</td>\n",
              "      <td>5.0</td>\n",
              "      <td>5.0</td>\n",
              "      <td>4.5</td>\n",
              "      <td>2.4</td>\n",
              "      <td>5.8</td>\n",
              "      <td>3.7</td>\n",
              "      <td>6.2</td>\n",
              "      <td>4.1</td>\n",
              "      <td>4.4</td>\n",
              "      <td>5.2</td>\n",
              "      <td>4.1</td>\n",
              "      <td>6.3</td>\n",
              "      <td>4.9</td>\n",
              "      <td>4.6</td>\n",
              "      <td>4.9</td>\n",
              "      <td>5.2</td>\n",
              "      <td>4.9</td>\n",
              "      <td>5.5</td>\n",
              "      <td>5.5</td>\n",
              "      <td>4.6</td>\n",
              "      <td>5.5</td>\n",
              "      <td>5.4</td>\n",
              "      <td>6.5</td>\n",
              "      <td>7.5</td>\n",
              "      <td>6.1</td>\n",
              "      <td>5.6</td>\n",
              "      <td>5.2</td>\n",
              "      <td>5.7</td>\n",
              "      <td>5.6</td>\n",
              "      <td>6.3</td>\n",
              "      <td>M</td>\n",
              "      <td>0.0</td>\n",
              "      <td>1</td>\n",
              "      <td>1.00</td>\n",
              "      <td>5.50</td>\n",
              "      <td>4.25</td>\n",
              "      <td>A</td>\n",
              "      <td>5.69</td>\n",
              "      <td>6.26</td>\n",
              "      <td>6.02</td>\n",
              "      <td>TB</td>\n",
              "      <td>TB</td>\n",
              "      <td>TB</td>\n",
              "      <td>2.276</td>\n",
              "      <td>2.504</td>\n",
              "      <td>2.408</td>\n",
              "      <td>0.0</td>\n",
              "      <td>6.02</td>\n",
              "    </tr>\n",
              "    <tr>\n",
              "      <th>43</th>\n",
              "      <td>43</td>\n",
              "      <td>43</td>\n",
              "      <td>43</td>\n",
              "      <td>44</td>\n",
              "      <td>6.6</td>\n",
              "      <td>7.2</td>\n",
              "      <td>5.9</td>\n",
              "      <td>6.9</td>\n",
              "      <td>7.6</td>\n",
              "      <td>8.1</td>\n",
              "      <td>7.3</td>\n",
              "      <td>6.7</td>\n",
              "      <td>6.3</td>\n",
              "      <td>6.9</td>\n",
              "      <td>6.0</td>\n",
              "      <td>6.4</td>\n",
              "      <td>7.0</td>\n",
              "      <td>7.1</td>\n",
              "      <td>6.9</td>\n",
              "      <td>6.2</td>\n",
              "      <td>6.7</td>\n",
              "      <td>7.1</td>\n",
              "      <td>5.4</td>\n",
              "      <td>6.8</td>\n",
              "      <td>6.8</td>\n",
              "      <td>5.9</td>\n",
              "      <td>6.6</td>\n",
              "      <td>6.8</td>\n",
              "      <td>6.0</td>\n",
              "      <td>7.6</td>\n",
              "      <td>6.5</td>\n",
              "      <td>7.6</td>\n",
              "      <td>6.7</td>\n",
              "      <td>7.1</td>\n",
              "      <td>7.9</td>\n",
              "      <td>5.6</td>\n",
              "      <td>5.8</td>\n",
              "      <td>5.9</td>\n",
              "      <td>5.8</td>\n",
              "      <td>4.6</td>\n",
              "      <td>6.6</td>\n",
              "      <td>4.0</td>\n",
              "      <td>6.0</td>\n",
              "      <td>6.2</td>\n",
              "      <td>6.0</td>\n",
              "      <td>7.6</td>\n",
              "      <td>6.5</td>\n",
              "      <td>7.6</td>\n",
              "      <td>6.7</td>\n",
              "      <td>7.1</td>\n",
              "      <td>7.9</td>\n",
              "      <td>5.6</td>\n",
              "      <td>F</td>\n",
              "      <td>1.0</td>\n",
              "      <td>2</td>\n",
              "      <td>1.25</td>\n",
              "      <td>3.50</td>\n",
              "      <td>5.00</td>\n",
              "      <td>D1</td>\n",
              "      <td>7.05</td>\n",
              "      <td>6.61</td>\n",
              "      <td>6.77</td>\n",
              "      <td>K</td>\n",
              "      <td>K</td>\n",
              "      <td>K</td>\n",
              "      <td>2.820</td>\n",
              "      <td>2.644</td>\n",
              "      <td>2.708</td>\n",
              "      <td>0.0</td>\n",
              "      <td>6.77</td>\n",
              "    </tr>\n",
              "    <tr>\n",
              "      <th>72</th>\n",
              "      <td>72</td>\n",
              "      <td>72</td>\n",
              "      <td>72</td>\n",
              "      <td>73</td>\n",
              "      <td>5.5</td>\n",
              "      <td>6.6</td>\n",
              "      <td>7.2</td>\n",
              "      <td>7.6</td>\n",
              "      <td>5.5</td>\n",
              "      <td>6.7</td>\n",
              "      <td>6.7</td>\n",
              "      <td>5.2</td>\n",
              "      <td>6.0</td>\n",
              "      <td>6.8</td>\n",
              "      <td>6.3</td>\n",
              "      <td>7.2</td>\n",
              "      <td>4.9</td>\n",
              "      <td>4.8</td>\n",
              "      <td>6.6</td>\n",
              "      <td>5.3</td>\n",
              "      <td>4.6</td>\n",
              "      <td>5.5</td>\n",
              "      <td>5.5</td>\n",
              "      <td>7.1</td>\n",
              "      <td>5.2</td>\n",
              "      <td>6.1</td>\n",
              "      <td>7.1</td>\n",
              "      <td>5.4</td>\n",
              "      <td>5.2</td>\n",
              "      <td>4.7</td>\n",
              "      <td>5.8</td>\n",
              "      <td>6.3</td>\n",
              "      <td>5.7</td>\n",
              "      <td>5.6</td>\n",
              "      <td>5.2</td>\n",
              "      <td>5.3</td>\n",
              "      <td>5.2</td>\n",
              "      <td>5.5</td>\n",
              "      <td>6.3</td>\n",
              "      <td>6.6</td>\n",
              "      <td>6.1</td>\n",
              "      <td>6.5</td>\n",
              "      <td>5.3</td>\n",
              "      <td>5.2</td>\n",
              "      <td>6.1</td>\n",
              "      <td>6.2</td>\n",
              "      <td>7.3</td>\n",
              "      <td>7.8</td>\n",
              "      <td>5.5</td>\n",
              "      <td>5.9</td>\n",
              "      <td>6.3</td>\n",
              "      <td>5.5</td>\n",
              "      <td>M</td>\n",
              "      <td>0.0</td>\n",
              "      <td>1</td>\n",
              "      <td>1.50</td>\n",
              "      <td>4.50</td>\n",
              "      <td>5.50</td>\n",
              "      <td>A</td>\n",
              "      <td>6.20</td>\n",
              "      <td>5.88</td>\n",
              "      <td>6.22</td>\n",
              "      <td>TB</td>\n",
              "      <td>TB</td>\n",
              "      <td>TB</td>\n",
              "      <td>2.480</td>\n",
              "      <td>2.352</td>\n",
              "      <td>2.488</td>\n",
              "      <td>0.0</td>\n",
              "      <td>6.22</td>\n",
              "    </tr>\n",
              "    <tr>\n",
              "      <th>5</th>\n",
              "      <td>5</td>\n",
              "      <td>5</td>\n",
              "      <td>5</td>\n",
              "      <td>6</td>\n",
              "      <td>9.3</td>\n",
              "      <td>7.6</td>\n",
              "      <td>7.9</td>\n",
              "      <td>8.6</td>\n",
              "      <td>7.0</td>\n",
              "      <td>7.3</td>\n",
              "      <td>7.7</td>\n",
              "      <td>7.9</td>\n",
              "      <td>9.6</td>\n",
              "      <td>7.8</td>\n",
              "      <td>8.0</td>\n",
              "      <td>8.7</td>\n",
              "      <td>7.7</td>\n",
              "      <td>8.0</td>\n",
              "      <td>9.2</td>\n",
              "      <td>9.1</td>\n",
              "      <td>7.1</td>\n",
              "      <td>8.5</td>\n",
              "      <td>8.1</td>\n",
              "      <td>8.7</td>\n",
              "      <td>7.2</td>\n",
              "      <td>8.4</td>\n",
              "      <td>7.7</td>\n",
              "      <td>8.2</td>\n",
              "      <td>8.5</td>\n",
              "      <td>8.5</td>\n",
              "      <td>7.7</td>\n",
              "      <td>9.2</td>\n",
              "      <td>8.0</td>\n",
              "      <td>6.6</td>\n",
              "      <td>7.3</td>\n",
              "      <td>8.8</td>\n",
              "      <td>8.5</td>\n",
              "      <td>7.6</td>\n",
              "      <td>8.1</td>\n",
              "      <td>9.0</td>\n",
              "      <td>8.4</td>\n",
              "      <td>6.6</td>\n",
              "      <td>6.6</td>\n",
              "      <td>8.2</td>\n",
              "      <td>7.8</td>\n",
              "      <td>6.4</td>\n",
              "      <td>7.2</td>\n",
              "      <td>7.7</td>\n",
              "      <td>7.7</td>\n",
              "      <td>5.7</td>\n",
              "      <td>8.0</td>\n",
              "      <td>7.8</td>\n",
              "      <td>M</td>\n",
              "      <td>0.0</td>\n",
              "      <td>1</td>\n",
              "      <td>1.50</td>\n",
              "      <td>4.00</td>\n",
              "      <td>6.00</td>\n",
              "      <td>D1</td>\n",
              "      <td>7.96</td>\n",
              "      <td>8.54</td>\n",
              "      <td>7.38</td>\n",
              "      <td>K</td>\n",
              "      <td>G</td>\n",
              "      <td>K</td>\n",
              "      <td>3.184</td>\n",
              "      <td>3.416</td>\n",
              "      <td>2.952</td>\n",
              "      <td>0.0</td>\n",
              "      <td>7.38</td>\n",
              "    </tr>\n",
              "    <tr>\n",
              "      <th>87</th>\n",
              "      <td>87</td>\n",
              "      <td>87</td>\n",
              "      <td>87</td>\n",
              "      <td>88</td>\n",
              "      <td>7.3</td>\n",
              "      <td>4.3</td>\n",
              "      <td>5.3</td>\n",
              "      <td>5.8</td>\n",
              "      <td>4.9</td>\n",
              "      <td>3.7</td>\n",
              "      <td>5.6</td>\n",
              "      <td>5.3</td>\n",
              "      <td>5.9</td>\n",
              "      <td>6.0</td>\n",
              "      <td>6.3</td>\n",
              "      <td>5.9</td>\n",
              "      <td>5.0</td>\n",
              "      <td>6.6</td>\n",
              "      <td>6.6</td>\n",
              "      <td>4.6</td>\n",
              "      <td>7.1</td>\n",
              "      <td>6.3</td>\n",
              "      <td>7.3</td>\n",
              "      <td>6.7</td>\n",
              "      <td>6.5</td>\n",
              "      <td>5.4</td>\n",
              "      <td>6.7</td>\n",
              "      <td>5.5</td>\n",
              "      <td>7.7</td>\n",
              "      <td>5.4</td>\n",
              "      <td>7.5</td>\n",
              "      <td>7.1</td>\n",
              "      <td>6.8</td>\n",
              "      <td>5.8</td>\n",
              "      <td>6.8</td>\n",
              "      <td>6.5</td>\n",
              "      <td>7.9</td>\n",
              "      <td>5.9</td>\n",
              "      <td>5.9</td>\n",
              "      <td>5.9</td>\n",
              "      <td>5.7</td>\n",
              "      <td>6.1</td>\n",
              "      <td>6.8</td>\n",
              "      <td>6.7</td>\n",
              "      <td>6.6</td>\n",
              "      <td>6.4</td>\n",
              "      <td>6.9</td>\n",
              "      <td>5.7</td>\n",
              "      <td>6.4</td>\n",
              "      <td>6.4</td>\n",
              "      <td>7.2</td>\n",
              "      <td>6.2</td>\n",
              "      <td>M</td>\n",
              "      <td>0.0</td>\n",
              "      <td>1</td>\n",
              "      <td>1.75</td>\n",
              "      <td>4.00</td>\n",
              "      <td>4.50</td>\n",
              "      <td>A</td>\n",
              "      <td>5.44</td>\n",
              "      <td>5.78</td>\n",
              "      <td>6.48</td>\n",
              "      <td>TB</td>\n",
              "      <td>TB</td>\n",
              "      <td>TB</td>\n",
              "      <td>2.176</td>\n",
              "      <td>2.312</td>\n",
              "      <td>2.592</td>\n",
              "      <td>0.0</td>\n",
              "      <td>6.48</td>\n",
              "    </tr>\n",
              "    <tr>\n",
              "      <th>...</th>\n",
              "      <td>...</td>\n",
              "      <td>...</td>\n",
              "      <td>...</td>\n",
              "      <td>...</td>\n",
              "      <td>...</td>\n",
              "      <td>...</td>\n",
              "      <td>...</td>\n",
              "      <td>...</td>\n",
              "      <td>...</td>\n",
              "      <td>...</td>\n",
              "      <td>...</td>\n",
              "      <td>...</td>\n",
              "      <td>...</td>\n",
              "      <td>...</td>\n",
              "      <td>...</td>\n",
              "      <td>...</td>\n",
              "      <td>...</td>\n",
              "      <td>...</td>\n",
              "      <td>...</td>\n",
              "      <td>...</td>\n",
              "      <td>...</td>\n",
              "      <td>...</td>\n",
              "      <td>...</td>\n",
              "      <td>...</td>\n",
              "      <td>...</td>\n",
              "      <td>...</td>\n",
              "      <td>...</td>\n",
              "      <td>...</td>\n",
              "      <td>...</td>\n",
              "      <td>...</td>\n",
              "      <td>...</td>\n",
              "      <td>...</td>\n",
              "      <td>...</td>\n",
              "      <td>...</td>\n",
              "      <td>...</td>\n",
              "      <td>...</td>\n",
              "      <td>...</td>\n",
              "      <td>...</td>\n",
              "      <td>...</td>\n",
              "      <td>...</td>\n",
              "      <td>...</td>\n",
              "      <td>...</td>\n",
              "      <td>...</td>\n",
              "      <td>...</td>\n",
              "      <td>...</td>\n",
              "      <td>...</td>\n",
              "      <td>...</td>\n",
              "      <td>...</td>\n",
              "      <td>...</td>\n",
              "      <td>...</td>\n",
              "      <td>...</td>\n",
              "      <td>...</td>\n",
              "      <td>...</td>\n",
              "      <td>...</td>\n",
              "      <td>...</td>\n",
              "      <td>...</td>\n",
              "      <td>...</td>\n",
              "      <td>...</td>\n",
              "      <td>...</td>\n",
              "      <td>...</td>\n",
              "      <td>...</td>\n",
              "      <td>...</td>\n",
              "      <td>...</td>\n",
              "      <td>...</td>\n",
              "      <td>...</td>\n",
              "      <td>...</td>\n",
              "      <td>...</td>\n",
              "      <td>...</td>\n",
              "      <td>...</td>\n",
              "      <td>...</td>\n",
              "    </tr>\n",
              "    <tr>\n",
              "      <th>84</th>\n",
              "      <td>84</td>\n",
              "      <td>84</td>\n",
              "      <td>84</td>\n",
              "      <td>85</td>\n",
              "      <td>8.4</td>\n",
              "      <td>7.4</td>\n",
              "      <td>6.0</td>\n",
              "      <td>7.8</td>\n",
              "      <td>6.3</td>\n",
              "      <td>7.2</td>\n",
              "      <td>8.5</td>\n",
              "      <td>6.0</td>\n",
              "      <td>9.3</td>\n",
              "      <td>7.0</td>\n",
              "      <td>8.5</td>\n",
              "      <td>8.8</td>\n",
              "      <td>6.9</td>\n",
              "      <td>6.9</td>\n",
              "      <td>7.3</td>\n",
              "      <td>6.8</td>\n",
              "      <td>7.4</td>\n",
              "      <td>7.0</td>\n",
              "      <td>8.0</td>\n",
              "      <td>7.5</td>\n",
              "      <td>7.1</td>\n",
              "      <td>6.7</td>\n",
              "      <td>8.4</td>\n",
              "      <td>5.8</td>\n",
              "      <td>7.7</td>\n",
              "      <td>6.7</td>\n",
              "      <td>8.2</td>\n",
              "      <td>7.5</td>\n",
              "      <td>7.5</td>\n",
              "      <td>6.1</td>\n",
              "      <td>8.1</td>\n",
              "      <td>6.5</td>\n",
              "      <td>8.2</td>\n",
              "      <td>5.9</td>\n",
              "      <td>7.9</td>\n",
              "      <td>8.6</td>\n",
              "      <td>6.1</td>\n",
              "      <td>5.1</td>\n",
              "      <td>7.2</td>\n",
              "      <td>6.1</td>\n",
              "      <td>8.6</td>\n",
              "      <td>7.8</td>\n",
              "      <td>8.9</td>\n",
              "      <td>8.5</td>\n",
              "      <td>6.7</td>\n",
              "      <td>5.5</td>\n",
              "      <td>7.9</td>\n",
              "      <td>6.6</td>\n",
              "      <td>M</td>\n",
              "      <td>0.0</td>\n",
              "      <td>1</td>\n",
              "      <td>6.50</td>\n",
              "      <td>4.50</td>\n",
              "      <td>8.00</td>\n",
              "      <td>A</td>\n",
              "      <td>7.23</td>\n",
              "      <td>7.77</td>\n",
              "      <td>7.58</td>\n",
              "      <td>K</td>\n",
              "      <td>K</td>\n",
              "      <td>K</td>\n",
              "      <td>2.892</td>\n",
              "      <td>3.108</td>\n",
              "      <td>3.032</td>\n",
              "      <td>1.0</td>\n",
              "      <td>7.58</td>\n",
              "    </tr>\n",
              "    <tr>\n",
              "      <th>11</th>\n",
              "      <td>11</td>\n",
              "      <td>11</td>\n",
              "      <td>11</td>\n",
              "      <td>12</td>\n",
              "      <td>7.9</td>\n",
              "      <td>7.0</td>\n",
              "      <td>9.1</td>\n",
              "      <td>8.6</td>\n",
              "      <td>6.1</td>\n",
              "      <td>7.0</td>\n",
              "      <td>5.6</td>\n",
              "      <td>9.0</td>\n",
              "      <td>8.2</td>\n",
              "      <td>7.1</td>\n",
              "      <td>8.8</td>\n",
              "      <td>7.6</td>\n",
              "      <td>6.9</td>\n",
              "      <td>7.3</td>\n",
              "      <td>7.2</td>\n",
              "      <td>9.0</td>\n",
              "      <td>8.1</td>\n",
              "      <td>8.4</td>\n",
              "      <td>8.5</td>\n",
              "      <td>7.6</td>\n",
              "      <td>5.5</td>\n",
              "      <td>8.0</td>\n",
              "      <td>6.6</td>\n",
              "      <td>8.6</td>\n",
              "      <td>6.9</td>\n",
              "      <td>7.0</td>\n",
              "      <td>8.9</td>\n",
              "      <td>8.6</td>\n",
              "      <td>5.6</td>\n",
              "      <td>5.3</td>\n",
              "      <td>7.1</td>\n",
              "      <td>8.3</td>\n",
              "      <td>8.0</td>\n",
              "      <td>7.8</td>\n",
              "      <td>8.6</td>\n",
              "      <td>7.3</td>\n",
              "      <td>6.2</td>\n",
              "      <td>3.9</td>\n",
              "      <td>5.7</td>\n",
              "      <td>8.6</td>\n",
              "      <td>8.1</td>\n",
              "      <td>7.9</td>\n",
              "      <td>8.3</td>\n",
              "      <td>7.9</td>\n",
              "      <td>6.4</td>\n",
              "      <td>6.4</td>\n",
              "      <td>6.7</td>\n",
              "      <td>8.7</td>\n",
              "      <td>M</td>\n",
              "      <td>0.0</td>\n",
              "      <td>2</td>\n",
              "      <td>6.75</td>\n",
              "      <td>6.50</td>\n",
              "      <td>4.25</td>\n",
              "      <td>D1</td>\n",
              "      <td>7.43</td>\n",
              "      <td>7.72</td>\n",
              "      <td>7.49</td>\n",
              "      <td>K</td>\n",
              "      <td>K</td>\n",
              "      <td>K</td>\n",
              "      <td>2.972</td>\n",
              "      <td>3.088</td>\n",
              "      <td>2.996</td>\n",
              "      <td>1.0</td>\n",
              "      <td>7.49</td>\n",
              "    </tr>\n",
              "    <tr>\n",
              "      <th>23</th>\n",
              "      <td>23</td>\n",
              "      <td>23</td>\n",
              "      <td>23</td>\n",
              "      <td>24</td>\n",
              "      <td>5.3</td>\n",
              "      <td>6.3</td>\n",
              "      <td>5.7</td>\n",
              "      <td>6.9</td>\n",
              "      <td>5.9</td>\n",
              "      <td>7.5</td>\n",
              "      <td>6.6</td>\n",
              "      <td>5.1</td>\n",
              "      <td>6.4</td>\n",
              "      <td>6.9</td>\n",
              "      <td>4.7</td>\n",
              "      <td>7.4</td>\n",
              "      <td>6.1</td>\n",
              "      <td>8.4</td>\n",
              "      <td>6.4</td>\n",
              "      <td>4.4</td>\n",
              "      <td>6.1</td>\n",
              "      <td>5.8</td>\n",
              "      <td>5.1</td>\n",
              "      <td>7.4</td>\n",
              "      <td>6.7</td>\n",
              "      <td>7.1</td>\n",
              "      <td>6.7</td>\n",
              "      <td>4.3</td>\n",
              "      <td>5.0</td>\n",
              "      <td>3.5</td>\n",
              "      <td>4.5</td>\n",
              "      <td>7.3</td>\n",
              "      <td>6.1</td>\n",
              "      <td>8.8</td>\n",
              "      <td>7.9</td>\n",
              "      <td>3.9</td>\n",
              "      <td>5.3</td>\n",
              "      <td>5.5</td>\n",
              "      <td>6.3</td>\n",
              "      <td>6.7</td>\n",
              "      <td>6.7</td>\n",
              "      <td>7.5</td>\n",
              "      <td>6.7</td>\n",
              "      <td>4.5</td>\n",
              "      <td>6.1</td>\n",
              "      <td>6.8</td>\n",
              "      <td>6.4</td>\n",
              "      <td>6.4</td>\n",
              "      <td>7.6</td>\n",
              "      <td>8.8</td>\n",
              "      <td>6.1</td>\n",
              "      <td>5.2</td>\n",
              "      <td>M</td>\n",
              "      <td>0.0</td>\n",
              "      <td>2NT</td>\n",
              "      <td>6.75</td>\n",
              "      <td>5.25</td>\n",
              "      <td>5.00</td>\n",
              "      <td>C</td>\n",
              "      <td>6.05</td>\n",
              "      <td>6.32</td>\n",
              "      <td>6.71</td>\n",
              "      <td>TB</td>\n",
              "      <td>TB</td>\n",
              "      <td>K</td>\n",
              "      <td>2.420</td>\n",
              "      <td>2.528</td>\n",
              "      <td>2.684</td>\n",
              "      <td>1.0</td>\n",
              "      <td>6.71</td>\n",
              "    </tr>\n",
              "    <tr>\n",
              "      <th>24</th>\n",
              "      <td>24</td>\n",
              "      <td>24</td>\n",
              "      <td>24</td>\n",
              "      <td>25</td>\n",
              "      <td>2.4</td>\n",
              "      <td>4.1</td>\n",
              "      <td>3.6</td>\n",
              "      <td>5.5</td>\n",
              "      <td>5.9</td>\n",
              "      <td>5.6</td>\n",
              "      <td>4.9</td>\n",
              "      <td>4.2</td>\n",
              "      <td>3.3</td>\n",
              "      <td>5.7</td>\n",
              "      <td>4.9</td>\n",
              "      <td>5.3</td>\n",
              "      <td>5.7</td>\n",
              "      <td>4.5</td>\n",
              "      <td>5.6</td>\n",
              "      <td>4.8</td>\n",
              "      <td>3.9</td>\n",
              "      <td>4.6</td>\n",
              "      <td>4.6</td>\n",
              "      <td>6.9</td>\n",
              "      <td>5.7</td>\n",
              "      <td>8.0</td>\n",
              "      <td>5.1</td>\n",
              "      <td>4.7</td>\n",
              "      <td>3.3</td>\n",
              "      <td>5.3</td>\n",
              "      <td>5.6</td>\n",
              "      <td>6.9</td>\n",
              "      <td>7.2</td>\n",
              "      <td>7.3</td>\n",
              "      <td>6.1</td>\n",
              "      <td>3.6</td>\n",
              "      <td>4.4</td>\n",
              "      <td>5.0</td>\n",
              "      <td>4.4</td>\n",
              "      <td>5.6</td>\n",
              "      <td>6.8</td>\n",
              "      <td>4.0</td>\n",
              "      <td>5.0</td>\n",
              "      <td>5.2</td>\n",
              "      <td>3.8</td>\n",
              "      <td>6.3</td>\n",
              "      <td>4.5</td>\n",
              "      <td>6.6</td>\n",
              "      <td>7.1</td>\n",
              "      <td>4.1</td>\n",
              "      <td>5.7</td>\n",
              "      <td>5.1</td>\n",
              "      <td>F</td>\n",
              "      <td>0.0</td>\n",
              "      <td>1</td>\n",
              "      <td>7.00</td>\n",
              "      <td>2.25</td>\n",
              "      <td>5.25</td>\n",
              "      <td>C</td>\n",
              "      <td>4.45</td>\n",
              "      <td>4.88</td>\n",
              "      <td>5.41</td>\n",
              "      <td>TB</td>\n",
              "      <td>TB</td>\n",
              "      <td>TB</td>\n",
              "      <td>1.780</td>\n",
              "      <td>1.952</td>\n",
              "      <td>2.164</td>\n",
              "      <td>0.0</td>\n",
              "      <td>5.41</td>\n",
              "    </tr>\n",
              "    <tr>\n",
              "      <th>97</th>\n",
              "      <td>97</td>\n",
              "      <td>97</td>\n",
              "      <td>97</td>\n",
              "      <td>98</td>\n",
              "      <td>8.8</td>\n",
              "      <td>5.5</td>\n",
              "      <td>7.4</td>\n",
              "      <td>7.7</td>\n",
              "      <td>6.2</td>\n",
              "      <td>7.3</td>\n",
              "      <td>8.1</td>\n",
              "      <td>4.5</td>\n",
              "      <td>9.5</td>\n",
              "      <td>7.3</td>\n",
              "      <td>6.0</td>\n",
              "      <td>8.4</td>\n",
              "      <td>7.0</td>\n",
              "      <td>8.4</td>\n",
              "      <td>8.8</td>\n",
              "      <td>6.5</td>\n",
              "      <td>9.5</td>\n",
              "      <td>6.6</td>\n",
              "      <td>6.4</td>\n",
              "      <td>7.6</td>\n",
              "      <td>7.0</td>\n",
              "      <td>9.6</td>\n",
              "      <td>9.3</td>\n",
              "      <td>6.7</td>\n",
              "      <td>8.5</td>\n",
              "      <td>6.9</td>\n",
              "      <td>5.8</td>\n",
              "      <td>8.4</td>\n",
              "      <td>8.0</td>\n",
              "      <td>8.9</td>\n",
              "      <td>9.6</td>\n",
              "      <td>7.1</td>\n",
              "      <td>9.0</td>\n",
              "      <td>7.1</td>\n",
              "      <td>6.7</td>\n",
              "      <td>5.7</td>\n",
              "      <td>6.9</td>\n",
              "      <td>8.6</td>\n",
              "      <td>8.6</td>\n",
              "      <td>5.9</td>\n",
              "      <td>8.5</td>\n",
              "      <td>7.1</td>\n",
              "      <td>6.2</td>\n",
              "      <td>8.6</td>\n",
              "      <td>7.0</td>\n",
              "      <td>9.6</td>\n",
              "      <td>8.4</td>\n",
              "      <td>5.8</td>\n",
              "      <td>M</td>\n",
              "      <td>0.0</td>\n",
              "      <td>2NT</td>\n",
              "      <td>7.00</td>\n",
              "      <td>8.00</td>\n",
              "      <td>4.00</td>\n",
              "      <td>C</td>\n",
              "      <td>7.05</td>\n",
              "      <td>7.84</td>\n",
              "      <td>7.67</td>\n",
              "      <td>K</td>\n",
              "      <td>K</td>\n",
              "      <td>K</td>\n",
              "      <td>2.820</td>\n",
              "      <td>3.136</td>\n",
              "      <td>3.068</td>\n",
              "      <td>1.0</td>\n",
              "      <td>7.67</td>\n",
              "    </tr>\n",
              "  </tbody>\n",
              "</table>\n",
              "<p>100 rows × 70 columns</p>\n",
              "</div>"
            ],
            "text/plain": [
              "    Unnamed: 0  Unnamed: 0.1  Unnamed: 0.1.1  ...  US_TBM13  KQXT  TBM3.1\n",
              "53          53            53              53  ...     2.408   0.0    6.02\n",
              "43          43            43              43  ...     2.708   0.0    6.77\n",
              "72          72            72              72  ...     2.488   0.0    6.22\n",
              "5            5             5               5  ...     2.952   0.0    7.38\n",
              "87          87            87              87  ...     2.592   0.0    6.48\n",
              "..         ...           ...             ...  ...       ...   ...     ...\n",
              "84          84            84              84  ...     3.032   1.0    7.58\n",
              "11          11            11              11  ...     2.996   1.0    7.49\n",
              "23          23            23              23  ...     2.684   1.0    6.71\n",
              "24          24            24              24  ...     2.164   0.0    5.41\n",
              "97          97            97              97  ...     3.068   1.0    7.67\n",
              "\n",
              "[100 rows x 70 columns]"
            ]
          },
          "metadata": {},
          "execution_count": 20
        }
      ]
    },
    {
      "cell_type": "code",
      "metadata": {
        "id": "1B--6c_r25d_"
      },
      "source": [
        "# Câu 2 Hãy sắp xếp dữ liệu điểm DH2 tăng dần theo nhóm giới tính"
      ],
      "execution_count": 21,
      "outputs": []
    },
    {
      "cell_type": "code",
      "metadata": {
        "colab": {
          "base_uri": "https://localhost:8080/"
        },
        "id": "bO-kvmKd2-tV",
        "outputId": "c99acf64-1839-477c-dd2d-46efffe81c18"
      },
      "source": [
        "#\n",
        "#CT:  df [df[\"Cột\"]== \"Giá trị muốn lọc\"], và mình muốn lọc lấy nam \n",
        "print(\" GIỚI TÍNH NAM \")\n",
        "df_gioinam = df[df[\"GT\"] == \"M\"] # nó chỉ lấy M mà không lấy F\n",
        "print(df_gioinam.sort_values(by = \"DH2\"))# xuất ra kết quả, để ý cột GT , xem cột GT và DH2 \n",
        "print(\" GIỚI TÍNH NỮ \") \n",
        "df_gioinu = df[df[\"GT\"] == \"F\"] # nó chỉ lấy F mà không lấy M \n",
        "print(df_gioinu.sort_values(by = \"DH2\")) \n"
      ],
      "execution_count": null,
      "outputs": [
        {
          "output_type": "stream",
          "name": "stdout",
          "text": [
            " GIỚI TÍNH NAM \n",
            "    STT   T1   L1   H1   S1   V1   X1  ...  GT   DT   KV   DH1   DH2   DH3  KT\n",
            "99  100  4.1  5.2  4.9  5.3  5.5  5.4  ...   M  NaN  2NT  5.25  2.50  4.25   C\n",
            "94   95  5.8  5.9  7.6  6.1  5.3  8.1  ...   M  NaN    1  4.25  2.50  4.75   A\n",
            "62   63  6.4  7.2  8.1  8.5  6.2  8.8  ...   M  NaN    1  4.25  2.75  3.25   A\n",
            "15   16  2.5  5.3  4.9  8.2  6.9  6.0  ...   M  NaN    1  3.75  3.00  6.50  D1\n",
            "38   39  4.4  5.6  5.2  6.4  5.9  6.7  ...   M  NaN    1  2.00  3.00  5.25   A\n",
            "75   76  5.5  4.0  4.3  5.6  3.3  5.9  ...   M  NaN    1  4.75  3.50  3.25   A\n",
            "63   64  7.5  7.6  7.8  7.9  5.7  8.1  ...   M  NaN    1  2.25  3.50  5.00   A\n",
            "98   99  2.7  1.8  3.4  5.3  4.5  7.9  ...   M  NaN    1  5.00  3.50  5.50   C\n",
            "36   37  7.3  4.8  4.9  4.6  4.0  5.1  ...   M  NaN    1  4.25  3.50  2.75   A\n",
            "60   61  6.2  7.8  7.8  8.0  5.1  7.4  ...   M  NaN    1  2.50  3.50  6.50   A\n",
            "65   66  3.0  4.0  3.8  6.6  5.4  5.4  ...   M  NaN    1  2.00  3.75  4.75   A\n",
            "29   30  4.5  3.8  4.8  5.9  4.3  6.2  ...   M  NaN    1  2.75  3.75  5.00  D1\n",
            "69   70  6.0  5.9  6.0  5.3  4.8  7.1  ...   M  NaN    1  2.25  3.75  6.25   B\n",
            "64   65  7.1  6.2  8.4  7.3  6.4  6.7  ...   M  6.0    2  4.25  3.75  6.00   A\n",
            "5     6  9.3  7.6  7.9  8.6  7.0  7.3  ...   M  NaN    1  1.50  4.00  6.00  D1\n",
            "59   60  3.6  4.6  5.0  6.9  5.2  4.5  ...   M  1.0    1  3.00  4.00  4.00  D1\n",
            "77   78  5.2  3.6  3.8  7.1  5.3  4.8  ...   M  NaN    1  3.25  4.00  4.00   B\n",
            "39   40  4.3  5.0  4.8  1.9  3.1  6.1  ...   M  NaN    1  2.75  4.00  4.00  A1\n",
            "1     2  5.4  3.9  3.9  4.0  5.4  5.4  ...   M  NaN    1  6.00  4.00  3.50   C\n",
            "87   88  7.3  4.3  5.3  5.8  4.9  3.7  ...   M  NaN    1  1.75  4.00  4.50   A\n",
            "88   89  5.2  6.0  4.7  6.2  3.9  6.6  ...   M  NaN    1  3.75  4.00  3.50   A\n",
            "33   34  6.4  4.6  6.4  5.9  5.7  7.2  ...   M  NaN    1  2.25  4.00  4.25   A\n",
            "90   91  8.1  7.7  9.1  8.5  6.1  8.6  ...   M  NaN    2  6.25  4.00  6.50   A\n",
            "3     4  6.6  6.4  5.3  6.9  5.4  7.3  ...   M  NaN    1  4.25  4.25  5.25  D1\n",
            "93   94  5.2  5.2  6.8  7.9  6.6  8.9  ...   M  NaN    1  3.50  4.25  5.00   A\n",
            "84   85  8.4  7.4  6.0  7.8  6.3  7.2  ...   M  NaN    1  6.50  4.50  8.00   A\n",
            "72   73  5.5  6.6  7.2  7.6  5.5  6.7  ...   M  NaN    1  1.50  4.50  5.50   A\n",
            "67   68  4.6  4.9  5.3  5.7  4.5  5.0  ...   M  NaN    1  4.50  4.50  5.50   B\n",
            "81   82  5.7  5.0  4.7  5.7  4.7  5.5  ...   M  NaN    1  2.50  4.50  4.25   A\n",
            "78   79  5.3  4.3  5.9  7.7  6.8  6.9  ...   M  NaN    1  3.50  4.50  4.25   B\n",
            "66   67  5.1  3.7  4.7  5.5  5.1  4.5  ...   M  NaN  2NT  4.00  4.50  3.25   A\n",
            "4     5  6.0  5.0  6.0  7.3  6.5  7.7  ...   M  NaN  2NT  4.25  4.50  5.00   A\n",
            "34   35  4.7  7.2  7.4  7.6  6.3  7.7  ...   M  NaN  2NT  2.50  4.50  4.50   A\n",
            "17   18  5.4  6.0  4.9  5.5  4.2  7.3  ...   M  NaN    1  4.25  4.50  5.00   A\n",
            "91   92  7.8  6.5  6.7  5.4  6.2  4.8  ...   M  NaN  2NT  4.75  4.75  4.50   A\n",
            "31   32  2.6  4.6  4.6  3.6  4.2  5.4  ...   M  NaN    1  4.50  4.75  5.50   A\n",
            "86   87  6.3  6.5  8.1  7.7  6.7  5.4  ...   M  NaN  2NT  2.00  4.75  6.50   A\n",
            "18   19  5.6  4.8  7.3  3.9  5.5  6.0  ...   M  NaN    1  3.25  4.75  3.50   A\n",
            "20   21  3.9  3.9  6.0  6.7  6.1  4.8  ...   M  NaN    1  2.75  5.00  4.25   A\n",
            "35   36  6.5  4.4  6.5  5.7  6.4  6.9  ...   M  NaN    2  2.50  5.00  5.00   A\n",
            "58   59  6.5  5.8  7.4  7.7  7.2  7.5  ...   M  NaN  2NT  2.25  5.25  6.00   A\n",
            "92   93  5.0  6.6  6.5  7.2  5.8  6.7  ...   M  NaN    1  3.25  5.25  4.25   A\n",
            "28   29  6.3  6.4  6.6  6.7  6.6  8.1  ...   M  NaN  2NT  3.25  5.25  3.75   A\n",
            "37   38  3.4  4.2  3.7  4.4  6.1  4.6  ...   M  NaN    2  2.25  5.25  4.50   A\n",
            "23   24  5.3  6.3  5.7  6.9  5.9  7.5  ...   M  NaN  2NT  6.75  5.25  5.00   C\n",
            "53   54  4.9  5.9  6.2  5.6  5.9  5.0  ...   M  NaN    1  1.00  5.50  4.25   A\n",
            "89   90  5.7  4.6  5.9  5.7  4.7  4.3  ...   M  NaN    1  2.00  5.50  5.50   A\n",
            "68   69  7.3  6.4  6.9  7.5  6.2  8.4  ...   M  NaN    1  3.75  6.00  4.50   B\n",
            "47   48  7.9  7.6  8.4  8.6  6.2  7.5  ...   M  NaN    2  4.75  6.50  8.00   A\n",
            "11   12  7.9  7.0  9.1  8.6  6.1  7.0  ...   M  NaN    2  6.75  6.50  4.25  D1\n",
            "2     3  5.6  6.8  7.2  7.5  4.3  7.4  ...   M  NaN    1  5.00  6.75  4.00   C\n",
            "97   98  8.8  5.5  7.4  7.7  6.2  7.3  ...   M  NaN  2NT  7.00  8.00  4.00   C\n",
            "\n",
            "[52 rows x 56 columns]\n",
            " GIỚI TÍNH NỮ \n",
            "    STT   T1   L1   H1   S1   V1   X1  ...  GT   DT   KV   DH1   DH2   DH3  KT\n",
            "95   96  8.6  6.9  7.4  8.8  7.6  5.8  ...   F  NaN    1  5.25  1.50  6.25   C\n",
            "25   26  3.6  5.8  6.9  6.1  5.5  7.2  ...   F  NaN    1  4.75  2.00  5.50   C\n",
            "24   25  2.4  4.1  3.6  5.5  5.9  5.6  ...   F  NaN    1  7.00  2.25  5.25   C\n",
            "46   47  6.7  6.8  6.4  5.9  5.6  6.4  ...   F  NaN    1  5.25  2.25  5.25  D1\n",
            "13   14  4.9  5.4  5.0  5.0  5.8  7.0  ...   F  NaN    1  2.50  2.75  5.50  D1\n",
            "21   22  5.0  5.1  6.3  4.5  6.8  5.8  ...   F  NaN    1  3.50  3.00  4.50  D1\n",
            "0     1  7.2  7.3  6.3  7.3  7.0  7.9  ...   F  NaN  2NT  3.25  3.25  4.50  A1\n",
            "51   52  6.0  5.3  8.5  6.6  7.6  7.5  ...   F  NaN    1  2.50  3.25  5.00   A\n",
            "52   53  5.3  7.0  7.0  7.3  6.7  8.4  ...   F  NaN  2NT  3.75  3.50  4.50  D1\n",
            "30   31  7.6  7.2  5.4  5.6  5.6  6.7  ...   F  NaN    1  5.00  3.50  5.50  D1\n",
            "61   62  7.2  5.5  6.5  6.9  8.0  7.2  ...   F  NaN    1  3.50  3.50  4.25   A\n",
            "74   75  4.2  5.6  5.0  8.4  6.3  8.2  ...   F  NaN    1  5.25  3.50  4.50   A\n",
            "22   23  5.0  4.5  5.3  6.8  4.8  5.5  ...   F  NaN    2  5.00  3.50  6.00   C\n",
            "8     9  6.5  6.3  7.6  6.0  5.5  7.1  ...   F  NaN    1  3.50  3.50  6.75  D1\n",
            "79   80  4.8  3.9  5.5  4.9  5.6  4.1  ...   F  NaN  2NT  2.00  3.50  5.50  A1\n",
            "80   81  8.2  6.5  5.1  6.1  6.6  8.7  ...   F  NaN  2NT  4.50  3.50  4.75   A\n",
            "43   44  6.6  7.2  5.9  6.9  7.6  8.1  ...   F  1.0    2  1.25  3.50  5.00  D1\n",
            "42   43  7.0  7.4  7.5  8.3  8.7  8.0  ...   F  NaN    1  5.75  3.50  4.25  D1\n",
            "54   55  5.3  5.7  5.4  4.6  4.4  6.6  ...   F  NaN    2  4.50  3.75  4.50  D1\n",
            "96   97  3.7  5.4  6.0  5.1  5.5  3.9  ...   F  NaN    1  5.25  3.75  4.75   C\n",
            "40   41  5.3  6.3  8.4  7.3  5.8  8.5  ...   F  NaN    2  5.00  3.75  5.75  D1\n",
            "44   45  6.1  6.9  5.9  6.6  6.0  7.0  ...   F  NaN  2NT  3.75  4.00  4.00   A\n",
            "76   77  5.4  6.8  7.1  7.2  5.6  6.8  ...   F  NaN  2NT  3.25  4.00  3.50   A\n",
            "19   20  8.2  7.3  7.8  7.6  5.6  7.2  ...   F  NaN    2  3.50  4.00  4.00   A\n",
            "48   49  7.9  6.0  6.4  7.4  8.0  7.1  ...   F  NaN    2  5.00  4.00  6.75  D1\n",
            "10   11  5.2  6.4  7.4  7.0  7.1  8.1  ...   F  NaN    2  3.00  4.00  5.50  D1\n",
            "16   17  8.8  7.0  7.7  7.1  6.1  5.4  ...   F  NaN    1  3.50  4.00  3.50   A\n",
            "7     8  8.3  6.0  7.6  5.1  7.5  4.7  ...   F  NaN    2  3.75  4.50  4.25  D1\n",
            "73   74  5.2  3.1  4.7  5.8  6.1  3.1  ...   F  NaN    1  2.00  4.50  3.75   A\n",
            "70   71  5.8  6.3  6.0  6.5  6.7  7.6  ...   F  NaN    2  2.25  4.50  7.25   A\n",
            "12   13  7.3  6.3  8.7  7.7  6.6  8.5  ...   F  NaN    1  2.00  4.50  5.00  D1\n",
            "41   42  8.3  8.0  9.0  8.3  7.9  8.3  ...   F  NaN    2  4.00  4.50  5.75   A\n",
            "49   50  8.2  7.2  8.4  5.9  5.9  6.4  ...   F  NaN  2NT  3.25  4.50  4.00  A1\n",
            "45   46  6.9  5.3  7.1  5.7  7.0  8.4  ...   F  NaN    2  2.00  4.50  5.00   A\n",
            "26   27  4.9  4.8  5.0  5.4  5.2  5.3  ...   F  NaN    1  5.25  4.50  4.75   C\n",
            "32   33  6.0  6.8  7.1  7.3  6.6  7.1  ...   F  NaN    2  4.50  4.50  4.75  D1\n",
            "14   15  7.1  8.0  9.1  7.5  6.1  7.7  ...   F  NaN  2NT  3.50  4.50  6.50   A\n",
            "55   56  7.9  6.9  7.0  7.0  7.0  3.9  ...   F  NaN  2NT  4.25  4.75  3.25  A1\n",
            "71   72  3.0  5.1  3.0  6.4  4.3  4.8  ...   F  NaN    1  3.50  4.75  3.50   B\n",
            "9    10  7.3  5.9  4.7  7.1  6.7  7.9  ...   F  NaN    1  4.00  4.75  5.50  D1\n",
            "83   84  5.9  5.7  7.1  6.7  6.5  8.0  ...   F  NaN    1  1.75  4.75  6.00   B\n",
            "27   28  8.1  5.5  5.1  5.6  6.2  6.2  ...   F  NaN  2NT  5.25  5.00  3.50   C\n",
            "50   51  5.5  7.1  6.1  5.8  6.2  6.9  ...   F  NaN    1  2.00  5.25  3.50   A\n",
            "57   58  7.2  7.6  6.6  6.6  5.0  7.1  ...   F  NaN    1  2.00  5.50  5.00  A1\n",
            "56   57  6.3  6.9  6.9  6.9  6.8  6.2  ...   F  NaN    1  6.00  5.50  5.00   A\n",
            "85   86  7.2  6.6  6.8  6.7  7.1  6.4  ...   F  NaN  2NT  3.75  5.75  4.75   B\n",
            "82   83  5.1  5.9  5.9  4.5  6.2  5.3  ...   F  NaN    1  3.25  6.00  4.25   B\n",
            "6     7  2.8  3.9  5.5  6.9  5.0  7.3  ...   F  NaN    2  6.50  6.75  5.25   C\n",
            "\n",
            "[48 rows x 56 columns]\n"
          ]
        }
      ]
    },
    {
      "cell_type": "code",
      "metadata": {
        "id": "SHQhVjP190Nh"
      },
      "source": [
        "# Câu Hãy tạo pivot-table để thống kê các giá trị count, sum, mean, median, min, max, sdt, Q1,Q2 và Q3 của DH1 theo KT"
      ],
      "execution_count": null,
      "outputs": []
    },
    {
      "cell_type": "code",
      "metadata": {
        "colab": {
          "base_uri": "https://localhost:8080/"
        },
        "id": "VjK-Cl9592Rg",
        "outputId": "e6dc62c4-97b1-4e22-868a-f7023129c520"
      },
      "source": [
        "#CT gôm nhóm: dùng groupby (Theo giá trị nào )[cột muốn lọc ].agg(\"count\",\"sum\",...)  \n",
        "# COUNT : đếm , sum : cộng tất cả,.... \n",
        "#Nghĩa là Tui muốn lọc ra tại cột DH1 có bao nhiêu bạn được A1,A,B,..... \n",
        "#DATAFRAME = : df\n",
        "# Tên cột : count, sum,... \n",
        "#Tên dòng: KT  , trong KT có : A, A1,B,... \n",
        "print(\"**************************************GROUP BY**************************************\")\n",
        "print(df.groupby(\"KT\")[\"DH1\"].agg([\"count\", \"sum\", \"mean\", \"median\", \"min\", \"max\",\"std\"]))\n",
        "print(\"**************************************PIVOT - TABLE**************************************\") \n",
        "# từ bảng dọc chuyển sang bảng ngang là pivot table  \n",
        "# CT của pivot_table : pd.pivot_table( tên tham số,column=[\"Tên cột\"])\n",
        "df_theo_KT = df.groupby(\"KT\")[\"DH1\"].agg([\"count\", \"sum\", \"mean\", \"median\", \"min\", \"max\",\"std\"]) \n",
        "print(pd.pivot_table(df_theo_KT,columns=\"KT\"))\n"
      ],
      "execution_count": 22,
      "outputs": [
        {
          "output_type": "stream",
          "name": "stdout",
          "text": [
            "**************************************GROUP BY**************************************\n",
            "    count     sum      mean  median   min   max       std\n",
            "KT                                                       \n",
            "A      49  163.50  3.336735    3.25  1.00  6.50  1.274296\n",
            "A1      6   17.50  2.916667    3.00  2.00  4.25  0.861201\n",
            "B       9   29.50  3.277778    3.50  1.75  4.50  0.823905\n",
            "C      14   79.25  5.660714    5.25  4.75  7.00  0.812209\n",
            "D1     22   84.25  3.829545    3.75  1.25  6.75  1.370146\n",
            "**************************************PIVOT - TABLE**************************************\n",
            "KT               A         A1          B          C         D1\n",
            "count    49.000000   6.000000   9.000000  14.000000  22.000000\n",
            "max       6.500000   4.250000   4.500000   7.000000   6.750000\n",
            "mean      3.336735   2.916667   3.277778   5.660714   3.829545\n",
            "median    3.250000   3.000000   3.500000   5.250000   3.750000\n",
            "min       1.000000   2.000000   1.750000   4.750000   1.250000\n",
            "std       1.274296   0.861201   0.823905   0.812209   1.370146\n",
            "sum     163.500000  17.500000  29.500000  79.250000  84.250000\n"
          ]
        }
      ]
    },
    {
      "cell_type": "code",
      "metadata": {
        "id": "n5rPFbPIJito"
      },
      "source": [
        "# Câu 4:Hãy tạo pivot-table để thống kê các giá trị count, sum, mean, median, min, max, sdt, Q1, Q2 và Q3 của DH1 theo KT và KV"
      ],
      "execution_count": null,
      "outputs": []
    },
    {
      "cell_type": "code",
      "metadata": {
        "id": "emMderoFWrNo",
        "colab": {
          "base_uri": "https://localhost:8080/"
        },
        "outputId": "4eaa313d-54eb-4937-f6d2-426e536180cc"
      },
      "source": [
        "df_theo_KT_KV = df.groupby([\"KT\",\"KV\"])[\"DH1\"].agg([\"count\", \"sum\", \"mean\", \"median\", \"min\", \"max\",\"std\"]) \n",
        "print( pd.pivot_table(df_theo_KT_KV,columns=[\"KT\",\"KV\"]))  "
      ],
      "execution_count": 23,
      "outputs": [
        {
          "output_type": "stream",
          "name": "stdout",
          "text": [
            "KT              A                        ...         D1                 \n",
            "KV              1          2        2NT  ...          1          2   2NT\n",
            "count   29.000000   9.000000  11.000000  ...  13.000000   8.000000  1.00\n",
            "max      6.500000   6.250000   4.750000  ...   5.750000   6.750000  3.75\n",
            "mean     3.232759   3.527778   3.454545  ...   3.596154   4.218750  3.75\n",
            "median   3.250000   3.500000   3.500000  ...   3.500000   4.500000  3.75\n",
            "min      1.000000   2.000000   2.000000  ...   1.500000   1.250000  3.75\n",
            "std      1.369194   1.427653   0.913908  ...   1.264658   1.617082   NaN\n",
            "sum     93.750000  31.750000  38.000000  ...  46.750000  33.750000  3.75\n",
            "\n",
            "[7 rows x 13 columns]\n"
          ]
        }
      ]
    },
    {
      "cell_type": "code",
      "metadata": {
        "id": "RFcvcubR4q9N",
        "colab": {
          "base_uri": "https://localhost:8080/"
        },
        "outputId": "34555621-ed50-4c41-d2e4-d93696493c80"
      },
      "source": [
        "# CÂU 5:  Hãy tạo pivot-table để thống kê các giá trị count, sum, mean, median, min, max, sdt, Q1, \n",
        "#Q2 và Q3 của DH1 theo KT, KV và DT \n",
        "df_theo_KT_KV_DT = df.groupby([\"KT\",\"KV\",\"DT\"])[\"DH1\"].agg([\"count\", \"sum\", \"mean\", \"median\", \"min\", \"max\",\"std\"])  \n",
        "print(pd.pivot_table(df_theo_KT_KV_DT,columns=[\"KT\",\"KV\",\"DT\"]))"
      ],
      "execution_count": 24,
      "outputs": [
        {
          "output_type": "stream",
          "name": "stdout",
          "text": [
            "KT              A                              ...   D1                       \n",
            "KV              1          2              2NT  ...    1          2         2NT\n",
            "DT            0.0        0.0   6.0        0.0  ...  1.0        0.0   1.0   0.0\n",
            "count   29.000000   8.000000  1.00  11.000000  ...  1.0   7.000000  1.00  1.00\n",
            "max      6.500000   6.250000  4.25   4.750000  ...  3.0   6.750000  1.25  3.75\n",
            "mean     3.232759   3.437500  4.25   3.454545  ...  3.0   4.642857  1.25  3.75\n",
            "median   3.250000   3.000000  4.25   3.500000  ...  3.0   4.500000  1.25  3.75\n",
            "min      1.000000   2.000000  4.25   2.000000  ...  3.0   3.000000  1.25  3.75\n",
            "std      1.369194   1.498511   NaN   0.913908  ...  NaN   1.171334   NaN   NaN\n",
            "sum     93.750000  27.500000  4.25  38.000000  ...  3.0  32.500000  1.25  3.75\n",
            "\n",
            "[7 rows x 16 columns]\n"
          ]
        }
      ]
    },
    {
      "cell_type": "code",
      "metadata": {
        "id": "w5GCMaS5gi1V"
      },
      "source": [
        "#Phần 2: Trình bày dữ liệu"
      ],
      "execution_count": null,
      "outputs": []
    },
    {
      "cell_type": "code",
      "metadata": {
        "id": "VttJV1jggmLO"
      },
      "source": [
        "#1. Hãy trình bày dữ liệu biến: GT"
      ],
      "execution_count": null,
      "outputs": []
    },
    {
      "cell_type": "code",
      "metadata": {
        "id": "p9Zi9hJ5hFfa"
      },
      "source": [
        "#Lập bảng tần số và tần suất\n",
        "#-Vẽ biểu đồ tần số (cột), biểu đồ tần suất (tròn) và biểu đồ tích lũy tần suất (đa giác\n",
        "#tích lũy)"
      ],
      "execution_count": null,
      "outputs": []
    },
    {
      "cell_type": "code",
      "metadata": {
        "colab": {
          "base_uri": "https://localhost:8080/",
          "height": 300
        },
        "id": "FXoigWDig1fc",
        "outputId": "c976e107-e662-4cf0-9f80-1582aea561be"
      },
      "source": [
        "\n",
        "pd.pivot_table(df.groupby('GT')['GT'].agg(['count']),columns='GT').plot.bar()"
      ],
      "execution_count": 4,
      "outputs": [
        {
          "output_type": "execute_result",
          "data": {
            "text/plain": [
              "<matplotlib.axes._subplots.AxesSubplot at 0x7f04f2004f50>"
            ]
          },
          "metadata": {},
          "execution_count": 4
        },
        {
          "output_type": "display_data",
          "data": {
            "image/png": "[encoded data removed]",
            "text/plain": [
              "<Figure size 432x288 with 1 Axes>"
            ]
          },
          "metadata": {
            "needs_background": "light"
          }
        }
      ]
    },
    {
      "cell_type": "code",
      "metadata": {
        "colab": {
          "base_uri": "https://localhost:8080/",
          "height": 280
        },
        "id": "pTHveHy1acpN",
        "outputId": "f5db1940-03fd-4cfb-fbdf-e169d5d53d78"
      },
      "source": [
        "#Biểu đồ tròn  \n",
        "#CT: plot.pie(subplots=True,autopct='%.2f %%') ,autopct='%.2f %%': ghi phần trăm\n",
        "df.groupby('GT')['GT'].agg(['count']).plot.pie(subplots=True,autopct='%.2f %%')"
      ],
      "execution_count": 3,
      "outputs": [
        {
          "output_type": "execute_result",
          "data": {
            "text/plain": [
              "array([<matplotlib.axes._subplots.AxesSubplot object at 0x7f04f1d81510>],\n",
              "      dtype=object)"
            ]
          },
          "metadata": {},
          "execution_count": 3
        },
        {
          "output_type": "display_data",
          "data": {
            "image/png": "[encoded data removed]",
            "text/plain": [
              "<Figure size 432x288 with 1 Axes>"
            ]
          },
          "metadata": {}
        }
      ]
    },
    {
      "cell_type": "code",
      "metadata": {
        "colab": {
          "base_uri": "https://localhost:8080/",
          "height": 282
        },
        "id": "O4s5yjPzhTAY",
        "outputId": "06519454-a707-4cff-d21f-8f8720d61ad5"
      },
      "source": [
        "#Biểu đồ cột  \n",
        "#CT: df [\"TÊN CỘT\"].plot.hist (bins= ), bins là khoảng cách \n",
        "df['US_TBM11'].plot.hist(bins =10)"
      ],
      "execution_count": 6,
      "outputs": [
        {
          "output_type": "execute_result",
          "data": {
            "text/plain": [
              "<matplotlib.axes._subplots.AxesSubplot at 0x7f04f0606ed0>"
            ]
          },
          "metadata": {},
          "execution_count": 6
        },
        {
          "output_type": "display_data",
          "data": {
            "image/png": "[encoded data removed]",
            "text/plain": [
              "<Figure size 432x288 with 1 Axes>"
            ]
          },
          "metadata": {
            "needs_background": "light"
          }
        }
      ]
    },
    {
      "cell_type": "code",
      "metadata": {
        "colab": {
          "base_uri": "https://localhost:8080/",
          "height": 282
        },
        "id": "exn-2Vcccfuu",
        "outputId": "e46c4de2-ece8-4ca9-8ebf-c174312151f2"
      },
      "source": [
        " df[\"US_TBM12\"].plot.hist(bins = 10)"
      ],
      "execution_count": 10,
      "outputs": [
        {
          "output_type": "execute_result",
          "data": {
            "text/plain": [
              "<matplotlib.axes._subplots.AxesSubplot at 0x7f04eb969690>"
            ]
          },
          "metadata": {},
          "execution_count": 10
        },
        {
          "output_type": "display_data",
          "data": {
            "image/png": "[encoded data removed]",
            "text/plain": [
              "<Figure size 432x288 with 1 Axes>"
            ]
          },
          "metadata": {
            "needs_background": "light"
          }
        }
      ]
    },
    {
      "cell_type": "code",
      "metadata": {
        "colab": {
          "base_uri": "https://localhost:8080/",
          "height": 282
        },
        "id": "wXq72VSLiPbP",
        "outputId": "ffc6a69b-0ffb-4021-d8e0-b18a49fb453a"
      },
      "source": [
        "df[\"US_TBM13\"].plot.hist(bins = 10)"
      ],
      "execution_count": 11,
      "outputs": [
        {
          "output_type": "execute_result",
          "data": {
            "text/plain": [
              "<matplotlib.axes._subplots.AxesSubplot at 0x7f04e9efa890>"
            ]
          },
          "metadata": {},
          "execution_count": 11
        },
        {
          "output_type": "display_data",
          "data": {
            "image/png": "[encoded data removed]",
            "text/plain": [
              "<Figure size 432x288 with 1 Axes>"
            ]
          },
          "metadata": {
            "needs_background": "light"
          }
        }
      ]
    },
    {
      "cell_type": "code",
      "metadata": {
        "id": "EzyzW8lXhMWb"
      },
      "source": [
        "#3. Hãy trình bày dữ liệu biến DT với các học sinh là nam"
      ],
      "execution_count": null,
      "outputs": []
    },
    {
      "cell_type": "code",
      "metadata": {
        "colab": {
          "base_uri": "https://localhost:8080/",
          "height": 301
        },
        "id": "VmSLMGAri2il",
        "outputId": "1b0e0e44-6559-475a-88bf-c7e9fba4946c"
      },
      "source": [
        "df_nam = df[df[\"GT\"]== \"M\"] \n",
        "df_nam_theo_DT=df_nam.groupby('DT')['DT'].agg(['count']) \n",
        "df_nam_theo_DT.plot.bar() \n",
        "\n",
        "# df_nam=df[df['GT']=='M' ]\n",
        "# df_nam_theo_DT=df_nam.groupby('DT')['DT'].agg(['count'])\n",
        "# df_nam_theo_DT.plot.bar()\n",
        "# df_nam_theo_DT_bang=pd.pivot_table(df_nam_theo_DT, values='count', columns='DT')\n",
        "# df_nam_theo_DT_bang.plot.bar()\n",
        "# df_nam_theo_DT.plot.pie(y = 'count')"
      ],
      "execution_count": 29,
      "outputs": [
        {
          "output_type": "execute_result",
          "data": {
            "text/plain": [
              "<matplotlib.axes._subplots.AxesSubplot at 0x7f04e9501d10>"
            ]
          },
          "metadata": {},
          "execution_count": 29
        },
        {
          "output_type": "display_data",
          "data": {
            "image/png": "[encoded data removed]",
            "text/plain": [
              "<Figure size 432x288 with 1 Axes>"
            ]
          },
          "metadata": {
            "needs_background": "light"
          }
        }
      ]
    },
    {
      "cell_type": "code",
      "metadata": {
        "id": "Yy6sngOZm0l1"
      },
      "source": [
        "# CÂU 4: Hãy trình bày dữ liệu biến KV với các học sinh là nam thuộc dân tộc Kinh, có điểm thỏa\n",
        "#mãn điều kiện (DH1 >= 5.0 và DH2 >= 4.0 và DH3 >= 4.0)\n"
      ],
      "execution_count": null,
      "outputs": []
    },
    {
      "cell_type": "code",
      "metadata": {
        "colab": {
          "base_uri": "https://localhost:8080/",
          "height": 280
        },
        "id": "1xUQFhONm5MC",
        "outputId": "efa3909a-b74d-40ae-f39c-a7f0ce5b175a"
      },
      "source": [
        "#BƯỚC 1: đầu tiên là lọc các bạn nam thuộc dân tộc kinh  và mãn điều kiện (DH1 >= 5.0 và DH2 >= 4.0 và DH3 >= 4.0)\n",
        "#CT LỌC : df.loc[(df[tên cột muốn lọc] == \"Gía trị muốn lọc\")&(df[tên cột muốn lọc] == \"Gía trị muốn lọc\")..,  & : dấu và \n",
        "df_KV = df.loc[(df[\"GT\"]==\"M\")& (df[\"DT\"]== 0) & (df['DH1']>= 5 )& (df['DH1']>=4) & (df['DH3']>= 4)] \n",
        "#BƯỚC 2:là groupby nó theo biến KV  \n",
        "#CT tên biến = tên muốn groupby.(\"theo cột nào \")[\"chọn cột nào\"].agg([\"count\",\"sum\",...])\n",
        "df_theo_KV = df_KV.groupby(\"KV\")[\"KV\"].agg([\"count\"]) \n",
        "#BƯỚC 3: VẼ BIỂU ĐỒ tròn, cột,.. \n",
        "#CT: + tròn TÊN BIÊN.plot.pie.(subplots=True,autopct='%.2f %%') \n",
        "df_theo_KV.plot.pie(subplots=True,autopct='%.2f %%' )\n"
      ],
      "execution_count": 43,
      "outputs": [
        {
          "output_type": "execute_result",
          "data": {
            "text/plain": [
              "array([<matplotlib.axes._subplots.AxesSubplot object at 0x7f04e940f4d0>],\n",
              "      dtype=object)"
            ]
          },
          "metadata": {},
          "execution_count": 43
        },
        {
          "output_type": "display_data",
          "data": {
            "image/png": "[encoded data removed]",
            "text/plain": [
              "<Figure size 432x288 with 1 Axes>"
            ]
          },
          "metadata": {}
        }
      ]
    },
    {
      "cell_type": "code",
      "metadata": {
        "id": "Hym1-r-rtI3N"
      },
      "source": [
        "# câu 5Hãy trình bày dữ liệu lần lượt các biến DH1, DH2, DH3 lớn hơn bằng 5.0 và thuộc khu\n",
        "#vực 2NT"
      ],
      "execution_count": null,
      "outputs": []
    },
    {
      "cell_type": "code",
      "metadata": {
        "colab": {
          "base_uri": "https://localhost:8080/",
          "height": 295
        },
        "id": "TM9j2sK_tNBX",
        "outputId": "1064956e-463f-40fb-8a50-b3a7c4124c57"
      },
      "source": [
        "#Bước 1: lọc dữ liệu \n",
        "#CT: tên biến = df[\"CỘT MUỐN LỌC\"].loc[(df[\"cột muốn lọc\"]== \"Gía trị muốn lọc\")]  \n",
        "df_DH1 = df[\"DH1\"].loc[(df[\"DH1\"] >= 5.0) & (df[\"KV\"] ==\"2NT\") ]\n",
        "#BƯỚC 2 : vẽ biểu đồ cột \n",
        "#CT TÊN BIẾN MUỐN VẼ.plot.hist(bins=20) ,bins : khoảng cách giữa các cột \n",
        "# plt.xlabel : tên cột x \n",
        "#plt.ylabel: tên cột y \n",
        "df_DH1.plot.hist(bins = 20) \n",
        "plt.xlabel(\"Điểm\") \n",
        "plt.ylabel(\"Số người đậu\") "
      ],
      "execution_count": 51,
      "outputs": [
        {
          "output_type": "execute_result",
          "data": {
            "text/plain": [
              "Text(0, 0.5, 'Số người đậu')"
            ]
          },
          "metadata": {},
          "execution_count": 51
        },
        {
          "output_type": "display_data",
          "data": {
            "image/png": "[encoded data removed]",
            "text/plain": [
              "<Figure size 432x288 with 1 Axes>"
            ]
          },
          "metadata": {
            "needs_background": "light"
          }
        }
      ]
    },
    {
      "cell_type": "code",
      "metadata": {
        "colab": {
          "base_uri": "https://localhost:8080/",
          "height": 295
        },
        "id": "G0L-QrsIw-lO",
        "outputId": "511a48b4-4695-44d4-a7a7-bf9054991df8"
      },
      "source": [
        "df_DH2 = df[\"DH2\"].loc[(df[\"DH2\"]>= 5.0)& (df[\"KV\"] ==\"2NT\")] \n",
        "df_DH2.plot.hist(bins = 20) \n",
        "plt.xlabel(\"Điểm\") \n",
        "plt.ylabel(\"Số người đậu\")"
      ],
      "execution_count": 52,
      "outputs": [
        {
          "output_type": "execute_result",
          "data": {
            "text/plain": [
              "Text(0, 0.5, 'Số người đậu')"
            ]
          },
          "metadata": {},
          "execution_count": 52
        },
        {
          "output_type": "display_data",
          "data": {
            "image/png": "[encoded data removed]",
            "text/plain": [
              "<Figure size 432x288 with 1 Axes>"
            ]
          },
          "metadata": {
            "needs_background": "light"
          }
        }
      ]
    },
    {
      "cell_type": "code",
      "metadata": {
        "colab": {
          "base_uri": "https://localhost:8080/",
          "height": 295
        },
        "id": "WYN_PdIGx3Q_",
        "outputId": "63d04efa-bc92-44c6-a5dd-5850c040eaf4"
      },
      "source": [
        "df_DH3 = df[\"DH3\"].loc[(df[\"DH3\"]>= 5.0)& (df[\"KV\"] ==\"2NT\")] \n",
        "df_DH3.plot.hist(bins = 20) \n",
        "plt.xlabel(\"Điểm\") \n",
        "plt.ylabel(\"Số người đậu\")"
      ],
      "execution_count": 53,
      "outputs": [
        {
          "output_type": "execute_result",
          "data": {
            "text/plain": [
              "Text(0, 0.5, 'Số người đậu')"
            ]
          },
          "metadata": {},
          "execution_count": 53
        },
        {
          "output_type": "display_data",
          "data": {
            "image/png": "[encoded data removed]",
            "text/plain": [
              "<Figure size 432x288 with 1 Axes>"
            ]
          },
          "metadata": {
            "needs_background": "light"
          }
        }
      ]
    },
    {
      "cell_type": "code",
      "metadata": {
        "id": "sjjB49wu0Qtx"
      },
      "source": [
        ""
      ],
      "execution_count": null,
      "outputs": []
    }
  ]
}