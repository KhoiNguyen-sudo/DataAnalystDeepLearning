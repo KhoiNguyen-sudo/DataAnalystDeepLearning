{
  "nbformat": 4,
  "nbformat_minor": 0,
  "metadata": {
    "colab": {
      "name": "LAB1",
      "provenance": [],
      "collapsed_sections": [],
      "mount_file_id": "1uvlnviXxslP9RnT1HQg9m_ONrhue9FIu",
      "authorship_tag": "ABX9TyParX/uZFXrOJEiJYSkk1Xw",
      "include_colab_link": true
    },
    "kernelspec": {
      "name": "python3",
      "display_name": "Python 3"
    },
    "language_info": {
      "name": "python"
    }
  },
  "cells": [
    {
      "cell_type": "markdown",
      "metadata": {
        "id": "view-in-github",
        "colab_type": "text"
      },
      "source": [
        "<a href=\"https://colab.research.google.com/github/KhoiNguyen-sudo/DataAnalystDeepLearning/blob/main/LAB1.ipynb\" target=\"_parent\"><img src=\"https://colab.research.google.com/assets/colab-badge.svg\" alt=\"Open In Colab\"/></a>"
      ]
    },
    {
      "cell_type": "code",
      "metadata": {
        "id": "it7rI2VlLSOF"
      },
      "source": [
        ""
      ],
      "execution_count": null,
      "outputs": []
    },
    {
      "cell_type": "code",
      "metadata": {
        "id": "7eIWgAV8LTcD"
      },
      "source": [
        "#BUỔI 1 TRÊN LỚP"
      ],
      "execution_count": null,
      "outputs": []
    },
    {
      "cell_type": "code",
      "metadata": {
        "id": "m7DM4_2Jf2xY"
      },
      "source": [
        "# Series  là mảng 1 chiều"
      ],
      "execution_count": null,
      "outputs": []
    },
    {
      "cell_type": "code",
      "metadata": {
        "id": "yU1ldDbSgC8o"
      },
      "source": [
        "# cách dùng: đầu tiên là tạo mảng trước, sau đó mới dùng được như ở ví dụ 1 và 2"
      ],
      "execution_count": null,
      "outputs": []
    },
    {
      "cell_type": "code",
      "metadata": {
        "id": "ZDfAt8UaezG0"
      },
      "source": [
        "# thư viên pandas có 3 cấu trúc con : Series, DataFrame, Panel"
      ],
      "execution_count": null,
      "outputs": []
    },
    {
      "cell_type": "code",
      "metadata": {
        "id": "AmlV1vGZcZho"
      },
      "source": [
        "# Ví dụ 1 "
      ],
      "execution_count": null,
      "outputs": []
    },
    {
      "cell_type": "code",
      "metadata": {
        "colab": {
          "base_uri": "https://localhost:8080/"
        },
        "id": "1ABVFWO-awKR",
        "outputId": "fd3833cf-8643-436a-f4bb-a538ecb37d9a"
      },
      "source": [
        "# Cách 1\n",
        "# Đầu tiên gọi thư viên pandas để triệu hồi Series \n",
        "import pandas as pd  \n",
        "s = pd.Series([9,8,7,6,5,4,3,2])  # tạo mảng bên trong Series. Nếu không đánh chỉ mục thì mặc định index là 0,1,2,3,4,5,.... nó sẽ tự đánh chỉ mục\n",
        "print(s) # in hết ra  \n",
        "print(\"************* dòng 1\")\n",
        "print(s[1])  # truyền chỉ mục là 1, thì nó sẽ xuất tại chỉ mục l có giá trị là 8 \n",
        "print(\"*************dòng 2\")\n",
        "print(s[1:5]) # nó xuất ra cả chỉ mục và giá trị của chỉ mục đó ,\n",
        "print(\"*************dòng 3\")\n",
        "print(s[1:1]) # Nó sẽ ra rỗng  \n",
        "print(\"*************dòng 4\") \n",
        "print(s[1:2]) # nó sẽ chỉ mục và giá trị \n",
        " \n"
      ],
      "execution_count": null,
      "outputs": [
        {
          "output_type": "stream",
          "name": "stdout",
          "text": [
            "0    9\n",
            "1    8\n",
            "2    7\n",
            "3    6\n",
            "4    5\n",
            "5    4\n",
            "6    3\n",
            "7    2\n",
            "dtype: int64\n",
            "************* dòng 1\n",
            "8\n",
            "*************dòng 2\n",
            "1    8\n",
            "2    7\n",
            "3    6\n",
            "4    5\n",
            "dtype: int64\n",
            "*************dòng 3\n",
            "Series([], dtype: int64)\n",
            "*************dòng 4\n",
            "1    8\n",
            "dtype: int64\n"
          ]
        }
      ]
    },
    {
      "cell_type": "code",
      "metadata": {
        "colab": {
          "base_uri": "https://localhost:8080/"
        },
        "id": "XYBiRiH9hH9e",
        "outputId": "d5124f3a-924e-4158-d3da-b6c2b2078ddb"
      },
      "source": [
        "# Cách 2  \n",
        "# Gọi thư viện pandas \n",
        "import pandas as pd \n",
        "import numpy as np  # gọi thư viện numpy ( mảng) \n",
        "data = np.array([1,2,3,4,5]) \n",
        "s = pd.Series(data) \n",
        "print(s)\n"
      ],
      "execution_count": null,
      "outputs": [
        {
          "output_type": "stream",
          "name": "stdout",
          "text": [
            "0    1\n",
            "1    2\n",
            "2    3\n",
            "3    4\n",
            "4    5\n",
            "dtype: int64\n"
          ]
        }
      ]
    },
    {
      "cell_type": "code",
      "metadata": {
        "id": "shJDSKd7cW_6"
      },
      "source": [
        "# Ví dụ 2 "
      ],
      "execution_count": null,
      "outputs": []
    },
    {
      "cell_type": "code",
      "metadata": {
        "colab": {
          "base_uri": "https://localhost:8080/",
          "height": 132
        },
        "id": "IEHyGBSScA_E",
        "outputId": "4eb55eb1-b5d6-411f-99a2-dec9cea36098"
      },
      "source": [
        "\"\"\" muốn có cái tên cho mục index ta thực hiện như sau\"\"\" \n",
        "# Đâu tiên gọi thư viên pandas \n",
        "import pandas as pd \n",
        "s = pd.Series([9,8,7,6,5], index=[\"a\",\"b\",\"c\",\"d\",\"e\"])  \n",
        "\"\"\"bên trong Series có bao nhiêu giá trị thì bên index có bấy nhiêu( không dư, không thiếu)\"\"\"\n",
        "s # in nó ra  \n"
      ],
      "execution_count": 7,
      "outputs": [
        {
          "output_type": "error",
          "ename": "SyntaxError",
          "evalue": "ignored",
          "traceback": [
            "\u001b[0;36m  File \u001b[0;32m\"<ipython-input-7-d5c1266577ae>\"\u001b[0;36m, line \u001b[0;32m4\u001b[0m\n\u001b[0;31m    s = pd.Series(\"ten\":[9,8,7,6,5], index=[\"a\",\"b\",\"c\",\"d\",\"e\"])\u001b[0m\n\u001b[0m                       ^\u001b[0m\n\u001b[0;31mSyntaxError\u001b[0m\u001b[0;31m:\u001b[0m invalid syntax\n"
          ]
        }
      ]
    },
    {
      "cell_type": "code",
      "metadata": {
        "colab": {
          "base_uri": "https://localhost:8080/"
        },
        "id": "2Ncj2UTJdMOT",
        "outputId": "68a64393-a1ec-4c2f-9184-f8499f6a71a9"
      },
      "source": [
        "\"xem mảng giá trị bên trong Series\"\n",
        "s.values "
      ],
      "execution_count": null,
      "outputs": [
        {
          "output_type": "execute_result",
          "data": {
            "text/plain": [
              "array([9, 8, 7, 6, 5])"
            ]
          },
          "metadata": {},
          "execution_count": 14
        }
      ]
    },
    {
      "cell_type": "code",
      "metadata": {
        "colab": {
          "base_uri": "https://localhost:8080/"
        },
        "id": "7cfKLDUGddL3",
        "outputId": "6b760933-2d0b-4aa4-f61d-673a73e160e6"
      },
      "source": [
        "\"Xem chỉ mục bên trong Series\"\n",
        "s.index"
      ],
      "execution_count": null,
      "outputs": [
        {
          "output_type": "execute_result",
          "data": {
            "text/plain": [
              "Index(['a', 'b', 'c', 'd', 'e'], dtype='object')"
            ]
          },
          "metadata": {},
          "execution_count": 15
        }
      ]
    },
    {
      "cell_type": "code",
      "metadata": {
        "id": "ubyzrD7Pdldg"
      },
      "source": [
        "#DataFrame là mảng 2 chiều "
      ],
      "execution_count": null,
      "outputs": []
    },
    {
      "cell_type": "code",
      "metadata": {
        "colab": {
          "base_uri": "https://localhost:8080/"
        },
        "id": "PaLOm5XjdrOg",
        "outputId": "e5b16de1-2367-47f6-de9c-2856df0fcdc3"
      },
      "source": [
        "#Đầu tiên gọi thư viện pandas \n",
        "import pandas as pd \n",
        "# tạo mảng \n",
        "data = pd.DataFrame([1,2,3,4,5,6,7])  # tạo mảng bên trong dataFrame , mặc định columns là số 0\n",
        "print(data) # Xuất ra \n",
        "print(\"******dòng 1\") \n",
        "data1 = [['Alex',10],[\"Bob\",12],[\"nguyên\",20],\"13\",\"13\"] # tạo mảng ( chuỗi nha), dạng từ điển\n",
        "df1 = pd.DataFrame(data1,columns=[\"Name\",\"Age\"])   # đặt tên cột dùng colomns    \n",
        "print(df1) \n",
        "print(\"******dòng 2\")  \n",
        "# Đặt tên cột \n",
        "# cách 1\n",
        "data2 = {\"Tên\": [\"Nguyên\",\"Jack\",\"Linh\"],\n",
        "         \"Tuổi\": [20,15,20]} \n",
        "df2 = pd.DataFrame(data2) \n",
        "print(df2)  \n",
        "print(\"******dòng 3\")\n",
        "#cách 2  \n",
        "# cái data này được tạo từ series \n",
        "data3 = {\"one\": pd.Series([1,2,3],index = [\"a\",\"b\",\"c\"]), # NaN : nghĩa là không có số\n",
        "         \"Two\": pd.Series([6,7,8,9,10], index=[\"c\",\"d\",\"e\",\"f\",\"g\"])} \n",
        "df3 = pd.DataFrame(data3) \n",
        "print(df3) \n",
        "print(\"******dòng 4\") \n",
        "# cách 3 \n",
        "data4 = [{\"a\": 2,\"b\": 3},{\"a\": 5,\"b\": 6,\"c\": 7}] \n",
        "df4 = pd.DataFrame(data4) \n",
        "print(df4)\n",
        "\n"
      ],
      "execution_count": 16,
      "outputs": [
        {
          "output_type": "stream",
          "name": "stdout",
          "text": [
            "   0\n",
            "0  1\n",
            "1  2\n",
            "2  3\n",
            "3  4\n",
            "4  5\n",
            "5  6\n",
            "6  7\n",
            "******dòng 1\n",
            "     Name Age\n",
            "0    Alex  10\n",
            "1     Bob  12\n",
            "2  nguyên  20\n",
            "3       1   3\n",
            "4       1   3\n",
            "******dòng 2\n",
            "      Tên  Tuổi\n",
            "0  Nguyên    20\n",
            "1    Jack    15\n",
            "2    Linh    20\n",
            "******dòng 3\n",
            "   one   Two\n",
            "a  1.0   NaN\n",
            "b  2.0   NaN\n",
            "c  3.0   6.0\n",
            "d  NaN   7.0\n",
            "e  NaN   8.0\n",
            "f  NaN   9.0\n",
            "g  NaN  10.0\n",
            "******dòng 4\n",
            "   a  b    c\n",
            "0  2  3  NaN\n",
            "1  5  6  7.0\n"
          ]
        }
      ]
    },
    {
      "cell_type": "code",
      "metadata": {
        "id": "LIukwo77klQ4"
      },
      "source": [
        "# cách thêm cột "
      ],
      "execution_count": null,
      "outputs": []
    },
    {
      "cell_type": "code",
      "metadata": {
        "colab": {
          "base_uri": "https://localhost:8080/"
        },
        "id": "pnGf2-ytoBd7",
        "outputId": "ad342767-088a-4505-c2f6-f9dcaecbac28"
      },
      "source": [
        "import pandas as pd \n",
        "print(\"trước khi thêm\")\n",
        "d = {\"Họ và tên\": [\"Nguyên\",\"Ngân\",\"Linh\",\"Quân\"],\"Tuổi\": [12,14,15,16]} \n",
        "df = pd.DataFrame (d) \n",
        "print(df) \n",
        "print(\"sau khi thêm\")  \n",
        "# cách 1 \n",
        "print(\"cách 1\")\n",
        "d = {\"Họ và tên\": [\"Nguyên\",\"Ngân\",\"Linh\",\"Quân\"],\"Tuổi\": [12,14,15,16]} \n",
        "df[\"Năm sinh\"] = pd.Series([2001,2002,2003,2004]) # truyền vô bằng cách dùng Series\n",
        "print(df)  \n",
        "print(\"cách 2\")\n",
        "# cách 2 \n",
        "\n",
        "df[\"Tuổi năm sau\"] = df[\"Tuổi\"] + df[\"Năm sinh\"] \n",
        "print(df)\n",
        "\n"
      ],
      "execution_count": 24,
      "outputs": [
        {
          "output_type": "stream",
          "name": "stdout",
          "text": [
            "trước khi thêm\n",
            "  Họ và tên  Tuổi\n",
            "0    Nguyên    12\n",
            "1      Ngân    14\n",
            "2      Linh    15\n",
            "3      Quân    16\n",
            "sau khi thêm\n",
            "cách 1\n",
            "  Họ và tên  Tuổi  Năm sinh\n",
            "0    Nguyên    12      2001\n",
            "1      Ngân    14      2002\n",
            "2      Linh    15      2003\n",
            "3      Quân    16      2004\n",
            "cách 2\n",
            "  Họ và tên  Tuổi  Năm sinh  Tuổi năm sau\n",
            "0    Nguyên    12      2001          2013\n",
            "1      Ngân    14      2002          2016\n",
            "2      Linh    15      2003          2018\n",
            "3      Quân    16      2004          2020\n"
          ]
        }
      ]
    },
    {
      "cell_type": "code",
      "metadata": {
        "id": "baTyQ3uv3TvL"
      },
      "source": [
        "# CÁCH XÓA CỘT "
      ],
      "execution_count": null,
      "outputs": []
    },
    {
      "cell_type": "code",
      "metadata": {
        "colab": {
          "base_uri": "https://localhost:8080/"
        },
        "id": "jf5Q63lY3YQZ",
        "outputId": "cd6cba3f-af36-4bab-85a4-ebd191577955"
      },
      "source": [
        "import pandas as pd \n",
        "# cách 1\n",
        "data = {\"Mã số sinh viên\": [\"197ct09890\",\"197ct0000\"],\"Tên\": [\"Nguyên\",\"Chi\"],\"Năm sinh\": [\"2001\",\"2006\"]}  \n",
        "df5 = pd.DataFrame(data) \n",
        "print(df5) \n",
        "del df5[\"Mã số sinh viên\"] # xóa cột mã số sinh viên , hoặc muốn xóa hết thì del df5 là xong\n",
        "print(df5) \n",
        "# cách 2 \n",
        "df5.pop(\"Năm sinh\") \n",
        "print(df5)"
      ],
      "execution_count": 31,
      "outputs": [
        {
          "output_type": "stream",
          "name": "stdout",
          "text": [
            "  Mã số sinh viên     Tên Năm sinh\n",
            "0      197ct09890  Nguyên     2001\n",
            "1       197ct0000     Chi     2006\n",
            "      Tên Năm sinh\n",
            "0  Nguyên     2001\n",
            "1     Chi     2006\n",
            "      Tên\n",
            "0  Nguyên\n",
            "1     Chi\n"
          ]
        }
      ]
    },
    {
      "cell_type": "code",
      "metadata": {
        "id": "bNwk0HHDGKYM"
      },
      "source": [
        "# BÀI TẬP VỀ NHÀ LAB 1"
      ],
      "execution_count": null,
      "outputs": []
    },
    {
      "cell_type": "code",
      "metadata": {
        "colab": {
          "base_uri": "https://localhost:8080/",
          "height": 537
        },
        "id": "oWcQES-zLdBd",
        "outputId": "60de3a8d-243d-4e04-d916-c5937ec40a49"
      },
      "source": [
        "#Gọi thư viện pandas \n",
        "import pandas as pd \n",
        "dulieuxettuyendaihoc = pd.read_csv('https://github.com/KhoiNguyen-sudo/DataAnalystDeepLearning/blob/main/DataAnalystDeepLearning/Data/dulieuxettuyendaihoc.csv') # đọc dữ liệu trước \n",
        "print(dulieuxettuyendaihoc)"
      ],
      "execution_count": 35,
      "outputs": [
        {
          "output_type": "error",
          "ename": "ParserError",
          "evalue": "ignored",
          "traceback": [
            "\u001b[0;31m---------------------------------------------------------------------------\u001b[0m",
            "\u001b[0;31mParserError\u001b[0m                               Traceback (most recent call last)",
            "\u001b[0;32m<ipython-input-35-83210e854d6c>\u001b[0m in \u001b[0;36m<module>\u001b[0;34m()\u001b[0m\n\u001b[1;32m      1\u001b[0m \u001b[0;31m#Gọi thư viện pandas\u001b[0m\u001b[0;34m\u001b[0m\u001b[0;34m\u001b[0m\u001b[0;34m\u001b[0m\u001b[0m\n\u001b[1;32m      2\u001b[0m \u001b[0;32mimport\u001b[0m \u001b[0mpandas\u001b[0m \u001b[0;32mas\u001b[0m \u001b[0mpd\u001b[0m\u001b[0;34m\u001b[0m\u001b[0;34m\u001b[0m\u001b[0m\n\u001b[0;32m----> 3\u001b[0;31m \u001b[0mdulieuxettuyendaihoc\u001b[0m \u001b[0;34m=\u001b[0m \u001b[0mpd\u001b[0m\u001b[0;34m.\u001b[0m\u001b[0mread_csv\u001b[0m\u001b[0;34m(\u001b[0m\u001b[0;34m'https://github.com/KhoiNguyen-sudo/DataAnalystDeepLearning/blob/main/DataAnalystDeepLearning/Data/dulieuxettuyendaihoc.csv'\u001b[0m\u001b[0;34m)\u001b[0m \u001b[0;31m# đọc dữ liệu trước\u001b[0m\u001b[0;34m\u001b[0m\u001b[0;34m\u001b[0m\u001b[0m\n\u001b[0m\u001b[1;32m      4\u001b[0m \u001b[0mprint\u001b[0m\u001b[0;34m(\u001b[0m\u001b[0mdulieuxettuyendaihoc\u001b[0m\u001b[0;34m)\u001b[0m\u001b[0;34m\u001b[0m\u001b[0;34m\u001b[0m\u001b[0m\n",
            "\u001b[0;32m/usr/local/lib/python3.7/dist-packages/pandas/io/parsers.py\u001b[0m in \u001b[0;36mread_csv\u001b[0;34m(filepath_or_buffer, sep, delimiter, header, names, index_col, usecols, squeeze, prefix, mangle_dupe_cols, dtype, engine, converters, true_values, false_values, skipinitialspace, skiprows, skipfooter, nrows, na_values, keep_default_na, na_filter, verbose, skip_blank_lines, parse_dates, infer_datetime_format, keep_date_col, date_parser, dayfirst, cache_dates, iterator, chunksize, compression, thousands, decimal, lineterminator, quotechar, quoting, doublequote, escapechar, comment, encoding, dialect, error_bad_lines, warn_bad_lines, delim_whitespace, low_memory, memory_map, float_precision)\u001b[0m\n\u001b[1;32m    686\u001b[0m     )\n\u001b[1;32m    687\u001b[0m \u001b[0;34m\u001b[0m\u001b[0m\n\u001b[0;32m--> 688\u001b[0;31m     \u001b[0;32mreturn\u001b[0m \u001b[0m_read\u001b[0m\u001b[0;34m(\u001b[0m\u001b[0mfilepath_or_buffer\u001b[0m\u001b[0;34m,\u001b[0m \u001b[0mkwds\u001b[0m\u001b[0;34m)\u001b[0m\u001b[0;34m\u001b[0m\u001b[0;34m\u001b[0m\u001b[0m\n\u001b[0m\u001b[1;32m    689\u001b[0m \u001b[0;34m\u001b[0m\u001b[0m\n\u001b[1;32m    690\u001b[0m \u001b[0;34m\u001b[0m\u001b[0m\n",
            "\u001b[0;32m/usr/local/lib/python3.7/dist-packages/pandas/io/parsers.py\u001b[0m in \u001b[0;36m_read\u001b[0;34m(filepath_or_buffer, kwds)\u001b[0m\n\u001b[1;32m    458\u001b[0m \u001b[0;34m\u001b[0m\u001b[0m\n\u001b[1;32m    459\u001b[0m     \u001b[0;32mtry\u001b[0m\u001b[0;34m:\u001b[0m\u001b[0;34m\u001b[0m\u001b[0;34m\u001b[0m\u001b[0m\n\u001b[0;32m--> 460\u001b[0;31m         \u001b[0mdata\u001b[0m \u001b[0;34m=\u001b[0m \u001b[0mparser\u001b[0m\u001b[0;34m.\u001b[0m\u001b[0mread\u001b[0m\u001b[0;34m(\u001b[0m\u001b[0mnrows\u001b[0m\u001b[0;34m)\u001b[0m\u001b[0;34m\u001b[0m\u001b[0;34m\u001b[0m\u001b[0m\n\u001b[0m\u001b[1;32m    461\u001b[0m     \u001b[0;32mfinally\u001b[0m\u001b[0;34m:\u001b[0m\u001b[0;34m\u001b[0m\u001b[0;34m\u001b[0m\u001b[0m\n\u001b[1;32m    462\u001b[0m         \u001b[0mparser\u001b[0m\u001b[0;34m.\u001b[0m\u001b[0mclose\u001b[0m\u001b[0;34m(\u001b[0m\u001b[0;34m)\u001b[0m\u001b[0;34m\u001b[0m\u001b[0;34m\u001b[0m\u001b[0m\n",
            "\u001b[0;32m/usr/local/lib/python3.7/dist-packages/pandas/io/parsers.py\u001b[0m in \u001b[0;36mread\u001b[0;34m(self, nrows)\u001b[0m\n\u001b[1;32m   1196\u001b[0m     \u001b[0;32mdef\u001b[0m \u001b[0mread\u001b[0m\u001b[0;34m(\u001b[0m\u001b[0mself\u001b[0m\u001b[0;34m,\u001b[0m \u001b[0mnrows\u001b[0m\u001b[0;34m=\u001b[0m\u001b[0;32mNone\u001b[0m\u001b[0;34m)\u001b[0m\u001b[0;34m:\u001b[0m\u001b[0;34m\u001b[0m\u001b[0;34m\u001b[0m\u001b[0m\n\u001b[1;32m   1197\u001b[0m         \u001b[0mnrows\u001b[0m \u001b[0;34m=\u001b[0m \u001b[0m_validate_integer\u001b[0m\u001b[0;34m(\u001b[0m\u001b[0;34m\"nrows\"\u001b[0m\u001b[0;34m,\u001b[0m \u001b[0mnrows\u001b[0m\u001b[0;34m)\u001b[0m\u001b[0;34m\u001b[0m\u001b[0;34m\u001b[0m\u001b[0m\n\u001b[0;32m-> 1198\u001b[0;31m         \u001b[0mret\u001b[0m \u001b[0;34m=\u001b[0m \u001b[0mself\u001b[0m\u001b[0;34m.\u001b[0m\u001b[0m_engine\u001b[0m\u001b[0;34m.\u001b[0m\u001b[0mread\u001b[0m\u001b[0;34m(\u001b[0m\u001b[0mnrows\u001b[0m\u001b[0;34m)\u001b[0m\u001b[0;34m\u001b[0m\u001b[0;34m\u001b[0m\u001b[0m\n\u001b[0m\u001b[1;32m   1199\u001b[0m \u001b[0;34m\u001b[0m\u001b[0m\n\u001b[1;32m   1200\u001b[0m         \u001b[0;31m# May alter columns / col_dict\u001b[0m\u001b[0;34m\u001b[0m\u001b[0;34m\u001b[0m\u001b[0;34m\u001b[0m\u001b[0m\n",
            "\u001b[0;32m/usr/local/lib/python3.7/dist-packages/pandas/io/parsers.py\u001b[0m in \u001b[0;36mread\u001b[0;34m(self, nrows)\u001b[0m\n\u001b[1;32m   2155\u001b[0m     \u001b[0;32mdef\u001b[0m \u001b[0mread\u001b[0m\u001b[0;34m(\u001b[0m\u001b[0mself\u001b[0m\u001b[0;34m,\u001b[0m \u001b[0mnrows\u001b[0m\u001b[0;34m=\u001b[0m\u001b[0;32mNone\u001b[0m\u001b[0;34m)\u001b[0m\u001b[0;34m:\u001b[0m\u001b[0;34m\u001b[0m\u001b[0;34m\u001b[0m\u001b[0m\n\u001b[1;32m   2156\u001b[0m         \u001b[0;32mtry\u001b[0m\u001b[0;34m:\u001b[0m\u001b[0;34m\u001b[0m\u001b[0;34m\u001b[0m\u001b[0m\n\u001b[0;32m-> 2157\u001b[0;31m             \u001b[0mdata\u001b[0m \u001b[0;34m=\u001b[0m \u001b[0mself\u001b[0m\u001b[0;34m.\u001b[0m\u001b[0m_reader\u001b[0m\u001b[0;34m.\u001b[0m\u001b[0mread\u001b[0m\u001b[0;34m(\u001b[0m\u001b[0mnrows\u001b[0m\u001b[0;34m)\u001b[0m\u001b[0;34m\u001b[0m\u001b[0;34m\u001b[0m\u001b[0m\n\u001b[0m\u001b[1;32m   2158\u001b[0m         \u001b[0;32mexcept\u001b[0m \u001b[0mStopIteration\u001b[0m\u001b[0;34m:\u001b[0m\u001b[0;34m\u001b[0m\u001b[0;34m\u001b[0m\u001b[0m\n\u001b[1;32m   2159\u001b[0m             \u001b[0;32mif\u001b[0m \u001b[0mself\u001b[0m\u001b[0;34m.\u001b[0m\u001b[0m_first_chunk\u001b[0m\u001b[0;34m:\u001b[0m\u001b[0;34m\u001b[0m\u001b[0;34m\u001b[0m\u001b[0m\n",
            "\u001b[0;32mpandas/_libs/parsers.pyx\u001b[0m in \u001b[0;36mpandas._libs.parsers.TextReader.read\u001b[0;34m()\u001b[0m\n",
            "\u001b[0;32mpandas/_libs/parsers.pyx\u001b[0m in \u001b[0;36mpandas._libs.parsers.TextReader._read_low_memory\u001b[0;34m()\u001b[0m\n",
            "\u001b[0;32mpandas/_libs/parsers.pyx\u001b[0m in \u001b[0;36mpandas._libs.parsers.TextReader._read_rows\u001b[0;34m()\u001b[0m\n",
            "\u001b[0;32mpandas/_libs/parsers.pyx\u001b[0m in \u001b[0;36mpandas._libs.parsers.TextReader._tokenize_rows\u001b[0;34m()\u001b[0m\n",
            "\u001b[0;32mpandas/_libs/parsers.pyx\u001b[0m in \u001b[0;36mpandas._libs.parsers.raise_parser_error\u001b[0;34m()\u001b[0m\n",
            "\u001b[0;31mParserError\u001b[0m: Error tokenizing data. C error: Expected 1 fields in line 118, saw 2\n"
          ]
        }
      ]
    }
  ]
}